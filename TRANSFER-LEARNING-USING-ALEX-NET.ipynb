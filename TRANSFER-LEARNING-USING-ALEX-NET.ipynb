{
 "cells": [
  {
   "cell_type": "markdown",
   "metadata": {
    "cell_style": "center"
   },
   "source": [
    "## Loading libraries"
   ]
  },
  {
   "cell_type": "code",
   "execution_count": 65,
   "metadata": {
    "ExecuteTime": {
     "end_time": "2020-05-31T05:58:26.148394Z",
     "start_time": "2020-05-31T05:58:26.145649Z"
    }
   },
   "outputs": [],
   "source": [
    "import torch\n",
    "import torchvision\n",
    "from torchvision import datasets, models, transforms\n",
    "import os\n",
    "import numpy as np\n",
    "import matplotlib.pyplot as plt\n",
    "from torch.utils.data import DataLoader\n",
    "from torchvision import utils\n",
    "import torch.nn as nn\n",
    "import torch.optim as optim"
   ]
  },
  {
   "cell_type": "markdown",
   "metadata": {},
   "source": [
    "## Device configuration"
   ]
  },
  {
   "cell_type": "code",
   "execution_count": 66,
   "metadata": {
    "ExecuteTime": {
     "end_time": "2020-05-31T05:58:26.179305Z",
     "start_time": "2020-05-31T05:58:26.176628Z"
    }
   },
   "outputs": [
    {
     "name": "stdout",
     "output_type": "stream",
     "text": [
      "cuda\n"
     ]
    }
   ],
   "source": [
    "device = torch.device('cuda' if torch.cuda.is_available() else 'cpu')\n",
    "print(device)"
   ]
  },
  {
   "cell_type": "markdown",
   "metadata": {},
   "source": [
    "## Functions"
   ]
  },
  {
   "cell_type": "markdown",
   "metadata": {},
   "source": [
    "### Underline text"
   ]
  },
  {
   "cell_type": "code",
   "execution_count": 67,
   "metadata": {
    "ExecuteTime": {
     "end_time": "2020-05-31T05:58:26.223692Z",
     "start_time": "2020-05-31T05:58:26.221287Z"
    }
   },
   "outputs": [],
   "source": [
    "def underlined_text(text, char = '='):\n",
    "    length = len(text)\n",
    "    print(text)\n",
    "    print(char*length)"
   ]
  },
  {
   "cell_type": "markdown",
   "metadata": {},
   "source": [
    "### imshow()"
   ]
  },
  {
   "cell_type": "code",
   "execution_count": 68,
   "metadata": {
    "ExecuteTime": {
     "end_time": "2020-05-31T05:58:26.258540Z",
     "start_time": "2020-05-31T05:58:26.255450Z"
    }
   },
   "outputs": [],
   "source": [
    "def imshow(inp, title=None):\n",
    "    \"\"\"Imshow for Tensor.\"\"\"\n",
    "    inp = inp.numpy().transpose((1, 2, 0))\n",
    "    inp = np.clip(inp, 0, 1)\n",
    "    plt.imshow(inp)\n",
    "    if title is not None:\n",
    "        plt.title(title)\n",
    "    plt.pause(0.001)  # pause a bit so that plots are updated"
   ]
  },
  {
   "cell_type": "markdown",
   "metadata": {},
   "source": [
    "### predicted_labels()"
   ]
  },
  {
   "cell_type": "code",
   "execution_count": 69,
   "metadata": {
    "ExecuteTime": {
     "end_time": "2020-05-31T05:58:26.293361Z",
     "start_time": "2020-05-31T05:58:26.290921Z"
    }
   },
   "outputs": [],
   "source": [
    "def predicted_labels(model, imgs):\n",
    "    out = model(imgs)\n",
    "    _, pred_lbls = torch.max(out, dim=1)\n",
    "    return pred_lbls"
   ]
  },
  {
   "cell_type": "markdown",
   "metadata": {},
   "source": [
    "## Loading AlexNet pretrained model"
   ]
  },
  {
   "cell_type": "markdown",
   "metadata": {},
   "source": [
    "Note that you can construct the model with random weights calling its constructor with <b>pretrained = False</b> (default)."
   ]
  },
  {
   "cell_type": "code",
   "execution_count": 70,
   "metadata": {
    "ExecuteTime": {
     "end_time": "2020-05-31T05:58:26.988511Z",
     "start_time": "2020-05-31T05:58:26.337866Z"
    }
   },
   "outputs": [
    {
     "name": "stdout",
     "output_type": "stream",
     "text": [
      "AlexNet(\n",
      "  (features): Sequential(\n",
      "    (0): Conv2d(3, 64, kernel_size=(11, 11), stride=(4, 4), padding=(2, 2))\n",
      "    (1): ReLU(inplace=True)\n",
      "    (2): MaxPool2d(kernel_size=3, stride=2, padding=0, dilation=1, ceil_mode=False)\n",
      "    (3): Conv2d(64, 192, kernel_size=(5, 5), stride=(1, 1), padding=(2, 2))\n",
      "    (4): ReLU(inplace=True)\n",
      "    (5): MaxPool2d(kernel_size=3, stride=2, padding=0, dilation=1, ceil_mode=False)\n",
      "    (6): Conv2d(192, 384, kernel_size=(3, 3), stride=(1, 1), padding=(1, 1))\n",
      "    (7): ReLU(inplace=True)\n",
      "    (8): Conv2d(384, 256, kernel_size=(3, 3), stride=(1, 1), padding=(1, 1))\n",
      "    (9): ReLU(inplace=True)\n",
      "    (10): Conv2d(256, 256, kernel_size=(3, 3), stride=(1, 1), padding=(1, 1))\n",
      "    (11): ReLU(inplace=True)\n",
      "    (12): MaxPool2d(kernel_size=3, stride=2, padding=0, dilation=1, ceil_mode=False)\n",
      "  )\n",
      "  (avgpool): AdaptiveAvgPool2d(output_size=(6, 6))\n",
      "  (classifier): Sequential(\n",
      "    (0): Dropout(p=0.5, inplace=False)\n",
      "    (1): Linear(in_features=9216, out_features=4096, bias=True)\n",
      "    (2): ReLU(inplace=True)\n",
      "    (3): Dropout(p=0.5, inplace=False)\n",
      "    (4): Linear(in_features=4096, out_features=4096, bias=True)\n",
      "    (5): ReLU(inplace=True)\n",
      "    (6): Linear(in_features=4096, out_features=1000, bias=True)\n",
      "  )\n",
      ")\n"
     ]
    }
   ],
   "source": [
    "alex_net = models.alexnet(pretrained=True)\n",
    "print(alex_net)"
   ]
  },
  {
   "cell_type": "markdown",
   "metadata": {},
   "source": [
    "## Preparing the model for transfer learning"
   ]
  },
  {
   "cell_type": "markdown",
   "metadata": {},
   "source": [
    "### Turning off  (freezing) parameters for training"
   ]
  },
  {
   "cell_type": "markdown",
   "metadata": {},
   "source": [
    "We need to keep pre-trained values of the model and only to train the last layers (classifier). Therefore, we first freeze all parameters of the model."
   ]
  },
  {
   "cell_type": "code",
   "execution_count": 71,
   "metadata": {
    "ExecuteTime": {
     "end_time": "2020-05-31T05:58:26.992010Z",
     "start_time": "2020-05-31T05:58:26.989804Z"
    }
   },
   "outputs": [],
   "source": [
    "for param in alex_net.parameters():\n",
    "    param.requires_grad = False"
   ]
  },
  {
   "cell_type": "markdown",
   "metadata": {
    "ExecuteTime": {
     "end_time": "2020-05-28T04:25:13.152898Z",
     "start_time": "2020-05-28T04:25:13.143894Z"
    }
   },
   "source": [
    "### Final layer of the classifier"
   ]
  },
  {
   "cell_type": "code",
   "execution_count": 72,
   "metadata": {
    "ExecuteTime": {
     "end_time": "2020-05-31T05:58:27.005748Z",
     "start_time": "2020-05-31T05:58:26.993335Z"
    }
   },
   "outputs": [
    {
     "name": "stdout",
     "output_type": "stream",
     "text": [
      "Linear(in_features=4096, out_features=1000, bias=True)\n"
     ]
    }
   ],
   "source": [
    "print(alex_net.classifier[6])"
   ]
  },
  {
   "cell_type": "markdown",
   "metadata": {},
   "source": [
    "### Replacing the final layer with custom layers"
   ]
  },
  {
   "cell_type": "markdown",
   "metadata": {},
   "source": [
    "Here, we are going to replace the final layer (of classifier) with custom linear layers."
   ]
  },
  {
   "cell_type": "code",
   "execution_count": 73,
   "metadata": {
    "ExecuteTime": {
     "end_time": "2020-05-31T05:58:27.019126Z",
     "start_time": "2020-05-31T05:58:27.007275Z"
    }
   },
   "outputs": [
    {
     "name": "stdout",
     "output_type": "stream",
     "text": [
      "Sequential(\n",
      "  (0): Linear(in_features=4096, out_features=256, bias=True)\n",
      "  (1): ReLU()\n",
      "  (2): Dropout(p=0.4, inplace=False)\n",
      "  (3): Linear(in_features=256, out_features=2, bias=True)\n",
      "  (4): LogSoftmax()\n",
      ")\n"
     ]
    }
   ],
   "source": [
    "alex_net.classifier[6] = nn.Sequential(\n",
    "    nn.Linear(in_features=4096, out_features=256),\n",
    "    nn.ReLU(),\n",
    "    nn.Dropout(0.4),\n",
    "    nn.Linear(in_features=256, out_features=2), # Two classes - bees and ants\n",
    "    nn.LogSoftmax(dim=1)\n",
    ")\n",
    "print(alex_net.classifier[6])"
   ]
  },
  {
   "cell_type": "markdown",
   "metadata": {},
   "source": [
    "### Checking custom layers are trainable "
   ]
  },
  {
   "cell_type": "code",
   "execution_count": 74,
   "metadata": {
    "ExecuteTime": {
     "end_time": "2020-05-31T05:58:27.023409Z",
     "start_time": "2020-05-31T05:58:27.020402Z"
    }
   },
   "outputs": [
    {
     "name": "stdout",
     "output_type": "stream",
     "text": [
      "Linear(in_features=4096, out_features=256, bias=True) layer's requires_grad is True\n",
      "Linear(in_features=4096, out_features=256, bias=True) layer's requires_grad is True\n",
      "Linear(in_features=256, out_features=2, bias=True) layer's requires_grad is True\n",
      "Linear(in_features=256, out_features=2, bias=True) layer's requires_grad is True\n"
     ]
    }
   ],
   "source": [
    "for layer in alex_net.classifier[6]:\n",
    "    for param in layer.parameters():\n",
    "        print(\"{} layer's requires_grad is {}\".format(layer, param.requires_grad))"
   ]
  },
  {
   "cell_type": "markdown",
   "metadata": {},
   "source": [
    "### Total number of trainable parameters"
   ]
  },
  {
   "cell_type": "code",
   "execution_count": 75,
   "metadata": {
    "ExecuteTime": {
     "end_time": "2020-05-31T05:58:27.029540Z",
     "start_time": "2020-05-31T05:58:27.024444Z"
    }
   },
   "outputs": [
    {
     "name": "stdout",
     "output_type": "stream",
     "text": [
      "Number of trainable parameters = 1049346\n",
      "Total number of parameters = 58053186\n",
      "% of trainable parameters =  1.81\n"
     ]
    }
   ],
   "source": [
    "ttl_params = 0\n",
    "ttl_trainable_params = 0\n",
    "for param in alex_net.parameters():\n",
    "    if param.requires_grad == True:\n",
    "        ttl_trainable_params += param.numel() # Returns the total number of elements in the tensor\n",
    "    ttl_params += param.numel()\n",
    "print(\"Number of trainable parameters = {}\\nTotal number of parameters = {}\\n% of trainable parameters = {:5.2f}\".\n",
    "      format(ttl_trainable_params, ttl_params, (ttl_trainable_params*100.0)/ttl_params))"
   ]
  },
  {
   "cell_type": "markdown",
   "metadata": {},
   "source": [
    "### Modified AlexNet"
   ]
  },
  {
   "cell_type": "code",
   "execution_count": 76,
   "metadata": {
    "ExecuteTime": {
     "end_time": "2020-05-31T05:58:27.035622Z",
     "start_time": "2020-05-31T05:58:27.030654Z"
    }
   },
   "outputs": [
    {
     "name": "stdout",
     "output_type": "stream",
     "text": [
      "AlexNet(\n",
      "  (features): Sequential(\n",
      "    (0): Conv2d(3, 64, kernel_size=(11, 11), stride=(4, 4), padding=(2, 2))\n",
      "    (1): ReLU(inplace=True)\n",
      "    (2): MaxPool2d(kernel_size=3, stride=2, padding=0, dilation=1, ceil_mode=False)\n",
      "    (3): Conv2d(64, 192, kernel_size=(5, 5), stride=(1, 1), padding=(2, 2))\n",
      "    (4): ReLU(inplace=True)\n",
      "    (5): MaxPool2d(kernel_size=3, stride=2, padding=0, dilation=1, ceil_mode=False)\n",
      "    (6): Conv2d(192, 384, kernel_size=(3, 3), stride=(1, 1), padding=(1, 1))\n",
      "    (7): ReLU(inplace=True)\n",
      "    (8): Conv2d(384, 256, kernel_size=(3, 3), stride=(1, 1), padding=(1, 1))\n",
      "    (9): ReLU(inplace=True)\n",
      "    (10): Conv2d(256, 256, kernel_size=(3, 3), stride=(1, 1), padding=(1, 1))\n",
      "    (11): ReLU(inplace=True)\n",
      "    (12): MaxPool2d(kernel_size=3, stride=2, padding=0, dilation=1, ceil_mode=False)\n",
      "  )\n",
      "  (avgpool): AdaptiveAvgPool2d(output_size=(6, 6))\n",
      "  (classifier): Sequential(\n",
      "    (0): Dropout(p=0.5, inplace=False)\n",
      "    (1): Linear(in_features=9216, out_features=4096, bias=True)\n",
      "    (2): ReLU(inplace=True)\n",
      "    (3): Dropout(p=0.5, inplace=False)\n",
      "    (4): Linear(in_features=4096, out_features=4096, bias=True)\n",
      "    (5): ReLU(inplace=True)\n",
      "    (6): Sequential(\n",
      "      (0): Linear(in_features=4096, out_features=256, bias=True)\n",
      "      (1): ReLU()\n",
      "      (2): Dropout(p=0.4, inplace=False)\n",
      "      (3): Linear(in_features=256, out_features=2, bias=True)\n",
      "      (4): LogSoftmax()\n",
      "    )\n",
      "  )\n",
      ")\n"
     ]
    }
   ],
   "source": [
    "print(alex_net)"
   ]
  },
  {
   "cell_type": "markdown",
   "metadata": {},
   "source": [
    "Added layers are trainable since their requires_grad is True."
   ]
  },
  {
   "cell_type": "markdown",
   "metadata": {
    "ExecuteTime": {
     "end_time": "2020-05-28T09:44:13.076223Z",
     "start_time": "2020-05-28T09:44:13.071064Z"
    }
   },
   "source": [
    "## Define transforms"
   ]
  },
  {
   "cell_type": "markdown",
   "metadata": {},
   "source": [
    "All pre-trained models expect input images normalized in the same way, i.e. mini-batches of 3-channel RGB images of shape (3 x H x W), where H and W are expected to be at least 224. The images have to be loaded in to a range of [0, 1] and then normalized using mean = [0.485, 0.456, 0.406] and std = [0.229, 0.224, 0.225]."
   ]
  },
  {
   "cell_type": "markdown",
   "metadata": {},
   "source": [
    "### Train transforms"
   ]
  },
  {
   "cell_type": "code",
   "execution_count": 77,
   "metadata": {
    "ExecuteTime": {
     "end_time": "2020-05-31T05:58:27.041827Z",
     "start_time": "2020-05-31T05:58:27.037321Z"
    }
   },
   "outputs": [
    {
     "name": "stdout",
     "output_type": "stream",
     "text": [
      "Train transforms\n",
      "================\n",
      "Compose(\n",
      "    RandomResizedCrop(size=(224, 224), scale=(0.08, 1.0), ratio=(0.75, 1.3333), interpolation=PIL.Image.BILINEAR)\n",
      "    RandomHorizontalFlip(p=0.5)\n",
      "    ToTensor()\n",
      "    Normalize(mean=[0.485, 0.456, 0.406], std=[0.229, 0.224, 0.225])\n",
      ")\n"
     ]
    }
   ],
   "source": [
    "train_transforms = transforms.Compose([\n",
    "    # Apply the following transformations one by one\n",
    "    transforms.RandomResizedCrop(224),  # Extract a random patch of size (224, 224)\n",
    "    transforms.RandomHorizontalFlip(),  # Horizontally flip randomely with a given probability(default = 0.5)\n",
    "    transforms.ToTensor(),              # Convert a PIL image to tensor (H,W,C) in the range [0,255] to \n",
    "                                        # a torch tensor (C,H,W) in the range [0.0, 1.0] \n",
    "                                        # where H - Height, W - Width and C - Channel\n",
    "    transforms.Normalize(\n",
    "        [0.485, 0.456, 0.406],          # Means use to normalize C, H and W respectively\n",
    "        [0.229, 0.224, 0.225])          # Std. Divs. use to normalize C, H and W respectively\n",
    "                                        # As we use a pre-trained model, we need to use the means and\n",
    "                                        # stds specified by PyTorch\n",
    "])\n",
    "\n",
    "underlined_text(\"Train transforms\")\n",
    "print(train_transforms)"
   ]
  },
  {
   "cell_type": "markdown",
   "metadata": {},
   "source": [
    "### Validation transforms"
   ]
  },
  {
   "cell_type": "code",
   "execution_count": 78,
   "metadata": {
    "ExecuteTime": {
     "end_time": "2020-05-31T05:58:27.047976Z",
     "start_time": "2020-05-31T05:58:27.043091Z"
    }
   },
   "outputs": [
    {
     "name": "stdout",
     "output_type": "stream",
     "text": [
      "Validation transforms\n",
      "=====================\n",
      "Compose(\n",
      "    Resize(size=256, interpolation=PIL.Image.BILINEAR)\n",
      "    CenterCrop(size=(224, 224))\n",
      "    ToTensor()\n",
      "    Normalize(mean=[0.485, 0.456, 0.406], std=[0.229, 0.224, 0.225])\n",
      ")\n"
     ]
    }
   ],
   "source": [
    "val_transforms = transforms.Compose([\n",
    "    transforms.Resize(256),             # Resize the image s.t. smaller side set to 256, \n",
    "                                        # the other side is scaled to maintain the aspect ration.\n",
    "    transforms.CenterCrop(224),         # Crops the center part of the image of shape (224, 224) \n",
    "    transforms.ToTensor(),\n",
    "    transforms.Normalize(\n",
    "        [0.485, 0.456, 0.406],          # Means use to normalize C, H and W respectively\n",
    "        [0.229, 0.224, 0.225])          # Std. Divs. use to normalize C, H and W respectively\n",
    "])\n",
    "\n",
    "underlined_text(\"Validation transforms\")\n",
    "print(val_transforms)"
   ]
  },
  {
   "cell_type": "markdown",
   "metadata": {},
   "source": [
    "## Loading the dataset, applying the transformations and put them into DataLoader"
   ]
  },
  {
   "cell_type": "markdown",
   "metadata": {},
   "source": [
    "### Loading datasets and applying transformations "
   ]
  },
  {
   "cell_type": "markdown",
   "metadata": {},
   "source": [
    "The 'datasets.ImageFolder' expects images to be stored in the following way:\n",
    "\n",
    "> data_dir/label/picture_name.jpg\n",
    "\n",
    "where 'label' is the name of the class. \n",
    "\n",
    "For example, all images of 'ants' and 'bees' should be in a separate folders as follows:\n",
    "\n",
    "> hymenoptera_data/train/ants<br>\n",
    "hymenoptera_data/train/bees<br>\n",
    "hymenoptera_data/val/ants<br>\n",
    "hymenoptera_data/val/bees"
   ]
  },
  {
   "cell_type": "code",
   "execution_count": 79,
   "metadata": {
    "ExecuteTime": {
     "end_time": "2020-05-31T05:58:27.058490Z",
     "start_time": "2020-05-31T05:58:27.049034Z"
    }
   },
   "outputs": [
    {
     "name": "stdout",
     "output_type": "stream",
     "text": [
      "train_set\n",
      "=========\n",
      "Dataset ImageFolder\n",
      "    Number of datapoints: 244\n",
      "    Root location: hymenoptera_data/train\n",
      "    StandardTransform\n",
      "Transform: Compose(\n",
      "               RandomResizedCrop(size=(224, 224), scale=(0.08, 1.0), ratio=(0.75, 1.3333), interpolation=PIL.Image.BILINEAR)\n",
      "               RandomHorizontalFlip(p=0.5)\n",
      "               ToTensor()\n",
      "               Normalize(mean=[0.485, 0.456, 0.406], std=[0.229, 0.224, 0.225])\n",
      "           )\n",
      "val_set\n",
      "=======\n",
      "Dataset ImageFolder\n",
      "    Number of datapoints: 153\n",
      "    Root location: hymenoptera_data/val\n",
      "    StandardTransform\n",
      "Transform: Compose(\n",
      "               Resize(size=256, interpolation=PIL.Image.BILINEAR)\n",
      "               CenterCrop(size=(224, 224))\n",
      "               ToTensor()\n",
      "               Normalize(mean=[0.485, 0.456, 0.406], std=[0.229, 0.224, 0.225])\n",
      "           )\n"
     ]
    }
   ],
   "source": [
    "data_dir = 'hymenoptera_data'\n",
    "\n",
    "train_set = datasets.ImageFolder(           # A generic data loader where image classes are arranged in folders\n",
    "    root=os.path.join(data_dir, 'train'),   # Image directory path\n",
    "    transform=train_transforms              # Apply series of transformation defined earlier to images in the\n",
    "                                            # folder 'data_dir/train'\n",
    ")\n",
    "\n",
    "underlined_text(\"train_set\")\n",
    "print(train_set)\n",
    "\n",
    "val_set = datasets.ImageFolder(\n",
    "    root=os.path.join(data_dir, 'val'),     # Image directory path\n",
    "    transform=val_transforms                # Apply series of transformation defined earlier to images in the\n",
    "                                            # folder 'data_dir/val'\n",
    ")\n",
    "\n",
    "underlined_text(\"val_set\")\n",
    "print(val_set)"
   ]
  },
  {
   "cell_type": "markdown",
   "metadata": {},
   "source": [
    "### Putting datasets into DataLoaders"
   ]
  },
  {
   "cell_type": "markdown",
   "metadata": {},
   "source": [
    "DataLoader is able to randomly break down the dataset into small batches, train the model on each batch one by one. Hence, we don't need to work with the entire dataset and training becomes more efficient."
   ]
  },
  {
   "cell_type": "code",
   "execution_count": 80,
   "metadata": {
    "ExecuteTime": {
     "end_time": "2020-05-31T05:58:27.063578Z",
     "start_time": "2020-05-31T05:58:27.059665Z"
    }
   },
   "outputs": [
    {
     "name": "stdout",
     "output_type": "stream",
     "text": [
      "Data Loaders:\n",
      "Train = <torch.utils.data.dataloader.DataLoader object at 0x7f095a79e850>\n",
      "Validation = <torch.utils.data.dataloader.DataLoader object at 0x7f095a79e310>\n"
     ]
    }
   ],
   "source": [
    "trainDL = DataLoader(dataset=train_set, batch_size=8, shuffle=True)\n",
    "valDL = DataLoader(dataset=val_set,batch_size=8, shuffle=True)\n",
    "\n",
    "print(\"Data Loaders:\\nTrain = {}\\nValidation = {}\".format(trainDL, valDL))"
   ]
  },
  {
   "cell_type": "markdown",
   "metadata": {},
   "source": [
    "### Getting the first batch of images and their labels"
   ]
  },
  {
   "cell_type": "code",
   "execution_count": 81,
   "metadata": {
    "ExecuteTime": {
     "end_time": "2020-05-31T05:58:27.354214Z",
     "start_time": "2020-05-31T05:58:27.064821Z"
    }
   },
   "outputs": [
    {
     "name": "stdout",
     "output_type": "stream",
     "text": [
      "Shape of images = torch.Size([8, 3, 224, 224])\n",
      "Shape of lebels = torch.Size([8])\n"
     ]
    },
    {
     "data": {
      "image/png": "[encoded data removed]",
      "text/plain": [
       "<Figure size 432x288 with 1 Axes>"
      ]
     },
     "metadata": {
      "needs_background": "light"
     },
     "output_type": "display_data"
    },
    {
     "name": "stdout",
     "output_type": "stream",
     "text": [
      "Predicted labels (before training)\n",
      "==================================\n",
      "Original labels  =  tensor([0, 0, 0, 0, 0, 0, 0, 1])\n",
      "Predicted labels =  tensor([0, 1, 1, 1, 0, 0, 1, 0])\n"
     ]
    }
   ],
   "source": [
    "for data in trainDL:\n",
    "    images, labels = data\n",
    "    print(\"Shape of images = {}\\nShape of lebels = {}\".format(images.shape, labels.shape))\n",
    "    imshow(utils.make_grid(images), \"First batch of the training dataset\")\n",
    "    \n",
    "    underlined_text(\"Predicted labels (before training)\")\n",
    "    print(\"Original labels  = \", labels)\n",
    "    pred_lbls = predicted_labels(alex_net, images)\n",
    "    print(\"Predicted labels = \", pred_lbls)\n",
    "    break"
   ]
  },
  {
   "cell_type": "markdown",
   "metadata": {},
   "source": [
    "## Training"
   ]
  },
  {
   "cell_type": "markdown",
   "metadata": {},
   "source": [
    "### Moving model"
   ]
  },
  {
   "cell_type": "code",
   "execution_count": 82,
   "metadata": {
    "ExecuteTime": {
     "end_time": "2020-05-31T05:58:27.412467Z",
     "start_time": "2020-05-31T05:58:27.355424Z"
    }
   },
   "outputs": [],
   "source": [
    "alex_net = alex_net.to(device)"
   ]
  },
  {
   "cell_type": "markdown",
   "metadata": {},
   "source": [
    "### Model Evaluation"
   ]
  },
  {
   "cell_type": "code",
   "execution_count": 83,
   "metadata": {
    "ExecuteTime": {
     "end_time": "2020-05-31T05:58:27.417636Z",
     "start_time": "2020-05-31T05:58:27.413607Z"
    }
   },
   "outputs": [],
   "source": [
    "def model_evaluation(dataloader, model, device):\n",
    "    total = 0\n",
    "    correct = 0\n",
    "    \n",
    "    for data in dataloader:\n",
    "        imgs, lbls = data\n",
    "        imgs = imgs.to(device)\n",
    "        lbls = lbls.to(device)\n",
    "        out = model(imgs)\n",
    "        #Obtain the max values and its index (predicted class) of each output\n",
    "        max_vals, pred_class = torch.max(out, dim=1)\n",
    "        total += torch.numel(lbls)\n",
    "        correct += (pred_class==lbls).sum().item()\n",
    "        acc = (100.0*correct)/total\n",
    "    \n",
    "    return acc"
   ]
  },
  {
   "cell_type": "markdown",
   "metadata": {},
   "source": [
    "### Defining the loss function and optimizer"
   ]
  },
  {
   "cell_type": "code",
   "execution_count": 84,
   "metadata": {
    "ExecuteTime": {
     "end_time": "2020-05-31T05:58:27.423657Z",
     "start_time": "2020-05-31T05:58:27.419266Z"
    }
   },
   "outputs": [],
   "source": [
    "loss_fn = nn.NLLLoss() # Negative log likelihood loss. Useful for classification probelms\n",
    "optimizer = optim.Adam(alex_net.parameters())"
   ]
  },
  {
   "cell_type": "markdown",
   "metadata": {},
   "source": [
    "### Training loop"
   ]
  },
  {
   "cell_type": "code",
   "execution_count": 85,
   "metadata": {
    "ExecuteTime": {
     "end_time": "2020-05-31T05:59:59.111303Z",
     "start_time": "2020-05-31T05:58:27.425011Z"
    }
   },
   "outputs": [
    {
     "name": "stdout",
     "output_type": "stream",
     "text": [
      "Started Training on cuda  ...\n",
      "Epoch:    1/  20 ==> Loss =  0.00423, Val Acc = 87.58170, Train Acc = 88.11475\n",
      "Epoch:    2/  20 ==> Loss =  0.29705, Val Acc = 84.31373, Train Acc = 93.85246\n",
      "Epoch:    3/  20 ==> Loss =  0.00088, Val Acc = 90.19608, Train Acc = 92.62295\n",
      "Epoch:    4/  20 ==> Loss =  0.43681, Val Acc = 89.54248, Train Acc = 91.80328\n",
      "Epoch:    5/  20 ==> Loss =  0.00016, Val Acc = 90.19608, Train Acc = 93.03279\n",
      "Epoch:    6/  20 ==> Loss =  0.00422, Val Acc = 88.88889, Train Acc = 96.72131\n",
      "Epoch:    7/  20 ==> Loss =  0.01795, Val Acc = 88.23529, Train Acc = 96.31148\n",
      "Epoch:    8/  20 ==> Loss =  0.01093, Val Acc = 86.92810, Train Acc = 95.49180\n",
      "Epoch:    9/  20 ==> Loss =  0.00970, Val Acc = 88.23529, Train Acc = 95.90164\n",
      "Epoch:   10/  20 ==> Loss =  0.00022, Val Acc = 84.96732, Train Acc = 96.31148\n",
      "Epoch:   11/  20 ==> Loss =  0.00104, Val Acc = 88.88889, Train Acc = 94.67213\n",
      "Epoch:   12/  20 ==> Loss =  0.17959, Val Acc = 81.04575, Train Acc = 91.80328\n",
      "Epoch:   13/  20 ==> Loss =  2.07313, Val Acc = 88.23529, Train Acc = 96.31148\n",
      "Epoch:   14/  20 ==> Loss =  0.13367, Val Acc = 83.66013, Train Acc = 94.67213\n",
      "Epoch:   15/  20 ==> Loss =  0.00069, Val Acc = 85.62092, Train Acc = 95.49180\n",
      "Epoch:   16/  20 ==> Loss =  0.00075, Val Acc = 88.23529, Train Acc = 97.13115\n",
      "Epoch:   17/  20 ==> Loss =  0.36304, Val Acc = 90.84967, Train Acc = 95.49180\n",
      "Epoch:   18/  20 ==> Loss =  0.00052, Val Acc = 84.96732, Train Acc = 96.72131\n",
      "Epoch:   19/  20 ==> Loss =  0.01244, Val Acc = 88.88889, Train Acc = 95.08197\n",
      "Epoch:   20/  20 ==> Loss =  0.02176, Val Acc = 84.96732, Train Acc = 97.13115\n",
      "Finished Training.\n"
     ]
    }
   ],
   "source": [
    "EPOCHS = 20\n",
    "\n",
    "print(\"Started Training on\", device, \" ...\")\n",
    "for epoch in range(EPOCHS):\n",
    "    for data in trainDL:\n",
    "        imgs, lbls = data\n",
    "        imgs = imgs.to(device)\n",
    "        lbls = lbls.to(device)\n",
    "        optimizer.zero_grad()\n",
    "        out = alex_net(imgs)\n",
    "        loss = loss_fn(out, lbls)\n",
    "        loss.backward()\n",
    "        optimizer.step()\n",
    "\n",
    "    train_acc = model_evaluation(trainDL, alex_net, device)\n",
    "    val_acc  = model_evaluation(valDL, alex_net, device)\n",
    "    \n",
    "    print(\"Epoch: {:4d}/{:4d} ==> Loss = {:8.5f}, Val Acc = {:8.5f}, Train Acc = {:8.5f}\".\n",
    "          format(epoch+1, EPOCHS, loss.item(), val_acc, train_acc))\n",
    "       \n",
    "print('Finished Training.')\n",
    "net = alex_net.to('cpu') #Trained network bring back to the CPU as GPU has limited memory"
   ]
  },
  {
   "cell_type": "markdown",
   "metadata": {},
   "source": [
    "## Predictions"
   ]
  },
  {
   "cell_type": "code",
   "execution_count": 86,
   "metadata": {
    "ExecuteTime": {
     "end_time": "2020-05-31T06:33:13.177042Z",
     "start_time": "2020-05-31T06:33:12.924391Z"
    }
   },
   "outputs": [
    {
     "name": "stdout",
     "output_type": "stream",
     "text": [
      "Shape of images = torch.Size([8, 3, 224, 224])\n",
      "Shape of lebels = torch.Size([8])\n"
     ]
    },
    {
     "data": {
      "image/png": "[encoded data removed]",
      "text/plain": [
       "<Figure size 432x288 with 1 Axes>"
      ]
     },
     "metadata": {
      "needs_background": "light"
     },
     "output_type": "display_data"
    },
    {
     "name": "stdout",
     "output_type": "stream",
     "text": [
      "Predicted labels (after training)\n",
      "=================================\n",
      "Original labels  =  tensor([0, 0, 1, 1, 0, 1, 1, 1])\n",
      "Predicted labels =  tensor([0, 0, 1, 1, 0, 1, 1, 1])\n"
     ]
    }
   ],
   "source": [
    "for data in trainDL:\n",
    "    images, labels = data\n",
    "    print(\"Shape of images = {}\\nShape of lebels = {}\".format(images.shape, labels.shape))\n",
    "    imshow(utils.make_grid(images), \"First batch of the training dataset\")\n",
    "    \n",
    "    underlined_text(\"Predicted labels (after training)\")\n",
    "    print(\"Original labels  = \", labels)\n",
    "    pred_lbls = predicted_labels(alex_net, images)\n",
    "    print(\"Predicted labels = \", pred_lbls)\n",
    "    break"
   ]
  }
 ],
 "metadata": {
  "kernelspec": {
   "display_name": "Python 3",
   "language": "python",
   "name": "python3"
  },
  "language_info": {
   "codemirror_mode": {
    "name": "ipython",
    "version": 3
   },
   "file_extension": ".py",
   "mimetype": "text/x-python",
   "name": "python",
   "nbconvert_exporter": "python",
   "pygments_lexer": "ipython3",
   "version": "3.7.6"
  },
  "nbTranslate": {
   "displayLangs": [
    "*"
   ],
   "hotkey": "alt-t",
   "langInMainMenu": true,
   "sourceLang": "en",
   "targetLang": "fr",
   "useGoogleTranslate": true
  },
  "toc": {
   "base_numbering": 1,
   "nav_menu": {},
   "number_sections": true,
   "sideBar": true,
   "skip_h1_title": false,
   "title_cell": "Table of Contents",
   "title_sidebar": "Contents",
   "toc_cell": false,
   "toc_position": {
    "height": "calc(100% - 180px)",
    "left": "10px",
    "top": "150px",
    "width": "374.2px"
   },
   "toc_section_display": true,
   "toc_window_display": true
  },
  "varInspector": {
   "cols": {
    "lenName": 16,
    "lenType": 16,
    "lenVar": 40
   },
   "kernels_config": {
    "python": {
     "delete_cmd_postfix": "",
     "delete_cmd_prefix": "del ",
     "library": "var_list.py",
     "varRefreshCmd": "print(var_dic_list())"
    },
    "r": {
     "delete_cmd_postfix": ") ",
     "delete_cmd_prefix": "rm(",
     "library": "var_list.r",
     "varRefreshCmd": "cat(var_dic_list()) "
    }
   },
   "types_to_exclude": [
    "module",
    "function",
    "builtin_function_or_method",
    "instance",
    "_Feature"
   ],
   "window_display": false
  }
 },
 "nbformat": 4,
 "nbformat_minor": 4
}
