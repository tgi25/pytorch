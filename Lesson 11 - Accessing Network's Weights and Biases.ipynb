{
 "cells": [
  {
   "cell_type": "markdown",
   "metadata": {
    "toc": true
   },
   "source": [
    "<h1>Table of Contents<span class=\"tocSkip\"></span></h1>\n",
    "<div class=\"toc\"><ul class=\"toc-item\"><li><span><a href=\"#Defining-the-network\" data-toc-modified-id=\"Defining-the-network-1\"><span class=\"toc-item-num\">1&nbsp;&nbsp;</span>Defining the network</a></span></li><li><span><a href=\"#Creating-an-object-of-MLP-class\" data-toc-modified-id=\"Creating-an-object-of-MLP-class-2\"><span class=\"toc-item-num\">2&nbsp;&nbsp;</span>Creating an object of MLP class</a></span></li><li><span><a href=\"#Inputs-and-outputs\" data-toc-modified-id=\"Inputs-and-outputs-3\"><span class=\"toc-item-num\">3&nbsp;&nbsp;</span>Inputs and outputs</a></span></li><li><span><a href=\"#Loss,-forward-and-backward-propagation\" data-toc-modified-id=\"Loss,-forward-and-backward-propagation-4\"><span class=\"toc-item-num\">4&nbsp;&nbsp;</span>Loss, forward and backward propagation</a></span></li><li><span><a href=\"#Weights-and-biases\" data-toc-modified-id=\"Weights-and-biases-5\"><span class=\"toc-item-num\">5&nbsp;&nbsp;</span>Weights and biases</a></span><ul class=\"toc-item\"><li><span><a href=\"#Accessing-weights-and-biases\" data-toc-modified-id=\"Accessing-weights-and-biases-5.1\"><span class=\"toc-item-num\">5.1&nbsp;&nbsp;</span>Accessing weights and biases</a></span></li><li><span><a href=\"#Accessing-gradients-of-weights-and-biases\" data-toc-modified-id=\"Accessing-gradients-of-weights-and-biases-5.2\"><span class=\"toc-item-num\">5.2&nbsp;&nbsp;</span>Accessing gradients of weights and biases</a></span></li><li><span><a href=\"#Accessing-all-weights,-biases-and-their-gradients\" data-toc-modified-id=\"Accessing-all-weights,-biases-and-their-gradients-5.3\"><span class=\"toc-item-num\">5.3&nbsp;&nbsp;</span>Accessing all weights, biases and their gradients</a></span></li></ul></li><li><span><a href=\"#Accessing-modules-of-a-model\" data-toc-modified-id=\"Accessing-modules-of-a-model-6\"><span class=\"toc-item-num\">6&nbsp;&nbsp;</span>Accessing modules of a model</a></span></li></ul></div>"
   ]
  },
  {
   "cell_type": "markdown",
   "metadata": {},
   "source": [
    "# Accessing Network's Weights and Biases"
   ]
  },
  {
   "cell_type": "markdown",
   "metadata": {},
   "source": [
    "## Defining the network"
   ]
  },
  {
   "cell_type": "code",
   "execution_count": 126,
   "metadata": {
    "ExecuteTime": {
     "end_time": "2020-04-21T18:26:23.765623Z",
     "start_time": "2020-04-21T18:26:23.749464Z"
    }
   },
   "outputs": [],
   "source": [
    "import torch\n",
    "import torch.nn as nn\n",
    "\n",
    "class MLP(nn.Module):\n",
    "    def __init__(self, n_in, n_hid, n_out):\n",
    "        super(MLP, self).__init__()\n",
    "        self.hid = nn.Linear(n_in, n_hid)\n",
    "        self.out = nn.Linear(n_hid, n_out)\n",
    "        \n",
    "    def forward(self, x):\n",
    "        y = self.hid(x)\n",
    "        y = torch.relu(y)\n",
    "        y = self.out(y)\n",
    "        y = torch.sigmoid(y)\n",
    "        return y"
   ]
  },
  {
   "cell_type": "markdown",
   "metadata": {},
   "source": [
    "## Creating an object of MLP class"
   ]
  },
  {
   "cell_type": "code",
   "execution_count": 127,
   "metadata": {
    "ExecuteTime": {
     "end_time": "2020-04-21T18:26:26.560201Z",
     "start_time": "2020-04-21T18:26:26.552303Z"
    }
   },
   "outputs": [],
   "source": [
    "model = MLP(10, 5, 1)"
   ]
  },
  {
   "cell_type": "markdown",
   "metadata": {},
   "source": [
    "## Inputs and outputs"
   ]
  },
  {
   "cell_type": "code",
   "execution_count": 136,
   "metadata": {
    "ExecuteTime": {
     "end_time": "2020-04-21T18:28:17.570647Z",
     "start_time": "2020-04-21T18:28:17.568244Z"
    }
   },
   "outputs": [],
   "source": [
    "x = torch.randn(15, 10)\n",
    "y = torch.randn(15, 1)"
   ]
  },
  {
   "cell_type": "markdown",
   "metadata": {},
   "source": [
    "## Loss, forward and backward propagation"
   ]
  },
  {
   "cell_type": "code",
   "execution_count": 138,
   "metadata": {
    "ExecuteTime": {
     "end_time": "2020-04-21T18:28:46.464793Z",
     "start_time": "2020-04-21T18:28:46.454005Z"
    }
   },
   "outputs": [],
   "source": [
    "loss_fn = nn.MSELoss()\n",
    "y_pred = model(x)\n",
    "loss = loss_fn(y, y_pred)\n",
    "loss.backward()"
   ]
  },
  {
   "cell_type": "markdown",
   "metadata": {
    "ExecuteTime": {
     "end_time": "2020-04-21T07:16:23.233178Z",
     "start_time": "2020-04-21T07:16:23.230294Z"
    }
   },
   "source": [
    "## Weights and biases"
   ]
  },
  {
   "cell_type": "code",
   "execution_count": 112,
   "metadata": {
    "ExecuteTime": {
     "end_time": "2020-04-21T15:50:32.512700Z",
     "start_time": "2020-04-21T15:50:32.504608Z"
    }
   },
   "outputs": [
    {
     "name": "stdout",
     "output_type": "stream",
     "text": [
      "MLP(\n",
      "  (hid): Linear(in_features=10, out_features=5, bias=True)\n",
      "  (out): Linear(in_features=5, out_features=1, bias=True)\n",
      ")\n"
     ]
    }
   ],
   "source": [
    "print(model)"
   ]
  },
  {
   "cell_type": "markdown",
   "metadata": {},
   "source": [
    "### Accessing weights and biases"
   ]
  },
  {
   "cell_type": "code",
   "execution_count": 117,
   "metadata": {
    "ExecuteTime": {
     "end_time": "2020-04-21T15:52:05.855646Z",
     "start_time": "2020-04-21T15:52:05.837665Z"
    }
   },
   "outputs": [
    {
     "name": "stdout",
     "output_type": "stream",
     "text": [
      "torch.Size([5, 10])\n",
      "Parameter containing:\n",
      "tensor([[ 0.0772,  0.1115,  0.2453, -0.2856, -0.1755, -0.0405, -0.2644,  0.0694,\n",
      "         -0.2554, -0.1751],\n",
      "        [ 0.1848,  0.0577,  0.0074,  0.0808, -0.2299,  0.0984, -0.0533,  0.1617,\n",
      "          0.1599, -0.1547],\n",
      "        [ 0.2562,  0.2514,  0.2442, -0.0632,  0.3123,  0.2604,  0.1371,  0.1963,\n",
      "         -0.2505, -0.2744],\n",
      "        [-0.1732, -0.1369, -0.2164, -0.0305, -0.0156, -0.0056,  0.1149,  0.2052,\n",
      "          0.2131, -0.2029],\n",
      "        [-0.0324, -0.1085,  0.2008, -0.1941,  0.1115,  0.2785, -0.1823,  0.1931,\n",
      "          0.1863,  0.0555]], requires_grad=True)\n",
      "torch.Size([5])\n",
      "Parameter containing:\n",
      "tensor([ 0.2722,  0.2639, -0.1227, -0.0792, -0.1531], requires_grad=True)\n"
     ]
    }
   ],
   "source": [
    "print(model.hid.weight.shape)\n",
    "print(model.hid.weight)\n",
    "print(model.hid.bias.shape)\n",
    "print(model.hid.bias)"
   ]
  },
  {
   "cell_type": "markdown",
   "metadata": {},
   "source": [
    "### Accessing gradients of weights and biases"
   ]
  },
  {
   "cell_type": "code",
   "execution_count": 141,
   "metadata": {
    "ExecuteTime": {
     "end_time": "2020-04-21T18:41:45.139795Z",
     "start_time": "2020-04-21T18:41:45.131834Z"
    }
   },
   "outputs": [
    {
     "name": "stdout",
     "output_type": "stream",
     "text": [
      "torch.Size([5, 10])\n",
      "tensor([[-0.0165,  0.0043, -0.0809,  0.0440, -0.0375,  0.0081, -0.0557,  0.0249,\n",
      "          0.0183, -0.0285],\n",
      "        [ 0.0313, -0.0200, -0.0584, -0.0259,  0.0051,  0.0161, -0.0559, -0.0093,\n",
      "         -0.0519,  0.0567],\n",
      "        [-0.0003,  0.0023, -0.0006, -0.0012, -0.0111,  0.0079,  0.0079, -0.0017,\n",
      "          0.0007,  0.0082],\n",
      "        [-0.0140,  0.0287, -0.0789, -0.0120, -0.1087,  0.0765, -0.0141, -0.0458,\n",
      "         -0.0350,  0.1557],\n",
      "        [ 0.0749,  0.0660,  0.0446, -0.0437, -0.0295,  0.0393, -0.0319, -0.0403,\n",
      "         -0.0094, -0.0088]])\n",
      "torch.Size([5])\n",
      "tensor([0.0956, 0.1423, 0.0175, 0.2700, 0.1607])\n"
     ]
    }
   ],
   "source": [
    "print(model.hid.weight.grad.shape)\n",
    "print(model.hid.weight.grad)\n",
    "print(model.hid.bias.grad.shape)\n",
    "print(model.hid.bias.grad)"
   ]
  },
  {
   "cell_type": "markdown",
   "metadata": {},
   "source": [
    "### Accessing all weights, biases and their gradients"
   ]
  },
  {
   "cell_type": "code",
   "execution_count": 174,
   "metadata": {
    "ExecuteTime": {
     "end_time": "2020-04-21T19:33:26.970554Z",
     "start_time": "2020-04-21T19:33:26.951375Z"
    }
   },
   "outputs": [
    {
     "name": "stdout",
     "output_type": "stream",
     "text": [
      "Child:  Linear(in_features=10, out_features=5, bias=True)\n",
      "Weights:\n",
      "--------\n",
      "Shape:  torch.Size([5, 10])\n",
      "Parameter containing:\n",
      "tensor([[-0.0651, -0.0124, -0.2652,  0.1167, -0.0986, -0.3076, -0.2795,  0.2564,\n",
      "         -0.2160, -0.0814],\n",
      "        [ 0.0998,  0.1296, -0.2813, -0.0334,  0.2842, -0.0727, -0.1477,  0.0113,\n",
      "         -0.2827,  0.2274],\n",
      "        [ 0.1767,  0.1580, -0.0590, -0.0563, -0.2724,  0.0004,  0.0864,  0.2630,\n",
      "          0.0656,  0.2824],\n",
      "        [ 0.0253, -0.1578,  0.2199,  0.0417, -0.1964,  0.2624, -0.0759,  0.0503,\n",
      "         -0.0305,  0.1812],\n",
      "        [ 0.1751,  0.0473,  0.1872, -0.2895,  0.0130,  0.3051, -0.1708, -0.1869,\n",
      "         -0.1241, -0.2940]], requires_grad=True)\n",
      "Gradients:\n",
      "----------\n",
      "Shape:  torch.Size([5, 10])\n",
      "tensor([[-0.0165,  0.0043, -0.0809,  0.0440, -0.0375,  0.0081, -0.0557,  0.0249,\n",
      "          0.0183, -0.0285],\n",
      "        [ 0.0313, -0.0200, -0.0584, -0.0259,  0.0051,  0.0161, -0.0559, -0.0093,\n",
      "         -0.0519,  0.0567],\n",
      "        [-0.0003,  0.0023, -0.0006, -0.0012, -0.0111,  0.0079,  0.0079, -0.0017,\n",
      "          0.0007,  0.0082],\n",
      "        [-0.0140,  0.0287, -0.0789, -0.0120, -0.1087,  0.0765, -0.0141, -0.0458,\n",
      "         -0.0350,  0.1557],\n",
      "        [ 0.0749,  0.0660,  0.0446, -0.0437, -0.0295,  0.0393, -0.0319, -0.0403,\n",
      "         -0.0094, -0.0088]])\n",
      "\n",
      "Child:  Linear(in_features=5, out_features=1, bias=True)\n",
      "Weights:\n",
      "--------\n",
      "Shape:  torch.Size([1, 5])\n",
      "Parameter containing:\n",
      "tensor([[0.1597, 0.1850, 0.0192, 0.2376, 0.2186]], requires_grad=True)\n",
      "Gradients:\n",
      "----------\n",
      "Shape:  torch.Size([1, 5])\n",
      "tensor([[0.3059, 0.4397, 0.1725, 0.4434, 0.4037]])\n",
      "\n"
     ]
    }
   ],
   "source": [
    "for child in model.children():\n",
    "    print(\"Child: \", child)\n",
    "    print(\"Weights:\")\n",
    "    print(\"--------\")\n",
    "    print(\"Shape: \", child.weight.shape)\n",
    "    print(child.weight)\n",
    "    print(\"Gradients:\")\n",
    "    print(\"----------\")\n",
    "    print(\"Shape: \", child.weight.grad.shape)\n",
    "    print(child.weight.grad)\n",
    "    print()"
   ]
  },
  {
   "cell_type": "markdown",
   "metadata": {},
   "source": [
    "## Accessing modules of a model"
   ]
  },
  {
   "cell_type": "code",
   "execution_count": 154,
   "metadata": {
    "ExecuteTime": {
     "end_time": "2020-04-21T19:08:43.567609Z",
     "start_time": "2020-04-21T19:08:43.560507Z"
    }
   },
   "outputs": [
    {
     "name": "stdout",
     "output_type": "stream",
     "text": [
      "MLP(\n",
      "  (hid): Linear(in_features=10, out_features=5, bias=True)\n",
      "  (out): Linear(in_features=5, out_features=1, bias=True)\n",
      ")\n",
      "Linear(in_features=10, out_features=5, bias=True)\n",
      "Linear(in_features=5, out_features=1, bias=True)\n"
     ]
    }
   ],
   "source": [
    "for module in model.modules():\n",
    "    print(module)"
   ]
  }
 ],
 "metadata": {
  "kernelspec": {
   "display_name": "Python 3",
   "language": "python",
   "name": "python3"
  },
  "language_info": {
   "codemirror_mode": {
    "name": "ipython",
    "version": 3
   },
   "file_extension": ".py",
   "mimetype": "text/x-python",
   "name": "python",
   "nbconvert_exporter": "python",
   "pygments_lexer": "ipython3",
   "version": "3.7.6"
  },
  "latex_envs": {
   "LaTeX_envs_menu_present": true,
   "autoclose": false,
   "autocomplete": true,
   "bibliofile": "biblio.bib",
   "cite_by": "apalike",
   "current_citInitial": 1,
   "eqLabelWithNumbers": true,
   "eqNumInitial": 1,
   "hotkeys": {
    "equation": "Ctrl-E",
    "itemize": "Ctrl-I"
   },
   "labels_anchors": false,
   "latex_user_defs": false,
   "report_style_numbering": false,
   "user_envs_cfg": false
  },
  "nbTranslate": {
   "displayLangs": [
    "*"
   ],
   "hotkey": "alt-t",
   "langInMainMenu": true,
   "sourceLang": "en",
   "targetLang": "fr",
   "useGoogleTranslate": true
  },
  "toc": {
   "base_numbering": 1,
   "nav_menu": {},
   "number_sections": true,
   "sideBar": true,
   "skip_h1_title": true,
   "title_cell": "Table of Contents",
   "title_sidebar": "Contents",
   "toc_cell": true,
   "toc_position": {
    "height": "calc(100% - 180px)",
    "left": "10px",
    "top": "150px",
    "width": "374.2px"
   },
   "toc_section_display": true,
   "toc_window_display": true
  },
  "varInspector": {
   "cols": {
    "lenName": 16,
    "lenType": 16,
    "lenVar": 40
   },
   "kernels_config": {
    "python": {
     "delete_cmd_postfix": "",
     "delete_cmd_prefix": "del ",
     "library": "var_list.py",
     "varRefreshCmd": "print(var_dic_list())"
    },
    "r": {
     "delete_cmd_postfix": ") ",
     "delete_cmd_prefix": "rm(",
     "library": "var_list.r",
     "varRefreshCmd": "cat(var_dic_list()) "
    }
   },
   "types_to_exclude": [
    "module",
    "function",
    "builtin_function_or_method",
    "instance",
    "_Feature"
   ],
   "window_display": false
  }
 },
 "nbformat": 4,
 "nbformat_minor": 4
}
