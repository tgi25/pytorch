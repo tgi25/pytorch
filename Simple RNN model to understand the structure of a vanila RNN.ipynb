{
 "cells": [
  {
   "cell_type": "markdown",
   "metadata": {},
   "source": [
    "## Libraries and functions"
   ]
  },
  {
   "cell_type": "markdown",
   "metadata": {},
   "source": [
    "### Libraries"
   ]
  },
  {
   "cell_type": "code",
   "execution_count": 1,
   "metadata": {
    "ExecuteTime": {
     "end_time": "2020-05-08T09:00:25.459728Z",
     "start_time": "2020-05-08T09:00:25.282440Z"
    }
   },
   "outputs": [],
   "source": [
    "import torch\n",
    "import torch.nn as nn\n",
    "from torch.autograd.variable import Variable"
   ]
  },
  {
   "cell_type": "markdown",
   "metadata": {},
   "source": [
    "### Functions"
   ]
  },
  {
   "cell_type": "code",
   "execution_count": 2,
   "metadata": {
    "ExecuteTime": {
     "end_time": "2020-05-08T09:00:25.463064Z",
     "start_time": "2020-05-08T09:00:25.460697Z"
    }
   },
   "outputs": [],
   "source": [
    "def underlined_text(text, char = '='):\n",
    "    length = len(text)\n",
    "    print(text)\n",
    "    for i in range(length):\n",
    "        print(char, end='')\n",
    "    print()"
   ]
  },
  {
   "cell_type": "markdown",
   "metadata": {},
   "source": [
    "## Dataset"
   ]
  },
  {
   "cell_type": "markdown",
   "metadata": {},
   "source": [
    "### Creating the dataset"
   ]
  },
  {
   "cell_type": "code",
   "execution_count": 3,
   "metadata": {
    "ExecuteTime": {
     "end_time": "2020-05-08T09:00:25.479581Z",
     "start_time": "2020-05-08T09:00:25.464175Z"
    }
   },
   "outputs": [
    {
     "name": "stdout",
     "output_type": "stream",
     "text": [
      "dataX\n",
      "=====\n",
      "Shape =  torch.Size([10, 1])\n",
      "tensor([[0],\n",
      "        [1],\n",
      "        [2],\n",
      "        [3],\n",
      "        [4],\n",
      "        [5],\n",
      "        [6],\n",
      "        [7],\n",
      "        [8],\n",
      "        [9]])\n",
      "\n",
      "dataY\n",
      "=====\n",
      "torch.Size([10])\n",
      "tensor([1, 2, 3, 4, 5, 6, 7, 8, 9, 0])\n",
      "\n",
      "Sequence order: (Input => Output)\n",
      "=================================\n",
      "0 => 1\n",
      "1 => 2\n",
      "2 => 3\n",
      "3 => 4\n",
      "4 => 5\n",
      "5 => 6\n",
      "6 => 7\n",
      "7 => 8\n",
      "8 => 9\n",
      "9 => 0\n"
     ]
    }
   ],
   "source": [
    "underlined_text(\"dataX\")\n",
    "dataX = torch.tensor([[i] for i in range(0,10)])\n",
    "print(\"Shape = \", dataX.shape)\n",
    "print(dataX)\n",
    "print()\n",
    "underlined_text(\"dataY\")\n",
    "dataY = torch.tensor([i for i in range(1,10)])\n",
    "z = torch.tensor([0])\n",
    "dataY = torch.cat((dataY, z), dim=0)\n",
    "print(dataY.shape)\n",
    "print(dataY)\n",
    "print()\n",
    "underlined_text(\"Sequence order: (Input => Output)\")\n",
    "for i in range(len(dataX)):\n",
    "    print(dataX[i].item(), '=>', dataY[i].item())"
   ]
  },
  {
   "cell_type": "markdown",
   "metadata": {},
   "source": [
    "### Reshaping dataX"
   ]
  },
  {
   "cell_type": "markdown",
   "metadata": {},
   "source": [
    "Reshaping the dataX into a format [batch_size, seq_len, no_features]."
   ]
  },
  {
   "cell_type": "code",
   "execution_count": 4,
   "metadata": {
    "ExecuteTime": {
     "end_time": "2020-05-08T09:00:25.484227Z",
     "start_time": "2020-05-08T09:00:25.480531Z"
    }
   },
   "outputs": [
    {
     "name": "stdout",
     "output_type": "stream",
     "text": [
      "Reshaped dataX\n",
      "==============\n",
      "torch.Size([10, 1, 1])\n",
      "tensor([[[0]],\n",
      "\n",
      "        [[1]],\n",
      "\n",
      "        [[2]],\n",
      "\n",
      "        [[3]],\n",
      "\n",
      "        [[4]],\n",
      "\n",
      "        [[5]],\n",
      "\n",
      "        [[6]],\n",
      "\n",
      "        [[7]],\n",
      "\n",
      "        [[8]],\n",
      "\n",
      "        [[9]]])\n"
     ]
    }
   ],
   "source": [
    "underlined_text(\"Reshaped dataX\")\n",
    "X = dataX.view(dataX.shape[0], 1, 1) # [batch_size, seq_len, features]\n",
    "print(X.shape)\n",
    "print(X)"
   ]
  },
  {
   "cell_type": "markdown",
   "metadata": {},
   "source": [
    "### Normalizing"
   ]
  },
  {
   "cell_type": "code",
   "execution_count": 5,
   "metadata": {
    "ExecuteTime": {
     "end_time": "2020-05-08T09:00:25.490666Z",
     "start_time": "2020-05-08T09:00:25.485067Z"
    }
   },
   "outputs": [
    {
     "name": "stdout",
     "output_type": "stream",
     "text": [
      "Normalizing X\n",
      "=============\n",
      "torch.Size([10, 1, 1])\n",
      "tensor([[[0.0000]],\n",
      "\n",
      "        [[0.1000]],\n",
      "\n",
      "        [[0.2000]],\n",
      "\n",
      "        [[0.3000]],\n",
      "\n",
      "        [[0.4000]],\n",
      "\n",
      "        [[0.5000]],\n",
      "\n",
      "        [[0.6000]],\n",
      "\n",
      "        [[0.7000]],\n",
      "\n",
      "        [[0.8000]],\n",
      "\n",
      "        [[0.9000]]])\n"
     ]
    }
   ],
   "source": [
    "underlined_text(\"Normalizing X\")\n",
    "X = X/float(X.shape[0])\n",
    "print(X.shape)\n",
    "print(X)"
   ]
  },
  {
   "cell_type": "markdown",
   "metadata": {},
   "source": [
    "## Creating the model"
   ]
  },
  {
   "cell_type": "markdown",
   "metadata": {},
   "source": [
    "In the default mode (i.e. batch_first = False), the input shape should have the shape [seq_len, batch_size, \n",
    "features]. If you want the input shape should be of the shape [batch_size, seq_len, features], set batch_first = True.\n",
    "\n",
    "seq_len - Number of time steps in each input stream\n",
    "<br>\n",
    "features - Number of input features per time-step\n",
    "<br>\n",
    "batch_size - Size of the batches (sample size)\n",
    "<br>\n",
    "hidden_size - Number of RNN/LSTM blocks\n",
    "<br>\n",
    "num_layers - Number of hidden layers (default = 1)\n",
    "<br>\n",
    "<br>\n",
    "<u>Input shapes</u>\n",
    "<br>\n",
    "Input's shape = [seq_len, batch_size, features] if batch_first = False\n",
    "<br>\n",
    "Input's shape = [batch_size, seq_len, features] if batch_first = True\n",
    "<br>\n",
    "Initial hidden layer's shape = [num_layers, batch_size, hidden_size]\n",
    "<br>\n",
    "<br>\n",
    "<u>Hidden layer's shape</u>\n",
    "<br>\n",
    "[num_layers, batch_size, hidden_size]\n",
    "<br>\n",
    "\n",
    "<u>Output shape</u>\n",
    "<br>\n",
    "Hidden layer's shape = [num_layers, batch_size, hidden_size] (Since in an RNN, hidden state also returned as an output)\n",
    "<br>\n",
    "Output's shape = [seq_len, batch_size, hidden_size] if batch_first = False\n",
    "<br>\n",
    "Output's shape = [batch_size, seq_len, hidden_size] if batch_first = True"
   ]
  },
  {
   "cell_type": "code",
   "execution_count": 6,
   "metadata": {
    "ExecuteTime": {
     "end_time": "2020-05-08T09:00:25.518551Z",
     "start_time": "2020-05-08T09:00:25.491512Z"
    }
   },
   "outputs": [
    {
     "name": "stdout",
     "output_type": "stream",
     "text": [
      "Simple RNN Model\n",
      "================\n",
      "Model =  RNN(1, 16, batch_first=True)\n",
      "\n",
      "RNN Input shapes\n",
      "================\n",
      "Input shape [batch_size, seq_len, features]        =  torch.Size([10, 1, 1])\n",
      "Hidden shape [num_layers, batch_size, hidden_size] =  torch.Size([1, 10, 16])\n",
      "\n",
      "RNN Output shapes\n",
      "=================\n",
      "Hidden shape [num_layers, batch_size, hidden_size] =  torch.Size([1, 10, 16])\n",
      "Output shape [batch_size, seq_len, hidden_size]]   =  torch.Size([10, 1, 16]) (batch_first = True)\n",
      "\n",
      "RNN's output passes to a linear layer\n",
      "=====================================\n",
      "Reshaped RNN output - shape (Input to the linear layer) =  torch.Size([10, 16])\n",
      "Linear layer output shape =  torch.Size([10, 10])\n",
      "Linear layer output =  tensor([[-0.0947, -0.3305,  0.4749, -0.0605,  0.1579,  0.4096,  0.5342,  0.1450,\n",
      "         -0.0171,  0.1144],\n",
      "        [-0.5547, -0.1087, -0.2126, -0.5227,  0.5199, -0.1150,  0.3598, -0.6230,\n",
      "          0.1359, -0.4138],\n",
      "        [-0.2381,  0.0216, -0.0465, -0.0487,  0.0892,  0.2450,  0.2186, -0.5899,\n",
      "         -0.2719, -0.0571],\n",
      "        [-0.3922, -0.0576, -0.1196, -0.3911,  0.2179, -0.1650,  0.1776, -0.4695,\n",
      "         -0.1078, -0.3685],\n",
      "        [-0.0940,  0.4416, -0.2775, -0.5063, -0.3050,  0.2878, -0.1190, -0.2466,\n",
      "         -0.2572, -0.1495],\n",
      "        [-0.1903,  0.1813, -0.0867, -0.3404, -0.2319, -0.3880,  0.1296, -0.6552,\n",
      "         -0.1519, -0.2630],\n",
      "        [-0.1583,  0.2659,  0.1748, -0.4004,  0.1698,  0.3962,  0.2700, -0.1819,\n",
      "          0.0430, -0.1465],\n",
      "        [-0.2817,  0.2455,  0.1057,  0.2525, -0.1212, -0.2493,  0.4035, -0.7011,\n",
      "         -0.2495, -0.4550],\n",
      "        [ 0.0038,  0.1405,  0.1519, -0.5285,  0.0027,  0.4536, -0.0958,  0.0190,\n",
      "          0.1451, -0.2216],\n",
      "        [-0.1933,  0.1326,  0.0949, -0.3191, -0.0481, -0.3377,  0.3076, -0.6365,\n",
      "         -0.0316, -0.4484]], grad_fn=<AddmmBackward>)\n",
      "\n",
      "Obtain the max values and its index (predicted class) of the output\n",
      "===================================================================\n",
      "Maximum values of final_out =  tensor([0.5342, 0.5199, 0.2450, 0.2179, 0.4416, 0.1813, 0.3962, 0.4035, 0.4536,\n",
      "        0.3076], grad_fn=<MaxBackward0>)\n",
      "Predicted classes =  tensor([6, 4, 5, 4, 1, 1, 5, 6, 5, 6])\n",
      "\n",
      "Interpretation (after one epoch - no training)\n",
      "==============================================\n",
      "Next digit of  0  =>  6\n",
      "Next digit of  1  =>  4\n",
      "Next digit of  2  =>  5\n",
      "Next digit of  3  =>  4\n",
      "Next digit of  4  =>  1\n",
      "Next digit of  5  =>  1\n",
      "Next digit of  6  =>  5\n",
      "Next digit of  7  =>  6\n",
      "Next digit of  8  =>  5\n",
      "Next digit of  9  =>  6\n"
     ]
    }
   ],
   "source": [
    "seq_len = 1\n",
    "features = 1\n",
    "batch_size = 10\n",
    "hidden_size = 16\n",
    "num_layers = 1\n",
    "\n",
    "simple_model = nn.RNN(\n",
    "    input_size=features,\n",
    "    hidden_size=hidden_size,\n",
    "    num_layers=num_layers,\n",
    "    batch_first=True\n",
    ")\n",
    "\n",
    "underlined_text(\"Simple RNN Model\")\n",
    "print(\"Model = \", simple_model)\n",
    "print()\n",
    "\n",
    "underlined_text(\"RNN Input shapes\")\n",
    "inputs = Variable(X)\n",
    "hidden_0 = Variable(torch.randn(num_layers, batch_size, hidden_size))\n",
    "print(\"Input shape [batch_size, seq_len, features]        = \", inputs.shape)\n",
    "print(\"Hidden shape [num_layers, batch_size, hidden_size] = \", hidden_0.shape)\n",
    "print()\n",
    "\n",
    "underlined_text(\"RNN Output shapes\")\n",
    "rnn_output, hidden_i = simple_model(inputs, hidden_0)\n",
    "print(\"Hidden shape [num_layers, batch_size, hidden_size] = \", hidden_i.shape)\n",
    "print(\"Output shape [batch_size, seq_len, hidden_size]]   = \", rnn_output.shape, \"(batch_first = True)\")\n",
    "print()\n",
    "\n",
    "underlined_text(\"RNN's output passes to a linear layer\")\n",
    "reshaped_rnn_out = rnn_output.view(10,16)\n",
    "print(\"Reshaped RNN output - shape (Input to the linear layer) = \", reshaped_rnn_out.shape)\n",
    "linear_model = nn.Linear(in_features=hidden_size, out_features=10) # 10 = No of digits\n",
    "final_out = linear_model(reshaped_rnn_out)\n",
    "print(\"Linear layer output shape = \", final_out.shape)\n",
    "print(\"Linear layer output = \", final_out)\n",
    "print()\n",
    "\n",
    "underlined_text(\"Obtain the max values and its index (predicted class) of the output\")\n",
    "max_vals, pred_classes = torch.max(final_out, dim=1)\n",
    "print(\"Maximum values of final_out = \", max_vals)\n",
    "print(\"Predicted classes = \", pred_classes)\n",
    "print()\n",
    "\n",
    "underlined_text(\"Interpretation (after one epoch - no training)\")\n",
    "for i in range(pred_classes.shape[0]):\n",
    "    print(\"Next digit of \", i, \" => \", pred_classes[i].item())"
   ]
  }
 ],
 "metadata": {
  "kernelspec": {
   "display_name": "Python 3",
   "language": "python",
   "name": "python3"
  },
  "language_info": {
   "codemirror_mode": {
    "name": "ipython",
    "version": 3
   },
   "file_extension": ".py",
   "mimetype": "text/x-python",
   "name": "python",
   "nbconvert_exporter": "python",
   "pygments_lexer": "ipython3",
   "version": "3.7.6"
  },
  "nbTranslate": {
   "displayLangs": [
    "*"
   ],
   "hotkey": "alt-t",
   "langInMainMenu": true,
   "sourceLang": "en",
   "targetLang": "fr",
   "useGoogleTranslate": true
  },
  "toc": {
   "base_numbering": 1,
   "nav_menu": {},
   "number_sections": true,
   "sideBar": true,
   "skip_h1_title": false,
   "title_cell": "Table of Contents",
   "title_sidebar": "Contents",
   "toc_cell": false,
   "toc_position": {
    "height": "calc(100% - 180px)",
    "left": "10px",
    "top": "150px",
    "width": "374.2px"
   },
   "toc_section_display": true,
   "toc_window_display": true
  },
  "varInspector": {
   "cols": {
    "lenName": 16,
    "lenType": 16,
    "lenVar": 40
   },
   "kernels_config": {
    "python": {
     "delete_cmd_postfix": "",
     "delete_cmd_prefix": "del ",
     "library": "var_list.py",
     "varRefreshCmd": "print(var_dic_list())"
    },
    "r": {
     "delete_cmd_postfix": ") ",
     "delete_cmd_prefix": "rm(",
     "library": "var_list.r",
     "varRefreshCmd": "cat(var_dic_list()) "
    }
   },
   "types_to_exclude": [
    "module",
    "function",
    "builtin_function_or_method",
    "instance",
    "_Feature"
   ],
   "window_display": false
  }
 },
 "nbformat": 4,
 "nbformat_minor": 4
}
