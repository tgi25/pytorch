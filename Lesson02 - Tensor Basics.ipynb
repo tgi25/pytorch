{
 "cells": [
  {
   "cell_type": "markdown",
   "metadata": {},
   "source": [
    "### Import torch as t"
   ]
  },
  {
   "cell_type": "code",
   "execution_count": 1,
   "metadata": {},
   "outputs": [],
   "source": [
    "import torch as t"
   ]
  },
  {
   "cell_type": "markdown",
   "metadata": {},
   "source": [
    "### Creating empty tensors"
   ]
  },
  {
   "cell_type": "code",
   "execution_count": 2,
   "metadata": {},
   "outputs": [
    {
     "name": "stdout",
     "output_type": "stream",
     "text": [
      "tensor([])\n",
      "tensor([-1.3642e-19])\n",
      "tensor([-1.3642e-19,  4.5818e-41, -1.3642e-19])\n",
      "tensor([[-1.3642e-19,  4.5818e-41,  5.1373e-31],\n",
      "        [ 3.0872e-41,  4.4842e-44,  0.0000e+00]])\n"
     ]
    }
   ],
   "source": [
    "x = t.tensor([]) #Empty tensor\n",
    "print(x)\n",
    "\n",
    "x = t.empty(1) #Empty tensor of size 1 - scalar\n",
    "print(x)\n",
    "\n",
    "x = t.empty(3) #Empty tensor of size 3 - vector of size 3\n",
    "print(x)\n",
    "\n",
    "x = t.empty(2,3) #Empty 2D tensor of size 2 by 3\n",
    "print(x) "
   ]
  },
  {
   "cell_type": "markdown",
   "metadata": {},
   "source": [
    "### Creating tensors with initial values"
   ]
  },
  {
   "cell_type": "code",
   "execution_count": 23,
   "metadata": {},
   "outputs": [
    {
     "name": "stdout",
     "output_type": "stream",
     "text": [
      "tensor([[0.1510, 0.8332, 0.0018],\n",
      "        [0.7689, 0.1120, 0.9018]])\n",
      "tensor([[1., 1., 1.],\n",
      "        [1., 1., 1.]])\n",
      "tensor([[0., 0., 0.],\n",
      "        [0., 0., 0.]])\n"
     ]
    }
   ],
   "source": [
    "x = t.rand(2,3) #Creates a random tensor of size 2 by 3\n",
    "print(x)\n",
    "\n",
    "x = t.ones(2,3) #Creates a tensor of size 2 by 3 with all values 1\n",
    "print(x)\n",
    "\n",
    "x = t.zeros(2,3) #Creates a tensor of size 2 by 3 with all values 0\n",
    "print(x)"
   ]
  },
  {
   "cell_type": "markdown",
   "metadata": {},
   "source": [
    "### PyTorch data types"
   ]
  },
  {
   "cell_type": "code",
   "execution_count": 24,
   "metadata": {},
   "outputs": [
    {
     "name": "stdout",
     "output_type": "stream",
     "text": [
      "torch.float32\n",
      "tensor([[1, 1, 1],\n",
      "        [1, 1, 1]], dtype=torch.int32)\n",
      "tensor([[0.4160, 0.8460, 0.2250],\n",
      "        [0.0879, 0.9868, 0.2090]], dtype=torch.float64)\n",
      "tensor([[-1.7400e+02,  2.9594e+01,  8.8812e+01],\n",
      "        [ 0.0000e+00, -2.6112e+04, -3.7899e-03]], dtype=torch.float16)\n"
     ]
    }
   ],
   "source": [
    "x = t.rand(2,3) #Default data type is float32\n",
    "print(x.dtype)\n",
    "\n",
    "x = t.ones(2,3,dtype=t.int) #Data type is now int32\n",
    "print(x)\n",
    "\n",
    "x = t.rand(2,3,dtype=t.double) #Now the precision is doubled \n",
    "print(x)\n",
    "\n",
    "x = t.empty(2,3,dtype=t.float16) #Float16\n",
    "print(x)"
   ]
  },
  {
   "cell_type": "markdown",
   "metadata": {},
   "source": [
    "### arange() method"
   ]
  },
  {
   "cell_type": "code",
   "execution_count": 25,
   "metadata": {},
   "outputs": [
    {
     "name": "stdout",
     "output_type": "stream",
     "text": [
      "tensor([0, 1, 2, 3, 4, 5])\n",
      "tensor([5, 6, 7, 8, 9])\n",
      "torch.int64\n",
      "tensor([ 5, 15, 25, 35, 45, 55, 65, 75, 85, 95], dtype=torch.int16)\n",
      "torch.int16\n",
      "tensor([5.0000, 5.5000, 6.0000, 6.5000, 7.0000, 7.5000, 8.0000, 8.5000, 9.0000,\n",
      "        9.5000])\n",
      "torch.float32\n"
     ]
    }
   ],
   "source": [
    "x = t.arange(6) #Generates integers from 0 to 6 (not included)\n",
    "print(x)\n",
    "\n",
    "x = t.arange(5,10) #Generates integers from 5 to 10 (not included)\n",
    "print(x)\n",
    "print(x.dtype) #Default data type - int64\n",
    "\n",
    "x = t.arange(5, 100, 10, dtype=t.int16) #Generates integers from 5 to 100 (not included) s.t. gap between each pair is 10  \n",
    "print(x)\n",
    "print(x.dtype) #Data type is changed to int16\n",
    "\n",
    "x = t.arange(5, 10, 0.5)\n",
    "print(x)\n",
    "print(x.dtype) #Default float - float32"
   ]
  },
  {
   "cell_type": "markdown",
   "metadata": {},
   "source": [
    "### linspace() method"
   ]
  },
  {
   "cell_type": "code",
   "execution_count": 26,
   "metadata": {},
   "outputs": [
    {
     "name": "stdout",
     "output_type": "stream",
     "text": [
      "tensor([-5.0000, -3.8889, -2.7778, -1.6667, -0.5556,  0.5556,  1.6667,  2.7778,\n",
      "         3.8889,  5.0000])\n",
      "torch.float32\n"
     ]
    }
   ],
   "source": [
    "x = t.linspace(-5, 5, 10) #Generates 10 equally spaced points between -5 and 5\n",
    "print(x)\n",
    "print(x.dtype)"
   ]
  },
  {
   "cell_type": "markdown",
   "metadata": {},
   "source": [
    "### Identity matrix"
   ]
  },
  {
   "cell_type": "code",
   "execution_count": 27,
   "metadata": {},
   "outputs": [
    {
     "name": "stdout",
     "output_type": "stream",
     "text": [
      "tensor([[1., 0., 0.],\n",
      "        [0., 1., 0.],\n",
      "        [0., 0., 1.]])\n",
      "torch.float32\n"
     ]
    }
   ],
   "source": [
    "x = t.eye(3)\n",
    "print(x)\n",
    "print(x.dtype)"
   ]
  },
  {
   "cell_type": "markdown",
   "metadata": {},
   "source": [
    "### Full method"
   ]
  },
  {
   "cell_type": "code",
   "execution_count": 28,
   "metadata": {},
   "outputs": [
    {
     "name": "stdout",
     "output_type": "stream",
     "text": [
      "tensor([[3.5000, 3.5000, 3.5000],\n",
      "        [3.5000, 3.5000, 3.5000]])\n"
     ]
    }
   ],
   "source": [
    "x = t.full((2,3), 3.5) #Creates a 2 by 3 matrix filled with 3.5\n",
    "print(x)"
   ]
  },
  {
   "cell_type": "markdown",
   "metadata": {},
   "source": [
    "### Checking the size of a tensor"
   ]
  },
  {
   "cell_type": "code",
   "execution_count": 29,
   "metadata": {},
   "outputs": [
    {
     "name": "stdout",
     "output_type": "stream",
     "text": [
      "torch.Size([2, 3, 5])\n",
      "torch.Size([2, 3, 5])\n"
     ]
    }
   ],
   "source": [
    "x = t.rand(2,3,5)\n",
    "print(x.size())\n",
    "print(x.shape)"
   ]
  },
  {
   "cell_type": "markdown",
   "metadata": {},
   "source": [
    "### Creating a tensor from data (e.g. Python list)"
   ]
  },
  {
   "cell_type": "code",
   "execution_count": 30,
   "metadata": {},
   "outputs": [
    {
     "name": "stdout",
     "output_type": "stream",
     "text": [
      "tensor([1.4000, 3.5000])\n",
      "torch.float32\n",
      "tensor([1.4000, 3.5000], dtype=torch.float64)\n",
      "torch.float64\n"
     ]
    }
   ],
   "source": [
    "x = t.tensor([1.4, 3.5])\n",
    "print(x)\n",
    "print(x.dtype)\n",
    "\n",
    "x = t.tensor([1.4, 3.5], dtype=t.double)\n",
    "print(x)\n",
    "print(x.dtype)"
   ]
  },
  {
   "cell_type": "markdown",
   "metadata": {},
   "source": [
    "### Basic tensor operations"
   ]
  },
  {
   "cell_type": "code",
   "execution_count": 31,
   "metadata": {},
   "outputs": [
    {
     "name": "stdout",
     "output_type": "stream",
     "text": [
      "tensor([[0.3509, 0.6429],\n",
      "        [0.0553, 0.3442]])\n",
      "tensor([[0.9432, 0.7759],\n",
      "        [0.0463, 0.0157]])\n",
      "tensor([[1.2941, 1.4188],\n",
      "        [0.1015, 0.3599]])\n",
      "tensor([[1.2941, 1.4188],\n",
      "        [0.1015, 0.3599]])\n",
      "tensor([[1.2941, 1.4188],\n",
      "        [0.1015, 0.3599]])\n"
     ]
    }
   ],
   "source": [
    "x = t.rand(2,2)\n",
    "y = t.rand(2,2)\n",
    "print(x)\n",
    "print(y)\n",
    "\n",
    "#Addition\n",
    "z = x+y\n",
    "print(z)\n",
    "\n",
    "z = t.add(x,y)\n",
    "print(z)\n",
    "\n",
    "y.add_(x) #In-placed addition - x is added to y\n",
    "print(y)"
   ]
  },
  {
   "cell_type": "markdown",
   "metadata": {},
   "source": [
    "Similarly, we can do sub(-), mul(*) and div(/) operations on PyTorch tensors."
   ]
  },
  {
   "cell_type": "markdown",
   "metadata": {},
   "source": [
    "### Slicing operations"
   ]
  },
  {
   "cell_type": "code",
   "execution_count": 32,
   "metadata": {},
   "outputs": [
    {
     "name": "stdout",
     "output_type": "stream",
     "text": [
      "tensor([[0.2650, 0.7087, 0.9383],\n",
      "        [0.0234, 0.9718, 0.4854],\n",
      "        [0.2418, 0.3560, 0.0956],\n",
      "        [0.4362, 0.8490, 0.9294],\n",
      "        [0.0343, 0.8768, 0.3846]])\n",
      "tensor(0.9718)\n",
      "tensor([0.2650, 0.0234, 0.2418, 0.4362, 0.0343])\n",
      "tensor([0.2650, 0.7087, 0.9383])\n",
      "0.9718323349952698\n"
     ]
    }
   ],
   "source": [
    "x = t.rand(5,3)\n",
    "print(x)\n",
    "\n",
    "print(x[1,1]) #Only a specific element - e.g. [1,1]\n",
    "print(x[:,0]) #Extract only the first column\n",
    "print(x[0,:]) #Extract only the first row\n",
    "\n",
    "print(x[1,1].item()) #Obtain am item value of a specific element"
   ]
  },
  {
   "cell_type": "markdown",
   "metadata": {},
   "source": [
    "### Reshaping tensors"
   ]
  },
  {
   "cell_type": "markdown",
   "metadata": {},
   "source": [
    "#### view() method"
   ]
  },
  {
   "cell_type": "code",
   "execution_count": 33,
   "metadata": {},
   "outputs": [
    {
     "name": "stdout",
     "output_type": "stream",
     "text": [
      "tensor([[0.0040, 0.0048, 0.5729, 0.2066],\n",
      "        [0.0286, 0.0138, 0.2127, 0.5505],\n",
      "        [0.0341, 0.5896, 0.7446, 0.9005],\n",
      "        [0.3749, 0.8714, 0.0062, 0.9705]])\n",
      "tensor([0.0040, 0.0048, 0.5729, 0.2066, 0.0286, 0.0138, 0.2127, 0.5505, 0.0341,\n",
      "        0.5896, 0.7446, 0.9005, 0.3749, 0.8714, 0.0062, 0.9705])\n",
      "torch.Size([16])\n",
      "torch.Size([16])\n",
      "tensor([[0.0040, 0.0048, 0.5729, 0.2066, 0.0286, 0.0138, 0.2127, 0.5505],\n",
      "        [0.0341, 0.5896, 0.7446, 0.9005, 0.3749, 0.8714, 0.0062, 0.9705]])\n",
      "torch.Size([2, 8])\n"
     ]
    }
   ],
   "source": [
    "x = t.rand(4,4)\n",
    "print(x)\n",
    "\n",
    "y = x.view(16) #Copy elements into a 1D tensor of size 16\n",
    "print(y)\n",
    "print(y.size())\n",
    "\n",
    "y = x.view(-1) #Copy elements into a 1D tensor and its size is automatically decided\n",
    "print(y.size())\n",
    "\n",
    "y = x.view(-1,8) #2nd dimension is set to 8, the 1st dimension automatically decided\n",
    "print(y)\n",
    "print(y.size())"
   ]
  },
  {
   "cell_type": "markdown",
   "metadata": {},
   "source": [
    "#### reshape() method"
   ]
  },
  {
   "cell_type": "code",
   "execution_count": 47,
   "metadata": {},
   "outputs": [
    {
     "name": "stdout",
     "output_type": "stream",
     "text": [
      "tensor([0, 1, 2, 3, 4, 5, 6, 7, 8, 9])\n",
      "tensor([[0, 1],\n",
      "        [2, 3],\n",
      "        [4, 5],\n",
      "        [6, 7],\n",
      "        [8, 9]])\n",
      "tensor([[0, 1, 2, 3, 4],\n",
      "        [5, 6, 7, 8, 9]])\n"
     ]
    }
   ],
   "source": [
    "x = t.arange(10)\n",
    "print(x)\n",
    "\n",
    "y = x.reshape(-1,2)\n",
    "print(y)\n",
    "\n",
    "z = x.reshape(2,5)\n",
    "print(z)"
   ]
  },
  {
   "cell_type": "markdown",
   "metadata": {},
   "source": [
    "### Converting tensors (numpy and torch)"
   ]
  },
  {
   "cell_type": "code",
   "execution_count": 34,
   "metadata": {},
   "outputs": [],
   "source": [
    "import numpy as np"
   ]
  },
  {
   "cell_type": "markdown",
   "metadata": {},
   "source": [
    "#### torch to numpy"
   ]
  },
  {
   "cell_type": "code",
   "execution_count": 35,
   "metadata": {},
   "outputs": [
    {
     "name": "stdout",
     "output_type": "stream",
     "text": [
      "tensor([0.5943, 0.6751, 0.6130, 0.1697, 0.7036])\n",
      "torch.float32\n",
      "[0.59431666 0.6751411  0.61298096 0.16971195 0.7036039 ]\n",
      "<class 'numpy.ndarray'>\n",
      "tensor([1.5943, 1.6751, 1.6130, 1.1697, 1.7036])\n",
      "[1.5943167 1.6751411 1.612981  1.169712  1.703604 ]\n"
     ]
    }
   ],
   "source": [
    "a = t.rand(5)\n",
    "print(a)\n",
    "print(a.dtype)\n",
    "\n",
    "b = a.numpy()\n",
    "print(b)\n",
    "print(type(b))\n",
    "\n",
    "a += 1\n",
    "\n",
    "print(a) # a and b share the same memory (unless GPUs are available in the system),\n",
    "print(b) # hence, when a changes, b also and vice versa"
   ]
  },
  {
   "cell_type": "markdown",
   "metadata": {},
   "source": [
    "#### numpy to torch"
   ]
  },
  {
   "cell_type": "code",
   "execution_count": 36,
   "metadata": {},
   "outputs": [
    {
     "name": "stdout",
     "output_type": "stream",
     "text": [
      "[1. 1. 1. 1. 1.]\n",
      "tensor([1., 1., 1., 1., 1.], dtype=torch.float64)\n"
     ]
    }
   ],
   "source": [
    "a = np.ones(5)\n",
    "print(a)\n",
    "\n",
    "b = t.from_numpy(a)\n",
    "print(b)"
   ]
  },
  {
   "cell_type": "markdown",
   "metadata": {},
   "source": [
    "### requires_grad argument"
   ]
  },
  {
   "cell_type": "markdown",
   "metadata": {},
   "source": [
    "This argument (requires_grad) tells that this variable's gradient needs to be calculated later. By default, this is False."
   ]
  },
  {
   "cell_type": "code",
   "execution_count": 37,
   "metadata": {},
   "outputs": [
    {
     "name": "stdout",
     "output_type": "stream",
     "text": [
      "tensor([1., 1., 1., 1., 1.], requires_grad=True)\n"
     ]
    }
   ],
   "source": [
    "x = t.ones(5, requires_grad=True)\n",
    "print(x)"
   ]
  }
 ],
 "metadata": {
  "kernelspec": {
   "display_name": "Python 3",
   "language": "python",
   "name": "python3"
  },
  "language_info": {
   "codemirror_mode": {
    "name": "ipython",
    "version": 3
   },
   "file_extension": ".py",
   "mimetype": "text/x-python",
   "name": "python",
   "nbconvert_exporter": "python",
   "pygments_lexer": "ipython3",
   "version": "3.7.6"
  },
  "toc": {
   "base_numbering": 1,
   "nav_menu": {},
   "number_sections": true,
   "sideBar": true,
   "skip_h1_title": false,
   "title_cell": "Table of Contents",
   "title_sidebar": "Contents",
   "toc_cell": false,
   "toc_position": {
    "height": "calc(100% - 180px)",
    "left": "10px",
    "top": "150px",
    "width": "374.2px"
   },
   "toc_section_display": true,
   "toc_window_display": true
  }
 },
 "nbformat": 4,
 "nbformat_minor": 4
}
