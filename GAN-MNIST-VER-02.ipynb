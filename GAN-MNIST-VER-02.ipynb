{
 "cells": [
  {
   "cell_type": "markdown",
   "metadata": {},
   "source": [
    "## Loading the required libraries"
   ]
  },
  {
   "cell_type": "code",
   "execution_count": 61,
   "metadata": {
    "ExecuteTime": {
     "end_time": "2020-05-02T18:43:41.129185Z",
     "start_time": "2020-05-02T18:43:41.125943Z"
    }
   },
   "outputs": [
    {
     "name": "stdout",
     "output_type": "stream",
     "text": [
      "cuda\n"
     ]
    }
   ],
   "source": [
    "import torch\n",
    "from torchvision import datasets, transforms\n",
    "import torch.nn as nn\n",
    "from torch.autograd.variable import Variable\n",
    "from torch import optim\n",
    "import torch.nn.functional as F\n",
    "\n",
    "# Device configuration\n",
    "device = torch.device('cuda' if torch.cuda.is_available() else 'cpu')\n",
    "print(device)"
   ]
  },
  {
   "cell_type": "markdown",
   "metadata": {},
   "source": [
    "## Loading the MNIST dataset"
   ]
  },
  {
   "cell_type": "markdown",
   "metadata": {},
   "source": [
    "### Downloading train and test datasets"
   ]
  },
  {
   "cell_type": "code",
   "execution_count": 62,
   "metadata": {
    "ExecuteTime": {
     "end_time": "2020-05-02T18:43:41.182075Z",
     "start_time": "2020-05-02T18:43:41.161616Z"
    }
   },
   "outputs": [],
   "source": [
    "#Loading training data\n",
    "train = datasets.MNIST(\n",
    "    root=\"\", #Folder where the dataset to be stored; empty means stored in current folder\n",
    "    train=True, #Download the 'training' dataset, False => download 'test' dataset\n",
    "    download=True, #Should be 'True' in the first time downling the dataset, else 'False'\n",
    "    transform=transforms.Compose([transforms.ToTensor()])\n",
    ")\n",
    "\n",
    "#Loading test data\n",
    "test = datasets.MNIST(\n",
    "    root=\"\",\n",
    "    train=False,\n",
    "    download=True,\n",
    "    transform=transforms.Compose([transforms.ToTensor()])\n",
    ")"
   ]
  },
  {
   "cell_type": "markdown",
   "metadata": {},
   "source": [
    "### Wraping downloaded datasets into data loaders"
   ]
  },
  {
   "cell_type": "code",
   "execution_count": 63,
   "metadata": {
    "ExecuteTime": {
     "end_time": "2020-05-02T18:43:41.194920Z",
     "start_time": "2020-05-02T18:43:41.191633Z"
    }
   },
   "outputs": [
    {
     "name": "stdout",
     "output_type": "stream",
     "text": [
      "Batch size =  8\n",
      "Batch size =  8\n"
     ]
    }
   ],
   "source": [
    "from torch.utils.data import DataLoader\n",
    "\n",
    "trainDL = DataLoader(train, batch_size=8, shuffle=True)\n",
    "testDL  = DataLoader(test, batch_size=8, shuffle=True)\n",
    "print(\"Batch size = \", trainDL.batch_size)\n",
    "print(\"Batch size = \", testDL.batch_size)"
   ]
  },
  {
   "cell_type": "markdown",
   "metadata": {},
   "source": [
    "### Getting the first batch of images and their labels"
   ]
  },
  {
   "cell_type": "code",
   "execution_count": 64,
   "metadata": {
    "ExecuteTime": {
     "end_time": "2020-05-02T18:43:41.222513Z",
     "start_time": "2020-05-02T18:43:41.217634Z"
    }
   },
   "outputs": [
    {
     "name": "stdout",
     "output_type": "stream",
     "text": [
      "torch.Size([8, 1, 28, 28])\n"
     ]
    }
   ],
   "source": [
    "data_itr = iter(trainDL)\n",
    "first_batch_of_images, first_batch_of_labels = data_itr.next()\n",
    "print(first_batch_of_images.shape)"
   ]
  },
  {
   "cell_type": "markdown",
   "metadata": {},
   "source": [
    "## Discriminator class"
   ]
  },
  {
   "cell_type": "code",
   "execution_count": 65,
   "metadata": {
    "ExecuteTime": {
     "end_time": "2020-05-02T18:43:41.264330Z",
     "start_time": "2020-05-02T18:43:41.249301Z"
    }
   },
   "outputs": [
    {
     "name": "stdout",
     "output_type": "stream",
     "text": [
      "DiscriminatorNet(\n",
      "  (fc1): Linear(in_features=784, out_features=1024, bias=True)\n",
      "  (fc2): Linear(in_features=1024, out_features=512, bias=True)\n",
      "  (fc3): Linear(in_features=512, out_features=256, bias=True)\n",
      "  (fc4): Linear(in_features=256, out_features=1, bias=True)\n",
      ")\n"
     ]
    }
   ],
   "source": [
    "class DiscriminatorNet(torch.nn.Module):\n",
    "    '''\n",
    "    Three hidden layered discriminative neural network\n",
    "    Input - 1D tensor of size 784 (Equivalent to image of size 28*28)\n",
    "    Output - Probability(Image is a fake)\n",
    "    '''\n",
    "    def __init__(self, input_dim):\n",
    "        super(DiscriminatorNet, self).__init__()\n",
    "        self.fc1 = nn.Linear(input_dim, 1024)\n",
    "        self.fc2 = nn.Linear(self.fc1.out_features, self.fc1.out_features//2)\n",
    "        self.fc3 = nn.Linear(self.fc2.out_features, self.fc2.out_features//2)\n",
    "        self.fc4 = nn.Linear(self.fc3.out_features, 1)\n",
    "    \n",
    "    def forward(self, x):\n",
    "        x = F.leaky_relu(self.fc1(x), 0.2)\n",
    "        x = F.dropout(x, 0.3)\n",
    "        x = F.leaky_relu(self.fc2(x), 0.2)\n",
    "        x = F.dropout(x, 0.3)\n",
    "        x = F.leaky_relu(self.fc3(x), 0.2)\n",
    "        x = F.dropout(x, 0.3)\n",
    "        x = torch.sigmoid(self.fc4(x))\n",
    "        return x\n",
    "        \n",
    "D = DiscriminatorNet(784).to(device)\n",
    "print(D)"
   ]
  },
  {
   "cell_type": "markdown",
   "metadata": {},
   "source": [
    "## Conversion functions"
   ]
  },
  {
   "cell_type": "markdown",
   "metadata": {},
   "source": [
    "### Images to vectors"
   ]
  },
  {
   "cell_type": "code",
   "execution_count": 66,
   "metadata": {
    "ExecuteTime": {
     "end_time": "2020-05-02T18:43:41.289237Z",
     "start_time": "2020-05-02T18:43:41.287150Z"
    }
   },
   "outputs": [],
   "source": [
    "def images2vectors(images):\n",
    "    '''\n",
    "    Converts batch of image tensors to batch of 1D tensors\n",
    "    '''\n",
    "    return images.view(images.shape[0], 784)"
   ]
  },
  {
   "cell_type": "code",
   "execution_count": 67,
   "metadata": {
    "ExecuteTime": {
     "end_time": "2020-05-02T18:43:41.305206Z",
     "start_time": "2020-05-02T18:43:41.303076Z"
    }
   },
   "outputs": [
    {
     "name": "stdout",
     "output_type": "stream",
     "text": [
      "torch.Size([8, 784])\n"
     ]
    }
   ],
   "source": [
    "converted_vectors = images2vectors(first_batch_of_images)\n",
    "print(converted_vectors.shape)"
   ]
  },
  {
   "cell_type": "markdown",
   "metadata": {},
   "source": [
    "### Vectors to images"
   ]
  },
  {
   "cell_type": "code",
   "execution_count": 68,
   "metadata": {
    "ExecuteTime": {
     "end_time": "2020-05-02T18:43:41.330416Z",
     "start_time": "2020-05-02T18:43:41.328210Z"
    }
   },
   "outputs": [],
   "source": [
    "def vectors2images(vectors):\n",
    "    '''\n",
    "    Converts a batch 1D tensors to batch of 2D images \n",
    "    '''\n",
    "    return vectors.view(vectors.shape[0], 1, 28, 28)"
   ]
  },
  {
   "cell_type": "code",
   "execution_count": 69,
   "metadata": {
    "ExecuteTime": {
     "end_time": "2020-05-02T18:43:41.347165Z",
     "start_time": "2020-05-02T18:43:41.344943Z"
    }
   },
   "outputs": [
    {
     "name": "stdout",
     "output_type": "stream",
     "text": [
      "torch.Size([8, 1, 28, 28])\n"
     ]
    }
   ],
   "source": [
    "converted_images = vectors2images(converted_vectors)\n",
    "print(converted_images.shape)"
   ]
  },
  {
   "cell_type": "markdown",
   "metadata": {},
   "source": [
    "## Generator class"
   ]
  },
  {
   "cell_type": "code",
   "execution_count": 70,
   "metadata": {
    "ExecuteTime": {
     "end_time": "2020-05-02T18:43:41.387789Z",
     "start_time": "2020-05-02T18:43:41.374207Z"
    }
   },
   "outputs": [
    {
     "name": "stdout",
     "output_type": "stream",
     "text": [
      "GeneratorNet(\n",
      "  (fc1): Linear(in_features=100, out_features=256, bias=True)\n",
      "  (fc2): Linear(in_features=256, out_features=512, bias=True)\n",
      "  (fc3): Linear(in_features=512, out_features=1024, bias=True)\n",
      "  (fc4): Linear(in_features=1024, out_features=784, bias=True)\n",
      ")\n"
     ]
    }
   ],
   "source": [
    "class GeneratorNet(torch.nn.Module):\n",
    "    '''\n",
    "    Three hidden layered generative neural network\n",
    "    Input - Vector of size 100 (random)\n",
    "    Output - Vector of size 784 (image of 28*28)\n",
    "    '''\n",
    "    def __init__(self, input_dim, output_dim):\n",
    "        super(GeneratorNet, self).__init__()\n",
    "        self.fc1 = nn.Linear(input_dim, 256)\n",
    "        self.fc2 = nn.Linear(self.fc1.out_features, self.fc1.out_features*2)\n",
    "        self.fc3 = nn.Linear(self.fc2.out_features, self.fc2.out_features*2)\n",
    "        self.fc4 = nn.Linear(self.fc3.out_features, output_dim)\n",
    "        \n",
    "    def forward(self, x):\n",
    "        x = F.leaky_relu(self.fc1(x), 0.2)\n",
    "        x = F.leaky_relu(self.fc2(x), 0.2)\n",
    "        x = F.leaky_relu(self.fc3(x), 0.2)\n",
    "        x = torch.tanh(self.fc4(x))\n",
    "        return x\n",
    "    \n",
    "G = GeneratorNet(input_dim=100, output_dim=784).to(device)\n",
    "print(G)"
   ]
  },
  {
   "cell_type": "markdown",
   "metadata": {},
   "source": [
    "## Other required functions"
   ]
  },
  {
   "cell_type": "markdown",
   "metadata": {},
   "source": [
    "### Noise function"
   ]
  },
  {
   "cell_type": "code",
   "execution_count": 71,
   "metadata": {
    "ExecuteTime": {
     "end_time": "2020-05-02T18:43:41.415739Z",
     "start_time": "2020-05-02T18:43:41.413539Z"
    }
   },
   "outputs": [],
   "source": [
    "def noise(size):\n",
    "    '''\n",
    "    Generates a 1D tensor of Gausian random sampled values from N(0,1)\n",
    "    '''\n",
    "    n = Variable(torch.randn(size, 100)) #100 - no of inputs to the generator\n",
    "    return n"
   ]
  },
  {
   "cell_type": "markdown",
   "metadata": {},
   "source": [
    "### ones_target() function"
   ]
  },
  {
   "cell_type": "code",
   "execution_count": 72,
   "metadata": {
    "ExecuteTime": {
     "end_time": "2020-05-02T18:43:41.443667Z",
     "start_time": "2020-05-02T18:43:41.441302Z"
    }
   },
   "outputs": [],
   "source": [
    "def ones_target(size):\n",
    "    '''\n",
    "    Outputs a tensor containing all ones, with shape = (size, 1)\n",
    "    '''\n",
    "    data = Variable(torch.ones(size, 1))\n",
    "    return data"
   ]
  },
  {
   "cell_type": "code",
   "execution_count": 73,
   "metadata": {
    "ExecuteTime": {
     "end_time": "2020-05-02T18:43:41.461513Z",
     "start_time": "2020-05-02T18:43:41.458532Z"
    }
   },
   "outputs": [
    {
     "name": "stdout",
     "output_type": "stream",
     "text": [
      "torch.Size([8, 1])\n",
      "tensor([[1.],\n",
      "        [1.],\n",
      "        [1.],\n",
      "        [1.],\n",
      "        [1.],\n",
      "        [1.],\n",
      "        [1.],\n",
      "        [1.]])\n"
     ]
    }
   ],
   "source": [
    "ones_labels = ones_target(8)\n",
    "print(ones_labels.shape)\n",
    "print(ones_labels)"
   ]
  },
  {
   "cell_type": "markdown",
   "metadata": {},
   "source": [
    "### zeros_target() function"
   ]
  },
  {
   "cell_type": "code",
   "execution_count": 74,
   "metadata": {
    "ExecuteTime": {
     "end_time": "2020-05-02T18:43:41.487918Z",
     "start_time": "2020-05-02T18:43:41.485482Z"
    }
   },
   "outputs": [],
   "source": [
    "def zeros_target(size):\n",
    "    '''\n",
    "    Outputs a tensor containing all zeros, with shape = (size, 1)\n",
    "    '''\n",
    "    data = Variable(torch.zeros(size, 1))\n",
    "    return data"
   ]
  },
  {
   "cell_type": "code",
   "execution_count": 75,
   "metadata": {
    "ExecuteTime": {
     "end_time": "2020-05-02T18:43:41.506260Z",
     "start_time": "2020-05-02T18:43:41.503321Z"
    }
   },
   "outputs": [
    {
     "name": "stdout",
     "output_type": "stream",
     "text": [
      "torch.Size([8, 1])\n",
      "tensor([[0.],\n",
      "        [0.],\n",
      "        [0.],\n",
      "        [0.],\n",
      "        [0.],\n",
      "        [0.],\n",
      "        [0.],\n",
      "        [0.]])\n"
     ]
    }
   ],
   "source": [
    "zero_labels = zeros_target(8)\n",
    "print(zero_labels.shape)\n",
    "print(zero_labels)"
   ]
  },
  {
   "cell_type": "markdown",
   "metadata": {
    "ExecuteTime": {
     "end_time": "2020-04-27T14:37:16.302301Z",
     "start_time": "2020-04-27T14:37:16.293491Z"
    }
   },
   "source": [
    "## Optimizers"
   ]
  },
  {
   "cell_type": "code",
   "execution_count": 76,
   "metadata": {
    "ExecuteTime": {
     "end_time": "2020-05-02T18:43:41.532030Z",
     "start_time": "2020-05-02T18:43:41.529761Z"
    }
   },
   "outputs": [],
   "source": [
    "D_optimizer = optim.Adam(D.parameters(), lr=0.0002)\n",
    "G_optimizer = optim.Adam(G.parameters(), lr=0.0002)"
   ]
  },
  {
   "cell_type": "markdown",
   "metadata": {},
   "source": [
    "## Loss"
   ]
  },
  {
   "cell_type": "markdown",
   "metadata": {},
   "source": [
    "### Loss function"
   ]
  },
  {
   "cell_type": "markdown",
   "metadata": {},
   "source": [
    "The binary cross entropy loss\n",
    "\n",
    "> $ L(y,\\hat{y})  = -\\frac{1}{N} \\sum_{i=0}^{N}[y_i\\log (\\hat{y_i}) + (1-y_i)\\log (1 - \\hat{y_i})] $\n",
    "\n",
    "is used as discriminator does a binary classification."
   ]
  },
  {
   "cell_type": "code",
   "execution_count": 77,
   "metadata": {
    "ExecuteTime": {
     "end_time": "2020-05-02T18:43:41.574884Z",
     "start_time": "2020-05-02T18:43:41.572721Z"
    }
   },
   "outputs": [],
   "source": [
    "loss_fn = nn.BCELoss()"
   ]
  },
  {
   "cell_type": "markdown",
   "metadata": {},
   "source": [
    "### Discriminator loss"
   ]
  },
  {
   "cell_type": "markdown",
   "metadata": {},
   "source": [
    "The loss is defined as\n",
    "\n",
    "> $ Loss\\_D = \\frac{1}{N}\\sum_{i=1}^{N}\\log D(x^i) + \\log(1-D(G(z^i))) $\n",
    "\n",
    "where $x$ represents a real image and $z$ fake noise. $G(z)$ generates a fake image."
   ]
  },
  {
   "cell_type": "code",
   "execution_count": 78,
   "metadata": {
    "ExecuteTime": {
     "end_time": "2020-05-02T18:43:41.613922Z",
     "start_time": "2020-05-02T18:43:41.609979Z"
    }
   },
   "outputs": [],
   "source": [
    "def train_discriminator(x):\n",
    "    '''\n",
    "    Train the discriminator 'D' for images 'x' and return its loss\n",
    "    '''\n",
    "    D.zero_grad()\n",
    "    \n",
    "    # Train the discriminator on real data\n",
    "    x_real = images2vectors(x).to(device)\n",
    "    y_real = ones_target(x.shape[0]).to(device)\n",
    "    pred_real = D(x_real)\n",
    "    loss_real = loss_fn(pred_real, y_real)\n",
    "    \n",
    "    # Train the discriminator on fake data\n",
    "    x_fake = G(noise(x.shape[0]).to(device))\n",
    "    y_fake = zeros_target(x.shape[0]).to(device)\n",
    "    pred_fake = D(x_fake)\n",
    "    loss_fake = loss_fn(pred_fake, y_fake)\n",
    "    \n",
    "    # Gradient backprop and optimize ONLY discriminator(D)'s parameters\n",
    "    D_loss = loss_real + loss_fake\n",
    "    D_loss.backward()\n",
    "    D_optimizer.step()\n",
    "    \n",
    "    return D_loss"
   ]
  },
  {
   "cell_type": "markdown",
   "metadata": {},
   "source": [
    "### Generator loss"
   ]
  },
  {
   "cell_type": "markdown",
   "metadata": {},
   "source": [
    "The loss is defined as\n",
    "\n",
    "> $ Loss_G = \\frac{1}{m}\\sum_{i=1}^{N} \\log (1 - D(G(z^{(i)}))) $"
   ]
  },
  {
   "cell_type": "code",
   "execution_count": 79,
   "metadata": {
    "ExecuteTime": {
     "end_time": "2020-05-02T18:43:41.652322Z",
     "start_time": "2020-05-02T18:43:41.649375Z"
    }
   },
   "outputs": [],
   "source": [
    "def train_generator(x):\n",
    "    '''\n",
    "    Train the generator 'G' and rerturn its loss\n",
    "    '''\n",
    "    G.zero_grad()\n",
    "    \n",
    "    z = noise(x.shape[0]).to(device)\n",
    "    y = ones_target(x.shape[0]).to(device)\n",
    "    pred = D(G(z))\n",
    "    G_loss = loss_fn(pred, y)\n",
    "    \n",
    "    # Gradient backprop and optimize ONLY generator(G)'s parameters\n",
    "    G_loss.backward()\n",
    "    G_optimizer.step()\n",
    "    \n",
    "    return G_loss"
   ]
  },
  {
   "cell_type": "markdown",
   "metadata": {},
   "source": [
    "## Training"
   ]
  },
  {
   "cell_type": "code",
   "execution_count": 80,
   "metadata": {
    "ExecuteTime": {
     "end_time": "2020-05-02T19:01:30.823308Z",
     "start_time": "2020-05-02T18:43:41.681072Z"
    },
    "scrolled": true
   },
   "outputs": [
    {
     "name": "stdout",
     "output_type": "stream",
     "text": [
      "Epoch [    1/   10] | mean_d_loss: 1.0482 | mean_g_loss: 1.4070\n",
      "Epoch [    2/   10] | mean_d_loss: 0.8146 | mean_g_loss: 1.7788\n",
      "Epoch [    3/   10] | mean_d_loss: 0.6980 | mean_g_loss: 2.1370\n",
      "Epoch [    4/   10] | mean_d_loss: 0.5726 | mean_g_loss: 2.6148\n",
      "Epoch [    5/   10] | mean_d_loss: 0.5047 | mean_g_loss: 2.9259\n",
      "Epoch [    6/   10] | mean_d_loss: 0.4724 | mean_g_loss: 3.0903\n",
      "Epoch [    7/   10] | mean_d_loss: 0.4450 | mean_g_loss: 3.2630\n",
      "Epoch [    8/   10] | mean_d_loss: 0.4226 | mean_g_loss: 3.4020\n",
      "Epoch [    9/   10] | mean_d_loss: 0.4066 | mean_g_loss: 3.4666\n",
      "Epoch [   10/   10] | mean_d_loss: 0.3969 | mean_g_loss: 3.4974\n"
     ]
    }
   ],
   "source": [
    "epochs = 10\n",
    "\n",
    "for epoch in range(epochs):\n",
    "    d_losses = []\n",
    "    g_losses = []\n",
    "    for data in trainDL:\n",
    "        images, _ = data\n",
    "        # Training the discriminator (D)\n",
    "        d_loss = train_discriminator(images)\n",
    "        d_losses.append(d_loss.item())\n",
    "        # Training the generator (G)\n",
    "        g_loss = train_generator(images)\n",
    "        g_losses.append(g_loss.item())\n",
    "    print('Epoch [{:5d}/{:5d}] | mean_d_loss: {:6.4f} | mean_g_loss: {:6.4f}'.format(\n",
    "                epoch+1, epochs, torch.mean(torch.FloatTensor(d_losses)), \n",
    "                torch.mean(torch.FloatTensor(g_losses))))"
   ]
  },
  {
   "cell_type": "markdown",
   "metadata": {},
   "source": [
    "## Testing the generator"
   ]
  },
  {
   "cell_type": "code",
   "execution_count": 83,
   "metadata": {
    "ExecuteTime": {
     "end_time": "2020-05-02T19:04:19.430206Z",
     "start_time": "2020-05-02T19:04:19.402173Z"
    }
   },
   "outputs": [
    {
     "name": "stdout",
     "output_type": "stream",
     "text": [
      "torch.Size([32, 100])\n",
      "torch.Size([32, 784])\n",
      "torch.Size([32, 1, 28, 28])\n"
     ]
    }
   ],
   "source": [
    "from torchvision.utils import save_image\n",
    "import matplotlib.pyplot as plt\n",
    "\n",
    "with torch.no_grad():\n",
    "    noise_test = noise(32).to(device)\n",
    "    print(noise_test.shape)\n",
    "    G.eval()\n",
    "    fake_img_vecs = G(noise_test)\n",
    "    print(fake_img_vecs.shape)\n",
    "    fake_imgs = fake_img_vecs.view(fake_img_vecs.shape[0], 1, 28, 28)\n",
    "    print(fake_imgs.shape)\n",
    "    save_image(fake_imgs, 'fake2'+'.png')"
   ]
  },
  {
   "cell_type": "code",
   "execution_count": 84,
   "metadata": {
    "ExecuteTime": {
     "end_time": "2020-05-02T19:04:22.987840Z",
     "start_time": "2020-05-02T19:04:22.875838Z"
    }
   },
   "outputs": [
    {
     "name": "stderr",
     "output_type": "stream",
     "text": [
      "Clipping input data to the valid range for imshow with RGB data ([0..1] for floats or [0..255] for integers).\n"
     ]
    },
    {
     "data": {
      "image/png": "[encoded data removed]",
      "text/plain": [
       "<Figure size 432x288 with 1 Axes>"
      ]
     },
     "metadata": {
      "needs_background": "light"
     },
     "output_type": "display_data"
    }
   ],
   "source": [
    "import matplotlib.pyplot as plt\n",
    "import numpy as np\n",
    "from torchvision import utils\n",
    "\n",
    "#Functions to show an image\n",
    "def imshow(img):\n",
    "    # img = img / 2 + 0.5     # unnormalize\n",
    "    npimg = img.numpy()\n",
    "    plt.imshow(np.transpose(npimg, (1, 2, 0)))\n",
    "    plt.show()\n",
    "    \n",
    "imshow(utils.make_grid(fake_imgs.detach().to('cpu')))"
   ]
  }
 ],
 "metadata": {
  "kernelspec": {
   "display_name": "Python 3",
   "language": "python",
   "name": "python3"
  },
  "language_info": {
   "codemirror_mode": {
    "name": "ipython",
    "version": 3
   },
   "file_extension": ".py",
   "mimetype": "text/x-python",
   "name": "python",
   "nbconvert_exporter": "python",
   "pygments_lexer": "ipython3",
   "version": "3.7.6"
  },
  "nbTranslate": {
   "displayLangs": [
    "*"
   ],
   "hotkey": "alt-t",
   "langInMainMenu": true,
   "sourceLang": "en",
   "targetLang": "fr",
   "useGoogleTranslate": true
  },
  "toc": {
   "base_numbering": 1,
   "nav_menu": {},
   "number_sections": true,
   "sideBar": true,
   "skip_h1_title": false,
   "title_cell": "Table of Contents",
   "title_sidebar": "Contents",
   "toc_cell": false,
   "toc_position": {
    "height": "calc(100% - 180px)",
    "left": "10px",
    "top": "150px",
    "width": "374.2px"
   },
   "toc_section_display": true,
   "toc_window_display": true
  },
  "varInspector": {
   "cols": {
    "lenName": 16,
    "lenType": 16,
    "lenVar": 40
   },
   "kernels_config": {
    "python": {
     "delete_cmd_postfix": "",
     "delete_cmd_prefix": "del ",
     "library": "var_list.py",
     "varRefreshCmd": "print(var_dic_list())"
    },
    "r": {
     "delete_cmd_postfix": ") ",
     "delete_cmd_prefix": "rm(",
     "library": "var_list.r",
     "varRefreshCmd": "cat(var_dic_list()) "
    }
   },
   "types_to_exclude": [
    "module",
    "function",
    "builtin_function_or_method",
    "instance",
    "_Feature"
   ],
   "window_display": false
  }
 },
 "nbformat": 4,
 "nbformat_minor": 4
}
