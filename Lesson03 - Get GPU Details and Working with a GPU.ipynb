{
 "cells": [
  {
   "cell_type": "markdown",
   "metadata": {},
   "source": [
    "### Get GPU details"
   ]
  },
  {
   "cell_type": "code",
   "execution_count": 34,
   "metadata": {},
   "outputs": [
    {
     "name": "stdout",
     "output_type": "stream",
     "text": [
      "GPU details:\n",
      "************\n",
      "GPU name =  GeForce RTX 2060\n",
      "No of GPUs available =  1\n",
      "Current device name =  0\n",
      "Current device properties =  _CudaDeviceProperties(name='GeForce RTX 2060', major=7, minor=5, total_memory=5931MB, multi_processor_count=30)\n"
     ]
    }
   ],
   "source": [
    "import torch as t\n",
    "\n",
    "#Prints GPU and CUDA information if available\n",
    "if t.cuda.is_available():\n",
    "    print(\"GPU details:\")\n",
    "    print(\"************\")\n",
    "    print(\"GPU name = \", t.cuda.get_device_name())\n",
    "    print(\"No of GPUs available = \", t.cuda.device_count())\n",
    "    cur_device_name = t.cuda.current_device()\n",
    "    print(\"Current device name = \", cur_device_name)\n",
    "    print(\"Current device properties = \", t.cuda.get_device_properties(cur_device_name))\n",
    "else:\n",
    "    print(\"No GPU is available.\")\n",
    "    print(\"If there are no GPUs available in your machine, try Google CoLab which is freely available on the web.\")"
   ]
  },
  {
   "cell_type": "markdown",
   "metadata": {},
   "source": [
    "### Creating an object to represent the CUDA device"
   ]
  },
  {
   "cell_type": "code",
   "execution_count": 35,
   "metadata": {},
   "outputs": [
    {
     "name": "stdout",
     "output_type": "stream",
     "text": [
      "cuda:0\n"
     ]
    }
   ],
   "source": [
    "cuda0 = t.device('cuda:0')\n",
    "print(cuda0)"
   ]
  },
  {
   "cell_type": "markdown",
   "metadata": {},
   "source": [
    "### Create two tensors at current CUDA and add them"
   ]
  },
  {
   "cell_type": "code",
   "execution_count": 36,
   "metadata": {},
   "outputs": [
    {
     "name": "stdout",
     "output_type": "stream",
     "text": [
      "a =  tensor([[1., 1., 1.],\n",
      "        [1., 1., 1.],\n",
      "        [1., 1., 1.]], device='cuda:0')\n",
      "b =  tensor([[5., 5., 5.],\n",
      "        [5., 5., 5.],\n",
      "        [5., 5., 5.]], device='cuda:0')\n",
      "c =  tensor([[6., 6., 6.],\n",
      "        [6., 6., 6.],\n",
      "        [6., 6., 6.]], device='cuda:0')\n"
     ]
    }
   ],
   "source": [
    "a = t.ones(3, 3, device = cuda0)\n",
    "print(\"a = \", a)\n",
    "b = t.full((3,3), 5, device = cuda0)\n",
    "print(\"b = \", b)\n",
    "c = a + b #To perform the operation at CUDA both a anb b should be at the CUDA\n",
    "print(\"c = \", c)"
   ]
  },
  {
   "cell_type": "markdown",
   "metadata": {},
   "source": [
    "### Performance - Numpy Vs. CPU tensors Vs. GPU tensors"
   ]
  },
  {
   "cell_type": "code",
   "execution_count": 37,
   "metadata": {},
   "outputs": [],
   "source": [
    "import numpy as np"
   ]
  },
  {
   "cell_type": "markdown",
   "metadata": {},
   "source": [
    "#### Numpy"
   ]
  },
  {
   "cell_type": "code",
   "execution_count": 38,
   "metadata": {},
   "outputs": [
    {
     "name": "stdout",
     "output_type": "stream",
     "text": [
      "CPU times: user 40.4 s, sys: 482 ms, total: 40.9 s\n",
      "Wall time: 6.82 s\n"
     ]
    }
   ],
   "source": [
    "%%time\n",
    "for i in range(10000):\n",
    "    a = np.random.randn(100, 100) #Generate random numbers from standard normal distribution\n",
    "    b = np.random.randn(100, 100)\n",
    "    c = np.matmul(a, b)"
   ]
  },
  {
   "cell_type": "markdown",
   "metadata": {},
   "source": [
    "#### CPU tensors"
   ]
  },
  {
   "cell_type": "code",
   "execution_count": 39,
   "metadata": {},
   "outputs": [
    {
     "name": "stdout",
     "output_type": "stream",
     "text": [
      "CPU times: user 8.04 s, sys: 93.9 ms, total: 8.13 s\n",
      "Wall time: 1.37 s\n"
     ]
    }
   ],
   "source": [
    "%%time\n",
    "for i in range(10000):\n",
    "    a = t.randn(100, 100) #Generate random numbers from standard normal distribution\n",
    "    b = t.randn(100, 100)\n",
    "    c = t.matmul(a, b)"
   ]
  },
  {
   "cell_type": "markdown",
   "metadata": {},
   "source": [
    "#### GPU tensors"
   ]
  },
  {
   "cell_type": "code",
   "execution_count": 40,
   "metadata": {},
   "outputs": [
    {
     "name": "stdout",
     "output_type": "stream",
     "text": [
      "CPU times: user 562 ms, sys: 209 ms, total: 770 ms\n",
      "Wall time: 769 ms\n"
     ]
    }
   ],
   "source": [
    "%%time\n",
    "for i in range(10000):\n",
    "    gpu_a = t.randn(100, 100, device=cuda0) #Generate random numbers from standard normal distribution\n",
    "    gpu_b = t.randn(100, 100, device=cuda0)\n",
    "    gpu_c = t.matmul(gpu_a, gpu_b)"
   ]
  },
  {
   "cell_type": "markdown",
   "metadata": {},
   "source": [
    "### Perform operations on a GPU"
   ]
  },
  {
   "cell_type": "code",
   "execution_count": 41,
   "metadata": {},
   "outputs": [
    {
     "name": "stdout",
     "output_type": "stream",
     "text": [
      "tensor([2., 2., 2., 2., 2.], device='cuda:0')\n",
      "tensor([2., 2., 2., 2., 2.])\n"
     ]
    }
   ],
   "source": [
    "if t.cuda.is_available():\n",
    "    gpu = t.device(\"cuda\")\n",
    "    x = t.ones(5, device=gpu) # x is on GPU\n",
    "    y = t.ones(5)\n",
    "    y = y.to(gpu) # y is transfered to GPU\n",
    "    z = x+y   \n",
    "\n",
    "print(z)\n",
    "z = z.to(\"cpu\") # z is now on CPU, remember that numpy works only on CPUs\n",
    "print(z)"
   ]
  }
 ],
 "metadata": {
  "kernelspec": {
   "display_name": "Python 3",
   "language": "python",
   "name": "python3"
  },
  "language_info": {
   "codemirror_mode": {
    "name": "ipython",
    "version": 3
   },
   "file_extension": ".py",
   "mimetype": "text/x-python",
   "name": "python",
   "nbconvert_exporter": "python",
   "pygments_lexer": "ipython3",
   "version": "3.7.6"
  }
 },
 "nbformat": 4,
 "nbformat_minor": 4
}
