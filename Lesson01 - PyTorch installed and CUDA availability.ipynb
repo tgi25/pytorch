{
 "cells": [
  {
   "cell_type": "code",
   "execution_count": 8,
   "metadata": {},
   "outputs": [
    {
     "name": "stdout",
     "output_type": "stream",
     "text": [
      "tensor([0.0785, 0.5222, 0.2915])\n",
      "Is CUDA available =  True\n"
     ]
    }
   ],
   "source": [
    "import torch as t\n",
    "x = t.rand(3) #creating a random tensor of size 3\n",
    "print(x)\n",
    "print(\"Is CUDA available = \", t.cuda.is_available())"
   ]
  }
 ],
 "metadata": {
  "kernelspec": {
   "display_name": "Python 3",
   "language": "python",
   "name": "python3"
  },
  "language_info": {
   "codemirror_mode": {
    "name": "ipython",
    "version": 3
   },
   "file_extension": ".py",
   "mimetype": "text/x-python",
   "name": "python",
   "nbconvert_exporter": "python",
   "pygments_lexer": "ipython3",
   "version": "3.7.6"
  }
 },
 "nbformat": 4,
 "nbformat_minor": 4
}
