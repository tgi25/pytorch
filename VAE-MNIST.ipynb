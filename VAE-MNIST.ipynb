{
 "cells": [
  {
   "cell_type": "markdown",
   "metadata": {},
   "source": [
    "## Changing the cell width to 100%"
   ]
  },
  {
   "cell_type": "code",
   "execution_count": 8,
   "metadata": {
    "ExecuteTime": {
     "end_time": "2020-05-20T19:13:24.592818Z",
     "start_time": "2020-05-20T19:13:24.582797Z"
    }
   },
   "outputs": [
    {
     "data": {
      "text/html": [
       "<style>.container { width:78% !important; }</style>"
      ],
      "text/plain": [
       "<IPython.core.display.HTML object>"
      ]
     },
     "metadata": {},
     "output_type": "display_data"
    }
   ],
   "source": [
    "# change the cell width\n",
    "from IPython.core.display import display, HTML\n",
    "display(HTML(\"<style>.container { width:78% !important; }</style>\"))"
   ]
  },
  {
   "cell_type": "markdown",
   "metadata": {},
   "source": [
    "## Loading the required libraries"
   ]
  },
  {
   "cell_type": "code",
   "execution_count": 56,
   "metadata": {
    "ExecuteTime": {
     "end_time": "2020-05-17T15:32:41.634162Z",
     "start_time": "2020-05-17T15:32:41.630528Z"
    }
   },
   "outputs": [
    {
     "name": "stdout",
     "output_type": "stream",
     "text": [
      "cuda\n"
     ]
    }
   ],
   "source": [
    "import torch\n",
    "from torchvision import datasets, transforms\n",
    "import torch.nn as nn\n",
    "from torch.autograd.variable import Variable\n",
    "from torch import optim\n",
    "import torch.nn.functional as F\n",
    "\n",
    "# Device configuration\n",
    "device = torch.device('cuda' if torch.cuda.is_available() else 'cpu')\n",
    "print(device)"
   ]
  },
  {
   "cell_type": "markdown",
   "metadata": {},
   "source": [
    "## Functions"
   ]
  },
  {
   "cell_type": "markdown",
   "metadata": {},
   "source": [
    "### underlined_text()"
   ]
  },
  {
   "cell_type": "code",
   "execution_count": 57,
   "metadata": {
    "ExecuteTime": {
     "end_time": "2020-05-17T15:32:41.677166Z",
     "start_time": "2020-05-17T15:32:41.674586Z"
    }
   },
   "outputs": [],
   "source": [
    "def underlined_text(text, char = '='):\n",
    "    length = len(text)\n",
    "    print(text)\n",
    "    print(char*length)"
   ]
  },
  {
   "cell_type": "markdown",
   "metadata": {},
   "source": [
    "### sample_z()"
   ]
  },
  {
   "cell_type": "markdown",
   "metadata": {},
   "source": [
    "Generates a sample from the latent distribution N($\\mu$, $\\sigma^2$). To generate this sample we use the formula\n",
    "\n",
    "> $\\mu + \\sigma\\epsilon $\n",
    "\n",
    "where $\\epsilon$ ~ $N(0,1)$.\n",
    "\n",
    "Note that, we pass log of variance ($\\log\\sigma^2$) to the function (not $\\sigma^2$)."
   ]
  },
  {
   "cell_type": "code",
   "execution_count": 58,
   "metadata": {
    "ExecuteTime": {
     "end_time": "2020-05-17T15:32:41.720094Z",
     "start_time": "2020-05-17T15:32:41.717706Z"
    }
   },
   "outputs": [],
   "source": [
    "def sample_z(mean, log_variance):\n",
    "    eps = Variable(torch.randn(mean.size())).to(device)\n",
    "    return mean + torch.exp(log_variance/2) * eps"
   ]
  },
  {
   "cell_type": "markdown",
   "metadata": {},
   "source": [
    "### KL divergence loss function"
   ]
  },
  {
   "cell_type": "markdown",
   "metadata": {},
   "source": [
    "The KL divergence loss for a VAE for a single sample is defined as\n",
    "> $\\frac{1}{2}$ \\[$\\Sigma_i \\sigma_i^2 + \\Sigma_i \\mu_i^2 - \\Sigma_i(\\log \\sigma_i^2 + 1) $\\]\n",
    "where $\\mu_i$ and $\\sigma_i^2$ are mean and variance of $i$ the component."
   ]
  },
  {
   "cell_type": "code",
   "execution_count": 59,
   "metadata": {
    "ExecuteTime": {
     "end_time": "2020-05-17T15:32:41.765727Z",
     "start_time": "2020-05-17T15:32:41.763386Z"
    }
   },
   "outputs": [],
   "source": [
    "def kl_loss_fn(mean, log_variance):\n",
    "    return 0.5 * torch.sum(\n",
    "        torch.exp(log_variance) #sigma_sqr\n",
    "        + mean**2 # mu_sqr\n",
    "        - log_variance # log(sigma_sqr)\n",
    "        - 1\n",
    "    )"
   ]
  },
  {
   "cell_type": "markdown",
   "metadata": {},
   "source": [
    "### Convert images to vectors "
   ]
  },
  {
   "cell_type": "code",
   "execution_count": 60,
   "metadata": {
    "ExecuteTime": {
     "end_time": "2020-05-17T15:32:41.799043Z",
     "start_time": "2020-05-17T15:32:41.796840Z"
    }
   },
   "outputs": [],
   "source": [
    "def images2vectors(images):\n",
    "    '''\n",
    "    Converts batch of image tensors to batch of 1D tensors\n",
    "    '''\n",
    "    return images.view(images.shape[0], 784)"
   ]
  },
  {
   "cell_type": "markdown",
   "metadata": {},
   "source": [
    "### Convert vectors to images"
   ]
  },
  {
   "cell_type": "code",
   "execution_count": 61,
   "metadata": {
    "ExecuteTime": {
     "end_time": "2020-05-17T15:32:41.832061Z",
     "start_time": "2020-05-17T15:32:41.829871Z"
    }
   },
   "outputs": [],
   "source": [
    "def vectors2images(vectors):\n",
    "    '''\n",
    "    Converts a batch 1D tensors to batch of 2D images \n",
    "    '''\n",
    "    return vectors.view(vectors.shape[0], 1, 28, 28)"
   ]
  },
  {
   "cell_type": "markdown",
   "metadata": {},
   "source": [
    "### Noise"
   ]
  },
  {
   "cell_type": "code",
   "execution_count": 62,
   "metadata": {
    "ExecuteTime": {
     "end_time": "2020-05-17T15:32:41.865998Z",
     "start_time": "2020-05-17T15:32:41.863615Z"
    }
   },
   "outputs": [],
   "source": [
    "def noise(size, latent_dim):\n",
    "    '''\n",
    "    Generates a 1D tensor of Gausian random sampled values from N(0,1)\n",
    "    '''\n",
    "    n = Variable(torch.randn(size, latent_dim))\n",
    "    return n    "
   ]
  },
  {
   "cell_type": "markdown",
   "metadata": {},
   "source": [
    "## Loading the MNIST dataset"
   ]
  },
  {
   "cell_type": "markdown",
   "metadata": {},
   "source": [
    "### Downloading train and test datasets"
   ]
  },
  {
   "cell_type": "code",
   "execution_count": 63,
   "metadata": {
    "ExecuteTime": {
     "end_time": "2020-05-17T15:32:41.927468Z",
     "start_time": "2020-05-17T15:32:41.907447Z"
    }
   },
   "outputs": [],
   "source": [
    "#Loading training data\n",
    "train = datasets.MNIST(\n",
    "    root=\"\", #Folder where the dataset to be stored; empty means stored in current folder\n",
    "    train=True, #Download the 'training' dataset, False => download 'test' dataset\n",
    "    download=True, #Should be 'True' in the first time downling the dataset, else 'False'\n",
    "    transform=transforms.Compose([transforms.ToTensor()])\n",
    ")\n",
    "\n",
    "#Loading test data\n",
    "test = datasets.MNIST(\n",
    "    root=\"\",\n",
    "    train=False,\n",
    "    download=True,\n",
    "    transform=transforms.Compose([transforms.ToTensor()])\n",
    ")"
   ]
  },
  {
   "cell_type": "markdown",
   "metadata": {},
   "source": [
    "### Wraping downloaded datasets into data loaders"
   ]
  },
  {
   "cell_type": "code",
   "execution_count": 64,
   "metadata": {
    "ExecuteTime": {
     "end_time": "2020-05-17T15:32:41.950457Z",
     "start_time": "2020-05-17T15:32:41.947093Z"
    }
   },
   "outputs": [
    {
     "name": "stdout",
     "output_type": "stream",
     "text": [
      "Batch size =  8\n",
      "Batch size =  8\n"
     ]
    }
   ],
   "source": [
    "from torch.utils.data import DataLoader\n",
    "\n",
    "trainDL = DataLoader(train, batch_size=8, shuffle=True)\n",
    "testDL  = DataLoader(test, batch_size=8, shuffle=True)\n",
    "print(\"Batch size = \", trainDL.batch_size)\n",
    "print(\"Batch size = \", testDL.batch_size)"
   ]
  },
  {
   "cell_type": "markdown",
   "metadata": {},
   "source": [
    "### Getting the first batch of images and their labels"
   ]
  },
  {
   "cell_type": "code",
   "execution_count": 65,
   "metadata": {
    "ExecuteTime": {
     "end_time": "2020-05-17T15:32:41.989679Z",
     "start_time": "2020-05-17T15:32:41.983663Z"
    }
   },
   "outputs": [
    {
     "name": "stdout",
     "output_type": "stream",
     "text": [
      "torch.Size([8, 1, 28, 28])\n"
     ]
    }
   ],
   "source": [
    "data_itr = iter(trainDL)\n",
    "first_batch_of_images, first_batch_of_labels = data_itr.next()\n",
    "print(first_batch_of_images.shape)"
   ]
  },
  {
   "cell_type": "markdown",
   "metadata": {},
   "source": [
    "## Classes"
   ]
  },
  {
   "cell_type": "markdown",
   "metadata": {},
   "source": [
    "### Encoder class"
   ]
  },
  {
   "cell_type": "markdown",
   "metadata": {},
   "source": [
    "For the computational convenient, it is assumed that the encoder produces mean ($\\mu$) and log of variance ($\\log \\sigma^2$), instead of variance ($\\sigma^2$), where $\\mu$ and $\\sigma^2$ are mean and variance of the latent distribution (Gaussian distribution)."
   ]
  },
  {
   "cell_type": "code",
   "execution_count": 66,
   "metadata": {
    "ExecuteTime": {
     "end_time": "2020-05-17T15:32:42.052136Z",
     "start_time": "2020-05-17T15:32:42.047654Z"
    }
   },
   "outputs": [],
   "source": [
    "class Encoder(torch.nn.Module):\n",
    "    '''\n",
    "    Encoder part of VAE\n",
    "    '''\n",
    "    def __init__(self, input_dim, hidden_dim, z_dim):\n",
    "        '''\n",
    "        Args:\n",
    "        input_dim: Size of the input (e.g. For MNIST, 28*28)\n",
    "        hidden_dim: Size of the hidden layer\n",
    "        z_dim: Latent dimension\n",
    "        '''\n",
    "        super(Encoder, self).__init__()\n",
    "        \n",
    "        self.fc1 = nn.Linear(input_dim, hidden_dim)\n",
    "        self.fc2 = nn.Linear(hidden_dim, z_dim)\n",
    "        self.fc3 = nn.Linear(hidden_dim, z_dim)      \n",
    "        \n",
    "    def forward(self, x):\n",
    "        '''\n",
    "        Shape of x should be (batch_size, input_dim)\n",
    "        '''\n",
    "        hidden_out = F.relu(self.fc1(x))\n",
    "        mean = self.fc2(hidden_out)\n",
    "        log_variance = self.fc3(hidden_out)\n",
    "        \n",
    "        return mean, log_variance"
   ]
  },
  {
   "cell_type": "markdown",
   "metadata": {},
   "source": [
    "### Decoder class"
   ]
  },
  {
   "cell_type": "code",
   "execution_count": 67,
   "metadata": {
    "ExecuteTime": {
     "end_time": "2020-05-17T15:32:42.096258Z",
     "start_time": "2020-05-17T15:32:42.092165Z"
    }
   },
   "outputs": [],
   "source": [
    "class Decoder(torch.nn.Module):\n",
    "    '''\n",
    "    Decoder part of VAE\n",
    "    '''\n",
    "    def __init__(self, z_dim, hidden_dim, output_dim):\n",
    "        '''\n",
    "        Args:\n",
    "        z_dim: Latent dimension\n",
    "        hidden_dim: Size of the hidden layer\n",
    "        output_dim: Size of the output (e.g. For MNIST, 28*28)\n",
    "        '''\n",
    "        \n",
    "        super(Decoder, self).__init__()\n",
    "        \n",
    "        self.fc1 = nn.Linear(z_dim, hidden_dim)\n",
    "        self.fc2 = nn.Linear(hidden_dim, output_dim)\n",
    "        \n",
    "    def forward(self, x):\n",
    "        '''\n",
    "        Shape of x should be (batch_size, z_dim)\n",
    "        '''\n",
    "        hidden_out = F.relu(self.fc1(x))\n",
    "        reconstructed_input = torch.sigmoid(self.fc2(hidden_out))\n",
    "        \n",
    "        return reconstructed_input"
   ]
  },
  {
   "cell_type": "markdown",
   "metadata": {},
   "source": [
    "### VAE class"
   ]
  },
  {
   "cell_type": "code",
   "execution_count": 68,
   "metadata": {
    "ExecuteTime": {
     "end_time": "2020-05-17T15:32:42.140998Z",
     "start_time": "2020-05-17T15:32:42.137121Z"
    }
   },
   "outputs": [],
   "source": [
    "class VAE(nn.Module):\n",
    "    '''\n",
    "    VAE which takes Encoder and Decoder classes\n",
    "    '''\n",
    "    def __init__(self, enc, dec):\n",
    "        '''\n",
    "        Args:\n",
    "        enc: Object of Encoder class\n",
    "        dec: Object of Decoder class\n",
    "        '''\n",
    "\n",
    "        super(VAE, self).__init__()\n",
    "\n",
    "        self.enc = enc\n",
    "        self.dec = dec\n",
    "\n",
    "    def forward(self, x):\n",
    "        '''\n",
    "        Returns the reconstructed input, mu and log_sigma\n",
    "        '''\n",
    "        # Encoding\n",
    "        mean, log_variance = self.enc(x)\n",
    "        # Generates a sample from the latenet space\n",
    "        z = sample_z(mean, log_variance)\n",
    "        # Decoding\n",
    "        reconstructed_input = self.dec(z)\n",
    "        \n",
    "        return reconstructed_input, mean, log_variance"
   ]
  },
  {
   "cell_type": "markdown",
   "metadata": {},
   "source": [
    "## Training"
   ]
  },
  {
   "cell_type": "markdown",
   "metadata": {},
   "source": [
    "### Defining parameters"
   ]
  },
  {
   "cell_type": "code",
   "execution_count": 69,
   "metadata": {
    "ExecuteTime": {
     "end_time": "2020-05-17T15:32:42.191196Z",
     "start_time": "2020-05-17T15:32:42.188708Z"
    }
   },
   "outputs": [],
   "source": [
    "INPUT_DIM = 28*28\n",
    "HIDDEN_DIM = 256\n",
    "LATENT_DIM = 32\n",
    "LR = 1E-3\n",
    "EPOCHS = 10"
   ]
  },
  {
   "cell_type": "markdown",
   "metadata": {},
   "source": [
    "### Defining the model"
   ]
  },
  {
   "cell_type": "code",
   "execution_count": 70,
   "metadata": {
    "ExecuteTime": {
     "end_time": "2020-05-17T15:32:42.244396Z",
     "start_time": "2020-05-17T15:32:42.226962Z"
    }
   },
   "outputs": [
    {
     "name": "stdout",
     "output_type": "stream",
     "text": [
      "Encoder\n",
      "=======\n",
      "Encoder(\n",
      "  (fc1): Linear(in_features=784, out_features=256, bias=True)\n",
      "  (fc2): Linear(in_features=256, out_features=32, bias=True)\n",
      "  (fc3): Linear(in_features=256, out_features=32, bias=True)\n",
      ")\n",
      "\n",
      "Decoder\n",
      "=======\n",
      "Decoder(\n",
      "  (fc1): Linear(in_features=32, out_features=256, bias=True)\n",
      "  (fc2): Linear(in_features=256, out_features=784, bias=True)\n",
      ")\n",
      "\n",
      "Model\n",
      "=====\n",
      "VAE(\n",
      "  (enc): Encoder(\n",
      "    (fc1): Linear(in_features=784, out_features=256, bias=True)\n",
      "    (fc2): Linear(in_features=256, out_features=32, bias=True)\n",
      "    (fc3): Linear(in_features=256, out_features=32, bias=True)\n",
      "  )\n",
      "  (dec): Decoder(\n",
      "    (fc1): Linear(in_features=32, out_features=256, bias=True)\n",
      "    (fc2): Linear(in_features=256, out_features=784, bias=True)\n",
      "  )\n",
      ")\n"
     ]
    }
   ],
   "source": [
    "# Encoder\n",
    "encoder = Encoder(input_dim=INPUT_DIM, hidden_dim=HIDDEN_DIM, z_dim=LATENT_DIM)\n",
    "underlined_text(\"Encoder\")\n",
    "print(encoder)\n",
    "print()\n",
    "# Decoder\n",
    "decoder = Decoder(z_dim=LATENT_DIM, hidden_dim=HIDDEN_DIM, output_dim=INPUT_DIM)\n",
    "underlined_text(\"Decoder\")\n",
    "print(decoder)\n",
    "print()\n",
    "model = VAE(enc=encoder, dec=decoder).to(device)\n",
    "underlined_text(\"Model\")\n",
    "print(model)"
   ]
  },
  {
   "cell_type": "markdown",
   "metadata": {},
   "source": [
    "### Optimizer"
   ]
  },
  {
   "cell_type": "code",
   "execution_count": 71,
   "metadata": {
    "ExecuteTime": {
     "end_time": "2020-05-17T15:32:42.270840Z",
     "start_time": "2020-05-17T15:32:42.268187Z"
    }
   },
   "outputs": [
    {
     "name": "stdout",
     "output_type": "stream",
     "text": [
      "Adam (\n",
      "Parameter Group 0\n",
      "    amsgrad: False\n",
      "    betas: (0.9, 0.999)\n",
      "    eps: 1e-08\n",
      "    lr: 0.001\n",
      "    weight_decay: 0\n",
      ")\n"
     ]
    }
   ],
   "source": [
    "optimizer = optim.Adam(model.parameters(), lr=LR)\n",
    "print(optimizer)"
   ]
  },
  {
   "cell_type": "markdown",
   "metadata": {},
   "source": [
    "### Reconstruction loss"
   ]
  },
  {
   "cell_type": "code",
   "execution_count": 72,
   "metadata": {
    "ExecuteTime": {
     "end_time": "2020-05-17T15:32:42.308440Z",
     "start_time": "2020-05-17T15:32:42.305997Z"
    }
   },
   "outputs": [
    {
     "name": "stdout",
     "output_type": "stream",
     "text": [
      "BCELoss()\n"
     ]
    }
   ],
   "source": [
    "reconstruct_loss_fn = nn.BCELoss(reduction='sum')\n",
    "print(reconstruct_loss_fn)"
   ]
  },
  {
   "cell_type": "markdown",
   "metadata": {},
   "source": [
    "### Training"
   ]
  },
  {
   "cell_type": "code",
   "execution_count": 73,
   "metadata": {
    "ExecuteTime": {
     "end_time": "2020-05-17T15:36:53.421481Z",
     "start_time": "2020-05-17T15:32:42.348024Z"
    }
   },
   "outputs": [
    {
     "name": "stdout",
     "output_type": "stream",
     "text": [
      "Epoch [    1/   10] | mean_kl_loss: 172.2651 | mean_reconstruct_loss: 879.2253 |\n",
      "Epoch [    2/   10] | mean_kl_loss: 196.9343 | mean_reconstruct_loss: 714.3771 |\n",
      "Epoch [    3/   10] | mean_kl_loss: 199.7570 | mean_reconstruct_loss: 692.4107 |\n",
      "Epoch [    4/   10] | mean_kl_loss: 201.1804 | mean_reconstruct_loss: 682.0749 |\n",
      "Epoch [    5/   10] | mean_kl_loss: 202.3439 | mean_reconstruct_loss: 675.3754 |\n",
      "Epoch [    6/   10] | mean_kl_loss: 202.6615 | mean_reconstruct_loss: 671.2531 |\n",
      "Epoch [    7/   10] | mean_kl_loss: 202.7513 | mean_reconstruct_loss: 667.6504 |\n",
      "Epoch [    8/   10] | mean_kl_loss: 202.7982 | mean_reconstruct_loss: 665.3290 |\n",
      "Epoch [    9/   10] | mean_kl_loss: 203.1366 | mean_reconstruct_loss: 662.9523 |\n",
      "Epoch [   10/   10] | mean_kl_loss: 203.0079 | mean_reconstruct_loss: 661.1951 |\n"
     ]
    }
   ],
   "source": [
    "for epoch in range(EPOCHS):\n",
    "    kl_losses = []\n",
    "    r_losses = []\n",
    "    for data in trainDL:\n",
    "        images, _ = data\n",
    "        x = images2vectors(images).to(device)\n",
    "        optimizer.zero_grad()\n",
    "        x_reconstructed, mean, log_variance = model(x)\n",
    "        kl_loss = kl_loss_fn(mean, log_variance)\n",
    "        kl_losses.append(kl_loss)\n",
    "        reconstructed_loss = reconstruct_loss_fn(x_reconstructed, x)\n",
    "        r_losses.append(reconstructed_loss)\n",
    "        loss = reconstructed_loss + kl_loss\n",
    "        loss.backward()\n",
    "        optimizer.step()\n",
    "    print(\"Epoch [{:5d}/{:5d}] | mean_kl_loss: {:8.4f} | mean_reconstruct_loss: {:8.4f} |\".\n",
    "          format(epoch+1, EPOCHS, torch.mean(torch.FloatTensor(kl_losses)), \n",
    "                 torch.mean(torch.FloatTensor(r_losses))))"
   ]
  },
  {
   "cell_type": "markdown",
   "metadata": {},
   "source": [
    "## Testing VAE"
   ]
  },
  {
   "cell_type": "markdown",
   "metadata": {},
   "source": [
    "### Generating new images from the trained decoder"
   ]
  },
  {
   "cell_type": "code",
   "execution_count": 74,
   "metadata": {
    "ExecuteTime": {
     "end_time": "2020-05-17T15:36:53.436559Z",
     "start_time": "2020-05-17T15:36:53.423372Z"
    }
   },
   "outputs": [
    {
     "name": "stdout",
     "output_type": "stream",
     "text": [
      "Noise test shape =  torch.Size([32, 32])\n",
      "Fake image vectors shape =  torch.Size([32, 784])\n",
      "Fake image shape =  torch.Size([32, 1, 28, 28])\n"
     ]
    }
   ],
   "source": [
    "from torchvision.utils import save_image\n",
    "import matplotlib.pyplot as plt\n",
    "\n",
    "with torch.no_grad():\n",
    "    noise_test = noise(size=32, latent_dim=LATENT_DIM).to(device)\n",
    "    print(\"Noise test shape = \", noise_test.shape)\n",
    "    \n",
    "    # Run only the decoder (generating new images)\n",
    "    fake_imgs_vecs = model.dec(noise_test)\n",
    "    print(\"Fake image vectors shape = \", fake_imgs_vecs.shape)\n",
    "    fake_imgs = fake_imgs_vecs.view(fake_imgs_vecs.shape[0], 1, 28, 28)\n",
    "    print(\"Fake image shape = \", fake_imgs.shape)\n",
    "    save_image(fake_imgs, 'VAE_Gen_Imgs' + '.png')"
   ]
  },
  {
   "cell_type": "code",
   "execution_count": 75,
   "metadata": {
    "ExecuteTime": {
     "end_time": "2020-05-17T15:36:53.585597Z",
     "start_time": "2020-05-17T15:36:53.438536Z"
    }
   },
   "outputs": [
    {
     "data": {
      "image/png": "[encoded data removed]",
      "text/plain": [
       "<Figure size 432x288 with 1 Axes>"
      ]
     },
     "metadata": {
      "needs_background": "light"
     },
     "output_type": "display_data"
    }
   ],
   "source": [
    "import matplotlib.pyplot as plt\n",
    "import numpy as np\n",
    "from torchvision import utils\n",
    "\n",
    "#Functions to show an image\n",
    "def imshow(img):\n",
    "    # img = img / 2 + 0.5     # unnormalize\n",
    "    npimg = img.numpy()\n",
    "    plt.imshow(np.transpose(npimg, (1, 2, 0)))\n",
    "    plt.show()\n",
    "    \n",
    "imshow(utils.make_grid(fake_imgs.detach().to('cpu')))"
   ]
  },
  {
   "cell_type": "markdown",
   "metadata": {},
   "source": [
    "### Reconstructed images of first batch of training images"
   ]
  },
  {
   "cell_type": "code",
   "execution_count": 76,
   "metadata": {
    "ExecuteTime": {
     "end_time": "2020-05-17T15:36:53.828562Z",
     "start_time": "2020-05-17T15:36:53.587179Z"
    }
   },
   "outputs": [
    {
     "name": "stdout",
     "output_type": "stream",
     "text": [
      "torch.Size([8, 1, 28, 28])\n",
      "torch.Size([8, 784])\n",
      "torch.Size([8, 1, 28, 28])\n",
      "\n",
      "Original\n"
     ]
    },
    {
     "data": {
      "image/png": "[encoded data removed]",
      "text/plain": [
       "<Figure size 432x288 with 1 Axes>"
      ]
     },
     "metadata": {
      "needs_background": "light"
     },
     "output_type": "display_data"
    },
    {
     "name": "stdout",
     "output_type": "stream",
     "text": [
      "\n",
      "Reconstructed\n"
     ]
    },
    {
     "data": {
      "image/png": "[encoded data removed]",
      "text/plain": [
       "<Figure size 432x288 with 1 Axes>"
      ]
     },
     "metadata": {
      "needs_background": "light"
     },
     "output_type": "display_data"
    }
   ],
   "source": [
    "for data in trainDL:\n",
    "    images, _ = data\n",
    "    print(images.shape)\n",
    "    x = images2vectors(images).to(device)\n",
    "    print(x.shape)\n",
    "    x_recon, _, _ = model(x)\n",
    "    recon_imgs = x_recon.view(x_recon.shape[0], 1, 28, 28)\n",
    "    print(recon_imgs.shape)\n",
    "    print()\n",
    "    print(\"Original\")\n",
    "    imshow(utils.make_grid(images))\n",
    "    print()\n",
    "    print(\"Reconstructed\")    \n",
    "    imshow(utils.make_grid(recon_imgs.detach().to('cpu')))\n",
    "    break"
   ]
  },
  {
   "cell_type": "markdown",
   "metadata": {},
   "source": [
    "### Testing the trained VAE on FashionMNIST"
   ]
  },
  {
   "cell_type": "code",
   "execution_count": 77,
   "metadata": {
    "ExecuteTime": {
     "end_time": "2020-05-17T15:36:53.853430Z",
     "start_time": "2020-05-17T15:36:53.830016Z"
    }
   },
   "outputs": [],
   "source": [
    "#Loading training data\n",
    "trainFashion = datasets.FashionMNIST(\n",
    "    root=\"\", #Folder where the dataset to be stored; empty means stored in current folder\n",
    "    train=True, #Download the 'training' dataset, False => download 'test' dataset\n",
    "    download=True, #Should be 'True' in the first time downling the dataset, else 'False'\n",
    "    transform=transforms.Compose([transforms.ToTensor()])\n",
    ")\n",
    "\n",
    "#Loading test data\n",
    "testFashion = datasets.FashionMNIST(\n",
    "    root=\"\",\n",
    "    train=False,\n",
    "    download=True,\n",
    "    transform=transforms.Compose([transforms.ToTensor()])\n",
    ")"
   ]
  },
  {
   "cell_type": "code",
   "execution_count": 78,
   "metadata": {
    "ExecuteTime": {
     "end_time": "2020-05-17T15:36:53.862772Z",
     "start_time": "2020-05-17T15:36:53.854660Z"
    }
   },
   "outputs": [
    {
     "name": "stdout",
     "output_type": "stream",
     "text": [
      "Batch size =  8\n",
      "Batch size =  8\n"
     ]
    }
   ],
   "source": [
    "from torch.utils.data import DataLoader\n",
    "\n",
    "trainFashionDL = DataLoader(trainFashion, batch_size=8, shuffle=True)\n",
    "testFashionDL  = DataLoader(testFashion, batch_size=8, shuffle=True)\n",
    "print(\"Batch size = \", trainFashionDL.batch_size)\n",
    "print(\"Batch size = \", testFashionDL.batch_size)"
   ]
  },
  {
   "cell_type": "code",
   "execution_count": 79,
   "metadata": {
    "ExecuteTime": {
     "end_time": "2020-05-17T15:36:54.097919Z",
     "start_time": "2020-05-17T15:36:53.864130Z"
    }
   },
   "outputs": [
    {
     "name": "stdout",
     "output_type": "stream",
     "text": [
      "torch.Size([8, 1, 28, 28])\n",
      "torch.Size([8, 784])\n",
      "torch.Size([8, 1, 28, 28])\n",
      "\n",
      "Original\n"
     ]
    },
    {
     "data": {
      "image/png": "[encoded data removed]",
      "text/plain": [
       "<Figure size 432x288 with 1 Axes>"
      ]
     },
     "metadata": {
      "needs_background": "light"
     },
     "output_type": "display_data"
    },
    {
     "name": "stdout",
     "output_type": "stream",
     "text": [
      "\n",
      "Reconstructed\n"
     ]
    },
    {
     "data": {
      "image/png": "[encoded data removed]",
      "text/plain": [
       "<Figure size 432x288 with 1 Axes>"
      ]
     },
     "metadata": {
      "needs_background": "light"
     },
     "output_type": "display_data"
    }
   ],
   "source": [
    "for data in trainFashionDL:\n",
    "    images, _ = data\n",
    "    print(images.shape)\n",
    "    x = images2vectors(images).to(device)\n",
    "    print(x.shape)\n",
    "    x_recon, _, _ = model(x)\n",
    "    recon_imgs = x_recon.view(x_recon.shape[0], 1, 28, 28)\n",
    "    print(recon_imgs.shape)\n",
    "    print()\n",
    "    print(\"Original\")    \n",
    "    imshow(utils.make_grid(images))\n",
    "    print()\n",
    "    print(\"Reconstructed\")    \n",
    "    imshow(utils.make_grid(recon_imgs.detach().to('cpu')))\n",
    "    break"
   ]
  }
 ],
 "metadata": {
  "kernelspec": {
   "display_name": "Python 3",
   "language": "python",
   "name": "python3"
  },
  "language_info": {
   "codemirror_mode": {
    "name": "ipython",
    "version": 3
   },
   "file_extension": ".py",
   "mimetype": "text/x-python",
   "name": "python",
   "nbconvert_exporter": "python",
   "pygments_lexer": "ipython3",
   "version": "3.7.6"
  },
  "nbTranslate": {
   "displayLangs": [
    "*"
   ],
   "hotkey": "alt-t",
   "langInMainMenu": true,
   "sourceLang": "en",
   "targetLang": "fr",
   "useGoogleTranslate": true
  },
  "toc": {
   "base_numbering": 1,
   "nav_menu": {},
   "number_sections": true,
   "sideBar": true,
   "skip_h1_title": false,
   "title_cell": "Table of Contents",
   "title_sidebar": "Contents",
   "toc_cell": false,
   "toc_position": {
    "height": "calc(100% - 180px)",
    "left": "10px",
    "top": "150px",
    "width": "374.2px"
   },
   "toc_section_display": true,
   "toc_window_display": true
  },
  "varInspector": {
   "cols": {
    "lenName": 16,
    "lenType": 16,
    "lenVar": 40
   },
   "kernels_config": {
    "python": {
     "delete_cmd_postfix": "",
     "delete_cmd_prefix": "del ",
     "library": "var_list.py",
     "varRefreshCmd": "print(var_dic_list())"
    },
    "r": {
     "delete_cmd_postfix": ") ",
     "delete_cmd_prefix": "rm(",
     "library": "var_list.r",
     "varRefreshCmd": "cat(var_dic_list()) "
    }
   },
   "types_to_exclude": [
    "module",
    "function",
    "builtin_function_or_method",
    "instance",
    "_Feature"
   ],
   "window_display": false
  }
 },
 "nbformat": 4,
 "nbformat_minor": 4
}
