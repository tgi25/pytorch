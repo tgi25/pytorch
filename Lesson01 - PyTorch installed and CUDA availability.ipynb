{
 "cells": [
  {
   "cell_type": "code",
   "execution_count": 1,
   "metadata": {},
   "outputs": [
    {
     "name": "stdout",
     "output_type": "stream",
     "text": [
      "Torch Version =  1.4.0\n",
      "tensor([0.0312, 0.6807, 0.2712])\n",
      "Is CUDA available =  True\n",
      "If CUDA is not available on your machine, try Google Colab\n"
     ]
    }
   ],
   "source": [
    "import torch as t\n",
    "print(\"Torch Version = \", t.__version__)\n",
    "x = t.rand(3) #creating a random tensor of size 3\n",
    "print(x)\n",
    "print(\"Is CUDA available = \", t.cuda.is_available())\n",
    "print(\"If CUDA is not available on your machine, try Google Colab\")"
   ]
  }
 ],
 "metadata": {
  "kernelspec": {
   "display_name": "Python 3",
   "language": "python",
   "name": "python3"
  },
  "language_info": {
   "codemirror_mode": {
    "name": "ipython",
    "version": 3
   },
   "file_extension": ".py",
   "mimetype": "text/x-python",
   "name": "python",
   "nbconvert_exporter": "python",
   "pygments_lexer": "ipython3",
   "version": "3.7.6"
  }
 },
 "nbformat": 4,
 "nbformat_minor": 4
}
