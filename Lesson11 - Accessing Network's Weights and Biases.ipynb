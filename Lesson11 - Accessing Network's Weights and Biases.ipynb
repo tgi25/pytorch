{
 "cells": [
  {
   "cell_type": "markdown",
   "metadata": {
    "toc": true
   },
   "source": [
    "<h1>Table of Contents<span class=\"tocSkip\"></span></h1>\n",
    "<div class=\"toc\"><ul class=\"toc-item\"><li><span><a href=\"#Defining-the-network\" data-toc-modified-id=\"Defining-the-network-1\"><span class=\"toc-item-num\">1&nbsp;&nbsp;</span>Defining the network</a></span></li><li><span><a href=\"#Creating-an-object-of-MLP-class\" data-toc-modified-id=\"Creating-an-object-of-MLP-class-2\"><span class=\"toc-item-num\">2&nbsp;&nbsp;</span>Creating an object of MLP class</a></span></li><li><span><a href=\"#Inputs-and-outputs\" data-toc-modified-id=\"Inputs-and-outputs-3\"><span class=\"toc-item-num\">3&nbsp;&nbsp;</span>Inputs and outputs</a></span></li><li><span><a href=\"#Loss,-forward-and-backward-propagation\" data-toc-modified-id=\"Loss,-forward-and-backward-propagation-4\"><span class=\"toc-item-num\">4&nbsp;&nbsp;</span>Loss, forward and backward propagation</a></span></li><li><span><a href=\"#Weights-and-biases\" data-toc-modified-id=\"Weights-and-biases-5\"><span class=\"toc-item-num\">5&nbsp;&nbsp;</span>Weights and biases</a></span><ul class=\"toc-item\"><li><span><a href=\"#Accessing-weights-and-biases\" data-toc-modified-id=\"Accessing-weights-and-biases-5.1\"><span class=\"toc-item-num\">5.1&nbsp;&nbsp;</span>Accessing weights and biases</a></span></li><li><span><a href=\"#Accessing-gradients-of-weights-and-biases\" data-toc-modified-id=\"Accessing-gradients-of-weights-and-biases-5.2\"><span class=\"toc-item-num\">5.2&nbsp;&nbsp;</span>Accessing gradients of weights and biases</a></span></li><li><span><a href=\"#Accessing-all-weights,-biases-and-their-gradients\" data-toc-modified-id=\"Accessing-all-weights,-biases-and-their-gradients-5.3\"><span class=\"toc-item-num\">5.3&nbsp;&nbsp;</span>Accessing all weights, biases and their gradients</a></span><ul class=\"toc-item\"><li><span><a href=\"#Method-1\" data-toc-modified-id=\"Method-1-5.3.1\"><span class=\"toc-item-num\">5.3.1&nbsp;&nbsp;</span>Method 1</a></span></li><li><span><a href=\"#Method-2\" data-toc-modified-id=\"Method-2-5.3.2\"><span class=\"toc-item-num\">5.3.2&nbsp;&nbsp;</span>Method 2</a></span></li><li><span><a href=\"#Method-3\" data-toc-modified-id=\"Method-3-5.3.3\"><span class=\"toc-item-num\">5.3.3&nbsp;&nbsp;</span>Method 3</a></span></li></ul></li></ul></li><li><span><a href=\"#Accessing-modules-of-a-model\" data-toc-modified-id=\"Accessing-modules-of-a-model-6\"><span class=\"toc-item-num\">6&nbsp;&nbsp;</span>Accessing modules of a model</a></span></li></ul></div>"
   ]
  },
  {
   "cell_type": "markdown",
   "metadata": {},
   "source": [
    "# Accessing Network's Weights and Biases"
   ]
  },
  {
   "cell_type": "markdown",
   "metadata": {},
   "source": [
    "## Defining the network"
   ]
  },
  {
   "cell_type": "code",
   "execution_count": 1,
   "metadata": {
    "ExecuteTime": {
     "end_time": "2020-04-22T07:15:18.027506Z",
     "start_time": "2020-04-22T07:15:17.574080Z"
    }
   },
   "outputs": [],
   "source": [
    "import torch\n",
    "import torch.nn as nn\n",
    "\n",
    "class MLP(nn.Module):\n",
    "    def __init__(self, n_in, n_hid, n_out):\n",
    "        super(MLP, self).__init__()\n",
    "        self.hid = nn.Linear(n_in, n_hid)\n",
    "        self.out = nn.Linear(n_hid, n_out)\n",
    "        \n",
    "    def forward(self, x):\n",
    "        y = self.hid(x)\n",
    "        y = torch.relu(y)\n",
    "        y = self.out(y)\n",
    "        y = torch.sigmoid(y)\n",
    "        return y"
   ]
  },
  {
   "cell_type": "markdown",
   "metadata": {},
   "source": [
    "## Creating an object of MLP class"
   ]
  },
  {
   "cell_type": "code",
   "execution_count": 2,
   "metadata": {
    "ExecuteTime": {
     "end_time": "2020-04-22T07:15:18.036993Z",
     "start_time": "2020-04-22T07:15:18.028611Z"
    }
   },
   "outputs": [],
   "source": [
    "model = MLP(10, 5, 1)"
   ]
  },
  {
   "cell_type": "markdown",
   "metadata": {},
   "source": [
    "## Inputs and outputs"
   ]
  },
  {
   "cell_type": "code",
   "execution_count": 3,
   "metadata": {
    "ExecuteTime": {
     "end_time": "2020-04-22T07:15:18.043864Z",
     "start_time": "2020-04-22T07:15:18.038315Z"
    }
   },
   "outputs": [],
   "source": [
    "x = torch.randn(15, 10)\n",
    "y = torch.randn(15, 1)"
   ]
  },
  {
   "cell_type": "markdown",
   "metadata": {},
   "source": [
    "## Loss, forward and backward propagation"
   ]
  },
  {
   "cell_type": "code",
   "execution_count": 4,
   "metadata": {
    "ExecuteTime": {
     "end_time": "2020-04-22T07:15:18.128693Z",
     "start_time": "2020-04-22T07:15:18.044923Z"
    }
   },
   "outputs": [],
   "source": [
    "loss_fn = nn.MSELoss()\n",
    "y_pred = model(x)\n",
    "loss = loss_fn(y, y_pred)\n",
    "loss.backward()"
   ]
  },
  {
   "cell_type": "markdown",
   "metadata": {
    "ExecuteTime": {
     "end_time": "2020-04-21T07:16:23.233178Z",
     "start_time": "2020-04-21T07:16:23.230294Z"
    }
   },
   "source": [
    "## Weights and biases"
   ]
  },
  {
   "cell_type": "code",
   "execution_count": 5,
   "metadata": {
    "ExecuteTime": {
     "end_time": "2020-04-22T07:15:18.132547Z",
     "start_time": "2020-04-22T07:15:18.129805Z"
    }
   },
   "outputs": [
    {
     "name": "stdout",
     "output_type": "stream",
     "text": [
      "MLP(\n",
      "  (hid): Linear(in_features=10, out_features=5, bias=True)\n",
      "  (out): Linear(in_features=5, out_features=1, bias=True)\n",
      ")\n"
     ]
    }
   ],
   "source": [
    "print(model)"
   ]
  },
  {
   "cell_type": "markdown",
   "metadata": {},
   "source": [
    "### Accessing weights and biases"
   ]
  },
  {
   "cell_type": "code",
   "execution_count": 6,
   "metadata": {
    "ExecuteTime": {
     "end_time": "2020-04-22T07:15:18.154032Z",
     "start_time": "2020-04-22T07:15:18.133869Z"
    }
   },
   "outputs": [
    {
     "name": "stdout",
     "output_type": "stream",
     "text": [
      "torch.Size([5, 10])\n",
      "Parameter containing:\n",
      "tensor([[ 0.1542,  0.2727, -0.2688, -0.2167,  0.2276,  0.1290,  0.1904, -0.3052,\n",
      "         -0.0722, -0.2763],\n",
      "        [-0.1476,  0.0665, -0.2478,  0.2180, -0.2690,  0.2435, -0.0228, -0.0390,\n",
      "         -0.0955, -0.0616],\n",
      "        [ 0.1143, -0.3107, -0.2268, -0.0037, -0.0183,  0.1669, -0.1527, -0.2287,\n",
      "         -0.1954,  0.1867],\n",
      "        [-0.0496,  0.0076, -0.2912,  0.2673,  0.1897, -0.2624,  0.3020, -0.1142,\n",
      "         -0.1080, -0.1376],\n",
      "        [-0.1354, -0.0784, -0.2497,  0.1875, -0.2576,  0.0784,  0.1197, -0.2452,\n",
      "          0.2836,  0.2185]], requires_grad=True)\n",
      "torch.Size([5])\n",
      "Parameter containing:\n",
      "tensor([-0.2451, -0.0112,  0.1131,  0.1883,  0.3110], requires_grad=True)\n"
     ]
    }
   ],
   "source": [
    "print(model.hid.weight.shape)\n",
    "print(model.hid.weight)\n",
    "print(model.hid.bias.shape)\n",
    "print(model.hid.bias)"
   ]
  },
  {
   "cell_type": "markdown",
   "metadata": {},
   "source": [
    "### Accessing gradients of weights and biases"
   ]
  },
  {
   "cell_type": "code",
   "execution_count": 7,
   "metadata": {
    "ExecuteTime": {
     "end_time": "2020-04-22T07:15:18.159347Z",
     "start_time": "2020-04-22T07:15:18.155134Z"
    }
   },
   "outputs": [
    {
     "name": "stdout",
     "output_type": "stream",
     "text": [
      "torch.Size([5, 10])\n",
      "tensor([[-0.0054, -0.0014, -0.0002,  0.0070,  0.0026,  0.0030, -0.0051, -0.0028,\n",
      "          0.0030,  0.0057],\n",
      "        [ 0.0227,  0.0608,  0.0720,  0.0658, -0.0163, -0.0060, -0.0196,  0.0342,\n",
      "         -0.0030,  0.0742],\n",
      "        [-0.0730,  0.0117,  0.0029,  0.0294,  0.0108, -0.0052, -0.0674,  0.0245,\n",
      "         -0.0486, -0.0193],\n",
      "        [-0.1260, -0.0177,  0.0129,  0.0881,  0.0334,  0.0195, -0.1037, -0.0140,\n",
      "          0.0013,  0.0737],\n",
      "        [-0.0258, -0.0262, -0.0252, -0.0205, -0.0004, -0.0073, -0.0047,  0.0022,\n",
      "         -0.0232, -0.0152]])\n",
      "torch.Size([5])\n",
      "tensor([-0.0035,  0.0159,  0.0003, -0.0456, -0.0240])\n"
     ]
    }
   ],
   "source": [
    "print(model.hid.weight.grad.shape)\n",
    "print(model.hid.weight.grad)\n",
    "print(model.hid.bias.grad.shape)\n",
    "print(model.hid.bias.grad)"
   ]
  },
  {
   "cell_type": "markdown",
   "metadata": {},
   "source": [
    "### Accessing all weights, biases and their gradients"
   ]
  },
  {
   "cell_type": "markdown",
   "metadata": {},
   "source": [
    "#### Method 1"
   ]
  },
  {
   "cell_type": "code",
   "execution_count": 18,
   "metadata": {
    "ExecuteTime": {
     "end_time": "2020-04-22T07:58:52.385787Z",
     "start_time": "2020-04-22T07:58:52.375389Z"
    }
   },
   "outputs": [
    {
     "name": "stdout",
     "output_type": "stream",
     "text": [
      "Child:  Linear(in_features=10, out_features=5, bias=True)\n",
      "Weights:\n",
      "--------\n",
      "Shape:  torch.Size([5, 10])\n",
      "Parameter containing:\n",
      "tensor([[ 0.1542,  0.2727, -0.2688, -0.2167,  0.2276,  0.1290,  0.1904, -0.3052,\n",
      "         -0.0722, -0.2763],\n",
      "        [-0.1476,  0.0665, -0.2478,  0.2180, -0.2690,  0.2435, -0.0228, -0.0390,\n",
      "         -0.0955, -0.0616],\n",
      "        [ 0.1143, -0.3107, -0.2268, -0.0037, -0.0183,  0.1669, -0.1527, -0.2287,\n",
      "         -0.1954,  0.1867],\n",
      "        [-0.0496,  0.0076, -0.2912,  0.2673,  0.1897, -0.2624,  0.3020, -0.1142,\n",
      "         -0.1080, -0.1376],\n",
      "        [-0.1354, -0.0784, -0.2497,  0.1875, -0.2576,  0.0784,  0.1197, -0.2452,\n",
      "          0.2836,  0.2185]], requires_grad=True)\n",
      "Gradients:\n",
      "----------\n",
      "Shape:  torch.Size([5, 10])\n",
      "tensor([[-0.0054, -0.0014, -0.0002,  0.0070,  0.0026,  0.0030, -0.0051, -0.0028,\n",
      "          0.0030,  0.0057],\n",
      "        [ 0.0227,  0.0608,  0.0720,  0.0658, -0.0163, -0.0060, -0.0196,  0.0342,\n",
      "         -0.0030,  0.0742],\n",
      "        [-0.0730,  0.0117,  0.0029,  0.0294,  0.0108, -0.0052, -0.0674,  0.0245,\n",
      "         -0.0486, -0.0193],\n",
      "        [-0.1260, -0.0177,  0.0129,  0.0881,  0.0334,  0.0195, -0.1037, -0.0140,\n",
      "          0.0013,  0.0737],\n",
      "        [-0.0258, -0.0262, -0.0252, -0.0205, -0.0004, -0.0073, -0.0047,  0.0022,\n",
      "         -0.0232, -0.0152]])\n",
      "Biases:\n",
      "--------\n",
      "Shape:  torch.Size([5])\n",
      "Parameter containing:\n",
      "tensor([-0.2451, -0.0112,  0.1131,  0.1883,  0.3110], requires_grad=True)\n",
      "Gradients:\n",
      "----------\n",
      "Shape:  torch.Size([5])\n",
      "tensor([-0.0035,  0.0159,  0.0003, -0.0456, -0.0240])\n",
      "\n",
      "Child:  Linear(in_features=5, out_features=1, bias=True)\n",
      "Weights:\n",
      "--------\n",
      "Shape:  torch.Size([1, 5])\n",
      "Parameter containing:\n",
      "tensor([[-0.0331,  0.3671, -0.4223, -0.3965, -0.1436]], requires_grad=True)\n",
      "Gradients:\n",
      "----------\n",
      "Shape:  torch.Size([1, 5])\n",
      "tensor([[ 0.0823, -0.0143,  0.0075,  0.0541,  0.0762]])\n",
      "Biases:\n",
      "--------\n",
      "Shape:  torch.Size([1])\n",
      "Parameter containing:\n",
      "tensor([0.1669], requires_grad=True)\n",
      "Gradients:\n",
      "----------\n",
      "Shape:  torch.Size([1])\n",
      "tensor([0.2682])\n",
      "\n"
     ]
    }
   ],
   "source": [
    "for child in model.children():\n",
    "    print(\"Child: \", child)\n",
    "    print(\"Weights:\")\n",
    "    print(\"--------\")\n",
    "    print(\"Shape: \", child.weight.shape)\n",
    "    print(child.weight)\n",
    "    print(\"Gradients:\")\n",
    "    print(\"----------\")\n",
    "    print(\"Shape: \", child.weight.grad.shape)\n",
    "    print(child.weight.grad)\n",
    "    print(\"Biases:\")\n",
    "    print(\"--------\")\n",
    "    print(\"Shape: \", child.bias.shape)\n",
    "    print(child.bias)\n",
    "    print(\"Gradients:\")\n",
    "    print(\"----------\")\n",
    "    print(\"Shape: \", child.bias.grad.shape)\n",
    "    print(child.bias.grad)    \n",
    "    print()"
   ]
  },
  {
   "cell_type": "code",
   "execution_count": 19,
   "metadata": {
    "ExecuteTime": {
     "end_time": "2020-04-22T08:01:19.556121Z",
     "start_time": "2020-04-22T08:01:19.549563Z"
    }
   },
   "outputs": [
    {
     "name": "stdout",
     "output_type": "stream",
     "text": [
      "torch.Size([5, 10])\n",
      "torch.Size([5])\n",
      "torch.Size([1, 5])\n",
      "torch.Size([1])\n"
     ]
    }
   ],
   "source": [
    "for child in model.children():\n",
    "    print(child.weight.shape)\n",
    "    print(child.bias.shape)"
   ]
  },
  {
   "cell_type": "markdown",
   "metadata": {},
   "source": [
    "#### Method 2"
   ]
  },
  {
   "cell_type": "code",
   "execution_count": 30,
   "metadata": {
    "ExecuteTime": {
     "end_time": "2020-04-22T08:25:00.612237Z",
     "start_time": "2020-04-22T08:25:00.601923Z"
    }
   },
   "outputs": [
    {
     "name": "stdout",
     "output_type": "stream",
     "text": [
      "Shape:  torch.Size([5, 10])\n",
      "Weight/Bias:  Parameter containing:\n",
      "tensor([[ 0.1542,  0.2727, -0.2688, -0.2167,  0.2276,  0.1290,  0.1904, -0.3052,\n",
      "         -0.0722, -0.2763],\n",
      "        [-0.1476,  0.0665, -0.2478,  0.2180, -0.2690,  0.2435, -0.0228, -0.0390,\n",
      "         -0.0955, -0.0616],\n",
      "        [ 0.1143, -0.3107, -0.2268, -0.0037, -0.0183,  0.1669, -0.1527, -0.2287,\n",
      "         -0.1954,  0.1867],\n",
      "        [-0.0496,  0.0076, -0.2912,  0.2673,  0.1897, -0.2624,  0.3020, -0.1142,\n",
      "         -0.1080, -0.1376],\n",
      "        [-0.1354, -0.0784, -0.2497,  0.1875, -0.2576,  0.0784,  0.1197, -0.2452,\n",
      "          0.2836,  0.2185]], requires_grad=True)\n",
      "Gradiant:  tensor([[-0.0054, -0.0014, -0.0002,  0.0070,  0.0026,  0.0030, -0.0051, -0.0028,\n",
      "          0.0030,  0.0057],\n",
      "        [ 0.0227,  0.0608,  0.0720,  0.0658, -0.0163, -0.0060, -0.0196,  0.0342,\n",
      "         -0.0030,  0.0742],\n",
      "        [-0.0730,  0.0117,  0.0029,  0.0294,  0.0108, -0.0052, -0.0674,  0.0245,\n",
      "         -0.0486, -0.0193],\n",
      "        [-0.1260, -0.0177,  0.0129,  0.0881,  0.0334,  0.0195, -0.1037, -0.0140,\n",
      "          0.0013,  0.0737],\n",
      "        [-0.0258, -0.0262, -0.0252, -0.0205, -0.0004, -0.0073, -0.0047,  0.0022,\n",
      "         -0.0232, -0.0152]])\n",
      "\n",
      "Shape:  torch.Size([5])\n",
      "Weight/Bias:  Parameter containing:\n",
      "tensor([-0.2451, -0.0112,  0.1131,  0.1883,  0.3110], requires_grad=True)\n",
      "Gradiant:  tensor([-0.0035,  0.0159,  0.0003, -0.0456, -0.0240])\n",
      "\n",
      "Shape:  torch.Size([1, 5])\n",
      "Weight/Bias:  Parameter containing:\n",
      "tensor([[-0.0331,  0.3671, -0.4223, -0.3965, -0.1436]], requires_grad=True)\n",
      "Gradiant:  tensor([[ 0.0823, -0.0143,  0.0075,  0.0541,  0.0762]])\n",
      "\n",
      "Shape:  torch.Size([1])\n",
      "Weight/Bias:  Parameter containing:\n",
      "tensor([0.1669], requires_grad=True)\n",
      "Gradiant:  tensor([0.2682])\n",
      "\n"
     ]
    }
   ],
   "source": [
    "for param in model.parameters():\n",
    "    print(\"Shape: \", param.shape)\n",
    "    print(\"Weight/Bias: \", param)\n",
    "    print(\"Gradiant: \", param.grad)\n",
    "    print()"
   ]
  },
  {
   "cell_type": "markdown",
   "metadata": {},
   "source": [
    "#### Method 3"
   ]
  },
  {
   "cell_type": "code",
   "execution_count": 33,
   "metadata": {
    "ExecuteTime": {
     "end_time": "2020-04-22T08:30:57.885050Z",
     "start_time": "2020-04-22T08:30:57.871662Z"
    }
   },
   "outputs": [
    {
     "name": "stdout",
     "output_type": "stream",
     "text": [
      "hid.weight Parameter containing:\n",
      "tensor([[ 0.1542,  0.2727, -0.2688, -0.2167,  0.2276,  0.1290,  0.1904, -0.3052,\n",
      "         -0.0722, -0.2763],\n",
      "        [-0.1476,  0.0665, -0.2478,  0.2180, -0.2690,  0.2435, -0.0228, -0.0390,\n",
      "         -0.0955, -0.0616],\n",
      "        [ 0.1143, -0.3107, -0.2268, -0.0037, -0.0183,  0.1669, -0.1527, -0.2287,\n",
      "         -0.1954,  0.1867],\n",
      "        [-0.0496,  0.0076, -0.2912,  0.2673,  0.1897, -0.2624,  0.3020, -0.1142,\n",
      "         -0.1080, -0.1376],\n",
      "        [-0.1354, -0.0784, -0.2497,  0.1875, -0.2576,  0.0784,  0.1197, -0.2452,\n",
      "          0.2836,  0.2185]], requires_grad=True)\n",
      "tensor([[-0.0054, -0.0014, -0.0002,  0.0070,  0.0026,  0.0030, -0.0051, -0.0028,\n",
      "          0.0030,  0.0057],\n",
      "        [ 0.0227,  0.0608,  0.0720,  0.0658, -0.0163, -0.0060, -0.0196,  0.0342,\n",
      "         -0.0030,  0.0742],\n",
      "        [-0.0730,  0.0117,  0.0029,  0.0294,  0.0108, -0.0052, -0.0674,  0.0245,\n",
      "         -0.0486, -0.0193],\n",
      "        [-0.1260, -0.0177,  0.0129,  0.0881,  0.0334,  0.0195, -0.1037, -0.0140,\n",
      "          0.0013,  0.0737],\n",
      "        [-0.0258, -0.0262, -0.0252, -0.0205, -0.0004, -0.0073, -0.0047,  0.0022,\n",
      "         -0.0232, -0.0152]])\n",
      "hid.bias Parameter containing:\n",
      "tensor([-0.2451, -0.0112,  0.1131,  0.1883,  0.3110], requires_grad=True)\n",
      "tensor([-0.0035,  0.0159,  0.0003, -0.0456, -0.0240])\n",
      "out.weight Parameter containing:\n",
      "tensor([[-0.0331,  0.3671, -0.4223, -0.3965, -0.1436]], requires_grad=True)\n",
      "tensor([[ 0.0823, -0.0143,  0.0075,  0.0541,  0.0762]])\n",
      "out.bias Parameter containing:\n",
      "tensor([0.1669], requires_grad=True)\n",
      "tensor([0.2682])\n"
     ]
    }
   ],
   "source": [
    "for name, param in model.named_parameters():\n",
    "    print(name, param)\n",
    "    print(param.grad)"
   ]
  },
  {
   "cell_type": "markdown",
   "metadata": {},
   "source": [
    "## Accessing modules of a model"
   ]
  },
  {
   "cell_type": "code",
   "execution_count": 9,
   "metadata": {
    "ExecuteTime": {
     "end_time": "2020-04-22T07:15:18.249083Z",
     "start_time": "2020-04-22T07:15:18.246685Z"
    }
   },
   "outputs": [
    {
     "name": "stdout",
     "output_type": "stream",
     "text": [
      "MLP(\n",
      "  (hid): Linear(in_features=10, out_features=5, bias=True)\n",
      "  (out): Linear(in_features=5, out_features=1, bias=True)\n",
      ")\n",
      "Linear(in_features=10, out_features=5, bias=True)\n",
      "Linear(in_features=5, out_features=1, bias=True)\n"
     ]
    }
   ],
   "source": [
    "for module in model.modules():\n",
    "    print(module)"
   ]
  }
 ],
 "metadata": {
  "kernelspec": {
   "display_name": "Python 3",
   "language": "python",
   "name": "python3"
  },
  "language_info": {
   "codemirror_mode": {
    "name": "ipython",
    "version": 3
   },
   "file_extension": ".py",
   "mimetype": "text/x-python",
   "name": "python",
   "nbconvert_exporter": "python",
   "pygments_lexer": "ipython3",
   "version": "3.7.6"
  },
  "latex_envs": {
   "LaTeX_envs_menu_present": true,
   "autoclose": false,
   "autocomplete": true,
   "bibliofile": "biblio.bib",
   "cite_by": "apalike",
   "current_citInitial": 1,
   "eqLabelWithNumbers": true,
   "eqNumInitial": 1,
   "hotkeys": {
    "equation": "Ctrl-E",
    "itemize": "Ctrl-I"
   },
   "labels_anchors": false,
   "latex_user_defs": false,
   "report_style_numbering": false,
   "user_envs_cfg": false
  },
  "nbTranslate": {
   "displayLangs": [
    "*"
   ],
   "hotkey": "alt-t",
   "langInMainMenu": true,
   "sourceLang": "en",
   "targetLang": "fr",
   "useGoogleTranslate": true
  },
  "toc": {
   "base_numbering": 1,
   "nav_menu": {},
   "number_sections": true,
   "sideBar": true,
   "skip_h1_title": true,
   "title_cell": "Table of Contents",
   "title_sidebar": "Contents",
   "toc_cell": true,
   "toc_position": {
    "height": "calc(100% - 180px)",
    "left": "10px",
    "top": "150px",
    "width": "374.2px"
   },
   "toc_section_display": true,
   "toc_window_display": true
  },
  "varInspector": {
   "cols": {
    "lenName": 16,
    "lenType": 16,
    "lenVar": 40
   },
   "kernels_config": {
    "python": {
     "delete_cmd_postfix": "",
     "delete_cmd_prefix": "del ",
     "library": "var_list.py",
     "varRefreshCmd": "print(var_dic_list())"
    },
    "r": {
     "delete_cmd_postfix": ") ",
     "delete_cmd_prefix": "rm(",
     "library": "var_list.r",
     "varRefreshCmd": "cat(var_dic_list()) "
    }
   },
   "types_to_exclude": [
    "module",
    "function",
    "builtin_function_or_method",
    "instance",
    "_Feature"
   ],
   "window_display": false
  }
 },
 "nbformat": 4,
 "nbformat_minor": 4
}
