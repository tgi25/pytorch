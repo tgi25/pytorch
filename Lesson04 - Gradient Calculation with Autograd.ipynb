{
 "cells": [
  {
   "cell_type": "markdown",
   "metadata": {},
   "source": [
    "### Import torch as t"
   ]
  },
  {
   "cell_type": "code",
   "execution_count": 3,
   "metadata": {},
   "outputs": [],
   "source": [
    "import torch as t"
   ]
  },
  {
   "cell_type": "markdown",
   "metadata": {},
   "source": [
    "### Obtain the derivative of a function of two variables"
   ]
  },
  {
   "cell_type": "code",
   "execution_count": 4,
   "metadata": {},
   "outputs": [
    {
     "name": "stdout",
     "output_type": "stream",
     "text": [
      "x =  tensor([1.], requires_grad=True)\n",
      "y =  tensor([2.], requires_grad=True)\n",
      "z =  tensor([12.], grad_fn=<AddBackward0>)\n",
      "Gradient of z w.r.t. x at x=1. and y=2.=  tensor([4.])\n",
      "Gradient of z w.r.t. x at x=1. and y=2.=  tensor([5.])\n"
     ]
    }
   ],
   "source": [
    "x = t.tensor([1.], requires_grad=True) #requires_grad=True mandotory since we need to compute the derivative\n",
    "y = t.tensor([2.], requires_grad=True) #of the function w.r.t. both x and y\n",
    "\n",
    "print(\"x = \", x)\n",
    "print(\"y = \", y)\n",
    "\n",
    "z = x**2 + y**2 + x*y + 5 #Derivative of z w.r.t. x = 2x+y and derivative of z w.r.t. y = 2y+x\n",
    "print(\"z = \", z)\n",
    "\n",
    "z.backward() #Gradients are calculated in the backward direction using the chain rule\n",
    "\n",
    "print(\"Gradient of z w.r.t. x at x=1. and y=2.= \", x.grad) #x.grad contains the derivative of z w.r.t. x at x = 1. and y = 2.\n",
    "print(\"Gradient of z w.r.t. x at x=1. and y=2.= \", y.grad) #y.grad contains the derivative of z w.r.t. y at x = 1. and y = 2."
   ]
  },
  {
   "cell_type": "markdown",
   "metadata": {},
   "source": [
    "### Obtain the derivative of a composite funcrtion"
   ]
  },
  {
   "cell_type": "code",
   "execution_count": 93,
   "metadata": {},
   "outputs": [
    {
     "name": "stdout",
     "output_type": "stream",
     "text": [
      "x =  tensor([1.], requires_grad=True) \n",
      "y =  tensor([2.], requires_grad=True) \n",
      "u =  tensor([5.], grad_fn=<AddBackward0>) \n",
      "v =  tensor([0.1411], grad_fn=<SinBackward>) \n",
      "w =  tensor([5.1411], grad_fn=<AddBackward0>) \n",
      "\n",
      "Derivative of w w.r.t. x - manually calculated =  tensor([1.0100], grad_fn=<AddBackward0>)\n",
      "Derivative of w w.r.t. y - manually calculated =  tensor([3.0100], grad_fn=<AddBackward0>)\n",
      "\n",
      "Derivative of w w.r.t. x - by auto grad =  tensor([1.0100])\n",
      "Derivative of w w.r.t. y - by auta grad =  tensor([3.0100])\n"
     ]
    }
   ],
   "source": [
    "x = t.tensor([1.], requires_grad=True)\n",
    "y = t.tensor([2.], requires_grad=True)\n",
    "\n",
    "\n",
    "u = x**2 + y**2 #derivative of u w.r.t. x = 2x, derivative of u w.r.t. y = 2y\n",
    "v = t.sin(x+y)  #derivative of v w.r.t. x = cos(x+y), derivative of v w.r.t. x = cos(x+y)\n",
    "\n",
    "#Composite function\n",
    "w = u + v #derivative of w w.r.t. x = 2x + cos(x+y), \n",
    "          #derivative of w w.r.t. y = 2y + cos(x+y)  \n",
    "      \n",
    "dwdx = 2*x + t.cos(x+y)\n",
    "dwdy = 2*y + t.cos(x+y)\n",
    "\n",
    "print(\"x = \", x, \"\\ny = \", y, \"\\nu = \", u, \"\\nv = \", v, \"\\nw = \", w, \"\\n\")\n",
    "print(\"Derivative of w w.r.t. x - manually calculated = \", dwdx)\n",
    "print(\"Derivative of w w.r.t. y - manually calculated = \", dwdy)\n",
    "\n",
    "w.backward()\n",
    "\n",
    "print(\"\")\n",
    "print(\"Derivative of w w.r.t. x - by auto grad = \", x.grad)\n",
    "print(\"Derivative of w w.r.t. y - by auta grad = \", y.grad)"
   ]
  },
  {
   "cell_type": "markdown",
   "metadata": {},
   "source": [
    "### Fitting a linear regression using Autograd"
   ]
  },
  {
   "cell_type": "code",
   "execution_count": 158,
   "metadata": {},
   "outputs": [
    {
     "name": "stdout",
     "output_type": "stream",
     "text": [
      "Initial w =  tensor([1.], device='cuda:0', requires_grad=True) \n",
      "Initial b =  tensor([1.], device='cuda:0', requires_grad=True)\n",
      "\n",
      "Final w =  1.8000410795211792 \n",
      "Final b =  31.999977111816406\n",
      "\n",
      "Loss =  1.5337718650698662e-08\n"
     ]
    }
   ],
   "source": [
    "import torch as t\n",
    "\n",
    "cuda0 = t.device('cuda:0')\n",
    "\n",
    "x = t.rand(100, device=cuda0) #Generates 100 random numbers\n",
    "\n",
    "#Original function\n",
    "y = (1.8*x) + 32.0 #True values\n",
    "\n",
    "w = t.ones(1, requires_grad=True, device=cuda0) #Initial values of\n",
    "b = t.ones(1, requires_grad=True, device=cuda0) #w and b\n",
    "print(\"Initial w = \", w, \"\\nInitial b = \", b)\n",
    "\n",
    "epochs = 1000 #No of epochs\n",
    "lr = 0.001 #Learning rate\n",
    "\n",
    "for i in range(epochs): \n",
    "    y_hat = w*x + b #Predicted values of output\n",
    "    loss = t.sum((y - y_hat)**2) #Sum of squared errors\n",
    "    loss.backward()\n",
    "    #w -= lr*w.grad <-- Considered as a relationship because of requires_grad=True\n",
    "    #b -= lr*b.grad <-- Considered as a relationship because of requires_grad=True\n",
    "    \n",
    "    #While updating w and b gradient calculation is dropped with torch.no_grad() operation\n",
    "    with t.no_grad():\n",
    "        w -= lr*w.grad #Gradient Descent updating\n",
    "        b -= lr*b.grad #Gradient Descent updating\n",
    "        w.grad.zero_() #After w and b are updated,\n",
    "        b.grad.zero_() #set the gradients of w and b to zero\n",
    "    \n",
    "print(\"\\nFinal w = \", w.item(), \"\\nFinal b = \", b.item())\n",
    "print(\"\\nLoss = \", loss.item())"
   ]
  }
 ],
 "metadata": {
  "kernelspec": {
   "display_name": "Python 3",
   "language": "python",
   "name": "python3"
  },
  "language_info": {
   "codemirror_mode": {
    "name": "ipython",
    "version": 3
   },
   "file_extension": ".py",
   "mimetype": "text/x-python",
   "name": "python",
   "nbconvert_exporter": "python",
   "pygments_lexer": "ipython3",
   "version": "3.7.6"
  }
 },
 "nbformat": 4,
 "nbformat_minor": 4
}
