{
 "cells": [
  {
   "cell_type": "markdown",
   "metadata": {},
   "source": [
    "### Import torch as t"
   ]
  },
  {
   "cell_type": "code",
   "execution_count": 19,
   "metadata": {},
   "outputs": [],
   "source": [
    "import torch as t"
   ]
  },
  {
   "cell_type": "markdown",
   "metadata": {},
   "source": [
    "### Creating empty tensors"
   ]
  },
  {
   "cell_type": "code",
   "execution_count": 20,
   "metadata": {},
   "outputs": [
    {
     "name": "stdout",
     "output_type": "stream",
     "text": [
      "tensor([-1.1763e-25])\n",
      "tensor([-2.3607e-38,  3.0826e-41, -2.3613e-38])\n",
      "tensor([[-2.2985e-38,  3.0826e-41, -1.1762e-25],\n",
      "        [ 4.5907e-41,  8.9683e-44,  0.0000e+00]])\n"
     ]
    }
   ],
   "source": [
    "x = t.empty(1) #Empty tensor of size 1 - scalar\n",
    "print(x)\n",
    "\n",
    "x = t.empty(3) #Empty tensor of size 3 - vector of size 3\n",
    "print(x)\n",
    "\n",
    "x = t.empty(2,3) #Empty 2D tensor of size 2 by 3\n",
    "print(x) "
   ]
  },
  {
   "cell_type": "markdown",
   "metadata": {},
   "source": [
    "### Creating tensors with initial values"
   ]
  },
  {
   "cell_type": "code",
   "execution_count": 21,
   "metadata": {},
   "outputs": [
    {
     "name": "stdout",
     "output_type": "stream",
     "text": [
      "tensor([[0.1522, 0.3859, 0.5191],\n",
      "        [0.1139, 0.6673, 0.5228]])\n",
      "tensor([[1., 1., 1.],\n",
      "        [1., 1., 1.]])\n",
      "tensor([[0., 0., 0.],\n",
      "        [0., 0., 0.]])\n"
     ]
    }
   ],
   "source": [
    "x = t.rand(2,3) #Creates a random tensor of size 2 by 3\n",
    "print(x)\n",
    "\n",
    "x = t.ones(2,3) #Creates a tensor of size 2 by 3 with all values 1\n",
    "print(x)\n",
    "\n",
    "x = t.zeros(2,3) #Creates a tensor of size 2 by 3 with all values 0\n",
    "print(x)"
   ]
  },
  {
   "cell_type": "markdown",
   "metadata": {},
   "source": [
    "### PyTorch data types"
   ]
  },
  {
   "cell_type": "code",
   "execution_count": 28,
   "metadata": {},
   "outputs": [
    {
     "name": "stdout",
     "output_type": "stream",
     "text": [
      "torch.float32\n",
      "tensor([[1, 1, 1],\n",
      "        [1, 1, 1]], dtype=torch.int32)\n",
      "tensor([[0.1080, 0.9232, 0.8764],\n",
      "        [0.9771, 0.2174, 0.6208]], dtype=torch.float64)\n",
      "tensor([[-5.0049e-03, -1.4811e-03,         nan],\n",
      "        [ 0.0000e+00,  3.3438e+00, -1.5080e-05]], dtype=torch.float16)\n"
     ]
    }
   ],
   "source": [
    "x = t.rand(2,3) #Default data type is float32\n",
    "print(x.dtype)\n",
    "\n",
    "x = t.ones(2,3,dtype=t.int) #Data type is now int32\n",
    "print(x)\n",
    "\n",
    "x = t.rand(2,3,dtype=t.double) #Now the precision is doubled \n",
    "print(x)\n",
    "\n",
    "x = t.empty(2,3,dtype=t.float16) #Float16\n",
    "print(x)"
   ]
  },
  {
   "cell_type": "markdown",
   "metadata": {},
   "source": [
    "### Checking the size of a tensor"
   ]
  },
  {
   "cell_type": "code",
   "execution_count": 32,
   "metadata": {},
   "outputs": [
    {
     "name": "stdout",
     "output_type": "stream",
     "text": [
      "torch.Size([2, 3, 5])\n",
      "torch.Size([2, 3, 5])\n"
     ]
    }
   ],
   "source": [
    "x = t.rand(2,3,5)\n",
    "print(x.size())\n",
    "print(x.shape)"
   ]
  },
  {
   "cell_type": "markdown",
   "metadata": {},
   "source": [
    "### Creating a tensor from data (e.g. Python list)"
   ]
  },
  {
   "cell_type": "code",
   "execution_count": 36,
   "metadata": {},
   "outputs": [
    {
     "name": "stdout",
     "output_type": "stream",
     "text": [
      "tensor([1.4000, 3.5000])\n",
      "torch.float32\n",
      "tensor([1.4000, 3.5000], dtype=torch.float64)\n",
      "torch.float64\n"
     ]
    }
   ],
   "source": [
    "x = t.tensor([1.4, 3.5])\n",
    "print(x)\n",
    "print(x.dtype)\n",
    "\n",
    "x = t.tensor([1.4, 3.5], dtype=t.double)\n",
    "print(x)\n",
    "print(x.dtype)"
   ]
  },
  {
   "cell_type": "markdown",
   "metadata": {},
   "source": [
    "### Basic tensor operations"
   ]
  },
  {
   "cell_type": "code",
   "execution_count": 42,
   "metadata": {},
   "outputs": [
    {
     "name": "stdout",
     "output_type": "stream",
     "text": [
      "tensor([[0.9374, 0.8134],\n",
      "        [0.5301, 0.5703]])\n",
      "tensor([[0.7362, 0.8280],\n",
      "        [0.2923, 0.6298]])\n",
      "tensor([[1.6736, 1.6414],\n",
      "        [0.8223, 1.2002]])\n",
      "tensor([[1.6736, 1.6414],\n",
      "        [0.8223, 1.2002]])\n",
      "tensor([[1.6736, 1.6414],\n",
      "        [0.8223, 1.2002]])\n"
     ]
    }
   ],
   "source": [
    "x = t.rand(2,2)\n",
    "y = t.rand(2,2)\n",
    "print(x)\n",
    "print(y)\n",
    "\n",
    "#Addition\n",
    "z = x+y\n",
    "print(z)\n",
    "\n",
    "z = t.add(x,y)\n",
    "print(z)\n",
    "\n",
    "y.add_(x) #In-placed addition - x is added to y\n",
    "print(y)"
   ]
  },
  {
   "cell_type": "markdown",
   "metadata": {},
   "source": [
    "Similarly, we can do sub(-), mul(*) and div(/) operations on PyTorch tensors."
   ]
  },
  {
   "cell_type": "markdown",
   "metadata": {},
   "source": [
    "### Slicing operations"
   ]
  },
  {
   "cell_type": "code",
   "execution_count": 49,
   "metadata": {},
   "outputs": [
    {
     "name": "stdout",
     "output_type": "stream",
     "text": [
      "tensor([[0.5219, 0.1002, 0.4350],\n",
      "        [0.9013, 0.0695, 0.5179],\n",
      "        [0.0225, 0.1473, 0.3976],\n",
      "        [0.0699, 0.9965, 0.3450],\n",
      "        [0.2587, 0.1359, 0.3642]])\n",
      "tensor(0.0695)\n",
      "tensor([0.5219, 0.9013, 0.0225, 0.0699, 0.2587])\n",
      "tensor([0.5219, 0.1002, 0.4350])\n",
      "0.06949084997177124\n"
     ]
    }
   ],
   "source": [
    "x = t.rand(5,3)\n",
    "print(x)\n",
    "\n",
    "print(x[1,1]) #Only a specific element - e.g. [1,1]\n",
    "print(x[:,0]) #Extract only the first column\n",
    "print(x[0,:]) #Extract only the first row\n",
    "\n",
    "print(x[1,1].item()) #Obtain am item value of a specific element"
   ]
  },
  {
   "cell_type": "markdown",
   "metadata": {},
   "source": [
    "### Reshaping tensors"
   ]
  },
  {
   "cell_type": "code",
   "execution_count": 60,
   "metadata": {},
   "outputs": [
    {
     "name": "stdout",
     "output_type": "stream",
     "text": [
      "tensor([[0.1576, 0.8485, 0.5513, 0.6094],\n",
      "        [0.8194, 0.6101, 0.7642, 0.9968],\n",
      "        [0.5201, 0.0201, 0.7127, 0.3716],\n",
      "        [0.4809, 0.4425, 0.5290, 0.9617]])\n",
      "tensor([0.1576, 0.8485, 0.5513, 0.6094, 0.8194, 0.6101, 0.7642, 0.9968, 0.5201,\n",
      "        0.0201, 0.7127, 0.3716, 0.4809, 0.4425, 0.5290, 0.9617])\n",
      "torch.Size([16])\n",
      "torch.Size([16])\n",
      "tensor([[0.1576, 0.8485, 0.5513, 0.6094, 0.8194, 0.6101, 0.7642, 0.9968],\n",
      "        [0.5201, 0.0201, 0.7127, 0.3716, 0.4809, 0.4425, 0.5290, 0.9617]])\n",
      "torch.Size([2, 8])\n"
     ]
    }
   ],
   "source": [
    "x = t.rand(4,4)\n",
    "print(x)\n",
    "\n",
    "y = x.view(16) #Copy elements into a 1D tensor of size 16\n",
    "print(y)\n",
    "print(y.size())\n",
    "\n",
    "y = x.view(-1) #Copy elements into a 1D tensor and its size is automatically decided\n",
    "print(y.size())\n",
    "\n",
    "y = x.view(-1,8) #2nd dimension is set to 8, the 1st dimension automatically decided\n",
    "print(y)\n",
    "print(y.size())"
   ]
  },
  {
   "cell_type": "markdown",
   "metadata": {},
   "source": [
    "### Converting tensors (numpy and torch)"
   ]
  },
  {
   "cell_type": "code",
   "execution_count": 61,
   "metadata": {},
   "outputs": [],
   "source": [
    "import numpy as np"
   ]
  },
  {
   "cell_type": "markdown",
   "metadata": {},
   "source": [
    "#### torch to numpy"
   ]
  },
  {
   "cell_type": "code",
   "execution_count": 68,
   "metadata": {},
   "outputs": [
    {
     "name": "stdout",
     "output_type": "stream",
     "text": [
      "tensor([0.1296, 0.7950, 0.8402, 0.1749, 0.8593])\n",
      "torch.float32\n",
      "[0.12956715 0.7949971  0.840175   0.1749335  0.8593148 ]\n",
      "<class 'numpy.ndarray'>\n",
      "tensor([1.1296, 1.7950, 1.8402, 1.1749, 1.8593])\n",
      "[1.1295671 1.7949971 1.8401749 1.1749334 1.8593148]\n"
     ]
    }
   ],
   "source": [
    "a = t.rand(5)\n",
    "print(a)\n",
    "print(a.dtype)\n",
    "\n",
    "b = a.numpy()\n",
    "print(b)\n",
    "print(type(b))\n",
    "\n",
    "a += 1\n",
    "\n",
    "print(a) # a and b share the same memory (unless GPUs are available in the system),\n",
    "print(b) # hence, when a changes, b also and vice versa"
   ]
  },
  {
   "cell_type": "markdown",
   "metadata": {},
   "source": [
    "#### numpy to torch"
   ]
  },
  {
   "cell_type": "code",
   "execution_count": 78,
   "metadata": {},
   "outputs": [
    {
     "name": "stdout",
     "output_type": "stream",
     "text": [
      "[1. 1. 1. 1. 1.]\n",
      "tensor([1., 1., 1., 1., 1.], dtype=torch.float64)\n"
     ]
    }
   ],
   "source": [
    "a = np.ones(5)\n",
    "print(a)\n",
    "\n",
    "b = t.from_numpy(a)\n",
    "print(b)"
   ]
  },
  {
   "cell_type": "markdown",
   "metadata": {},
   "source": [
    "### Perform operations on a GPU"
   ]
  },
  {
   "cell_type": "code",
   "execution_count": 88,
   "metadata": {},
   "outputs": [
    {
     "name": "stdout",
     "output_type": "stream",
     "text": [
      "tensor([2., 2., 2., 2., 2.], device='cuda:0')\n",
      "tensor([2., 2., 2., 2., 2.])\n"
     ]
    }
   ],
   "source": [
    "if t.cuda.is_available():\n",
    "    gpu = t.device(\"cuda\")\n",
    "    x = t.ones(5, device=gpu) # x is on GPU\n",
    "    y = t.ones(5)\n",
    "    y = y.to(gpu) # y is transfered to GPU\n",
    "    z = x+y   \n",
    "\n",
    "print(z)\n",
    "z = z.to(\"cpu\") # z is now on CPU, remember that numpy works only on CPUs\n",
    "print(z)"
   ]
  },
  {
   "cell_type": "markdown",
   "metadata": {},
   "source": [
    "### requires_grad argument"
   ]
  },
  {
   "cell_type": "markdown",
   "metadata": {},
   "source": [
    "This argument (requires_grad) tells that this variable's gradient needs to be calculated later. By default, this is False."
   ]
  },
  {
   "cell_type": "code",
   "execution_count": 90,
   "metadata": {},
   "outputs": [
    {
     "name": "stdout",
     "output_type": "stream",
     "text": [
      "tensor([1., 1., 1., 1., 1.], requires_grad=True)\n"
     ]
    }
   ],
   "source": [
    "x = t.ones(5, requires_grad=True)\n",
    "print(x)"
   ]
  }
 ],
 "metadata": {
  "kernelspec": {
   "display_name": "Python 3",
   "language": "python",
   "name": "python3"
  },
  "language_info": {
   "codemirror_mode": {
    "name": "ipython",
    "version": 3
   },
   "file_extension": ".py",
   "mimetype": "text/x-python",
   "name": "python",
   "nbconvert_exporter": "python",
   "pygments_lexer": "ipython3",
   "version": "3.7.6"
  }
 },
 "nbformat": 4,
 "nbformat_minor": 4
}
