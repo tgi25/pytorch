{
 "cells": [
  {
   "cell_type": "markdown",
   "metadata": {},
   "source": [
    "# CFAR-10 Dataset"
   ]
  },
  {
   "cell_type": "markdown",
   "metadata": {},
   "source": [
    "From Wikipedia, the free encyclopedia (https://en.wikipedia.org/wiki/CIFAR-10)\n",
    "\n",
    "The CIFAR-10 dataset (Canadian Institute For Advanced Research) is a collection of images that are commonly used to train machine learning and computer vision algorithms. It is one of the most widely used datasets for machine learning research. The CIFAR-10 dataset contains 60,000 32x32 color images in 10 different classes. The 10 different classes represent airplanes, cars, birds, cats, deer, dogs, frogs, horses, ships, and trucks. There are 6,000 images of each class.\n",
    "\n",
    "Computer algorithms for recognizing objects in photos often learn by example. CIFAR-10 is a set of images that can be used to teach a computer how to recognize objects. Since the images in CIFAR-10 are low-resolution (32x32), this dataset can allow researchers to quickly try different algorithms to see what works. Various kinds of convolutional neural networks tend to be the best at recognizing the images in CIFAR-10.\n",
    "\n",
    "CIFAR-10 is a labeled subset of the 80 million tiny images dataset. When the dataset was created, students were paid to label all of the images."
   ]
  },
  {
   "cell_type": "markdown",
   "metadata": {
    "toc": true
   },
   "source": [
    "<h1>Table of Contents<span class=\"tocSkip\"></span></h1>\n",
    "<div class=\"toc\"><ul class=\"toc-item\"><li><span><a href=\"#Loading-and-processing-the-dataset\" data-toc-modified-id=\"Loading-and-processing-the-dataset-1\"><span class=\"toc-item-num\">1&nbsp;&nbsp;</span>Loading and processing the dataset</a></span><ul class=\"toc-item\"><li><span><a href=\"#Loading-data\" data-toc-modified-id=\"Loading-data-1.1\"><span class=\"toc-item-num\">1.1&nbsp;&nbsp;</span>Loading data</a></span></li><li><span><a href=\"#Extract-data-and-targets\" data-toc-modified-id=\"Extract-data-and-targets-1.2\"><span class=\"toc-item-num\">1.2&nbsp;&nbsp;</span>Extract data and targets</a></span></li><li><span><a href=\"#Convert-to-Pytorch-tensors\" data-toc-modified-id=\"Convert-to-Pytorch-tensors-1.3\"><span class=\"toc-item-num\">1.3&nbsp;&nbsp;</span>Convert to Pytorch tensors</a></span></li><li><span><a href=\"#Cast-data-to-float32\" data-toc-modified-id=\"Cast-data-to-float32-1.4\"><span class=\"toc-item-num\">1.4&nbsp;&nbsp;</span>Cast data to float32</a></span></li><li><span><a href=\"#Class-labels\" data-toc-modified-id=\"Class-labels-1.5\"><span class=\"toc-item-num\">1.5&nbsp;&nbsp;</span>Class labels</a></span></li><li><span><a href=\"#Display-images\" data-toc-modified-id=\"Display-images-1.6\"><span class=\"toc-item-num\">1.6&nbsp;&nbsp;</span>Display images</a></span></li></ul></li><li><span><a href=\"#Wrap-tensors-into-datasets\" data-toc-modified-id=\"Wrap-tensors-into-datasets-2\"><span class=\"toc-item-num\">2&nbsp;&nbsp;</span>Wrap tensors into datasets</a></span><ul class=\"toc-item\"><li><span><a href=\"#Iterate-over-dataset\" data-toc-modified-id=\"Iterate-over-dataset-2.1\"><span class=\"toc-item-num\">2.1&nbsp;&nbsp;</span>Iterate over dataset</a></span></li></ul></li><li><span><a href=\"#Is-the-training-dataset-balanced?\" data-toc-modified-id=\"Is-the-training-dataset-balanced?-3\"><span class=\"toc-item-num\">3&nbsp;&nbsp;</span>Is the training dataset balanced?</a></span><ul class=\"toc-item\"><li><span><a href=\"#Computing-the-frequency-of-each-digit\" data-toc-modified-id=\"Computing-the-frequency-of-each-digit-3.1\"><span class=\"toc-item-num\">3.1&nbsp;&nbsp;</span>Computing the frequency of each digit</a></span></li><li><span><a href=\"#Computing-the-percentages-of-each-digit-in-the-training-dataset\" data-toc-modified-id=\"Computing-the-percentages-of-each-digit-in-the-training-dataset-3.2\"><span class=\"toc-item-num\">3.2&nbsp;&nbsp;</span>Computing the percentages of each digit in the training dataset</a></span></li><li><span><a href=\"#Plotting-percentages-of-each-digit-in-a-bar-chart\" data-toc-modified-id=\"Plotting-percentages-of-each-digit-in-a-bar-chart-3.3\"><span class=\"toc-item-num\">3.3&nbsp;&nbsp;</span>Plotting percentages of each digit in a bar chart</a></span></li></ul></li></ul></div>"
   ]
  },
  {
   "cell_type": "markdown",
   "metadata": {},
   "source": [
    "## Loading and processing the dataset"
   ]
  },
  {
   "cell_type": "markdown",
   "metadata": {},
   "source": [
    "### Loading data"
   ]
  },
  {
   "cell_type": "code",
   "execution_count": 156,
   "metadata": {
    "ExecuteTime": {
     "end_time": "2020-04-13T09:49:47.597725Z",
     "start_time": "2020-04-13T09:49:46.494862Z"
    }
   },
   "outputs": [
    {
     "name": "stdout",
     "output_type": "stream",
     "text": [
      "Files already downloaded and verified\n",
      "Files already downloaded and verified\n"
     ]
    }
   ],
   "source": [
    "import torch\n",
    "from torchvision import datasets, transforms\n",
    "\n",
    "#Loading training data\n",
    "train = datasets.CIFAR10(\n",
    "    root=\"\", #Folder where the dataset to be stored; empty means stored in current folder\n",
    "    train=True, #Download the 'training' dataset, False => download 'test' dataset\n",
    "    download=True, #Should be 'True' in the first time downling the dataset, else 'False'\n",
    ")\n",
    "\n",
    "#Loading test data\n",
    "test = datasets.CIFAR10(\n",
    "    root=\"\",\n",
    "    train=False,\n",
    "    download=True\n",
    ")"
   ]
  },
  {
   "cell_type": "markdown",
   "metadata": {},
   "source": [
    "### Extract data and targets"
   ]
  },
  {
   "cell_type": "code",
   "execution_count": 157,
   "metadata": {
    "ExecuteTime": {
     "end_time": "2020-04-13T09:49:47.602830Z",
     "start_time": "2020-04-13T09:49:47.598844Z"
    }
   },
   "outputs": [
    {
     "name": "stdout",
     "output_type": "stream",
     "text": [
      "Type =>  trainX =  <class 'numpy.ndarray'> trainY =  <class 'list'>\n",
      "Type =>  testX  =  <class 'numpy.ndarray'> testY  =  <class 'list'>\n"
     ]
    }
   ],
   "source": [
    "trainX, trainY = train.data, train.targets\n",
    "testX,  testY  = test.data,  test.targets\n",
    "\n",
    "print(\"Type => \", \"trainX = \", type(trainX), \"trainY = \", type(trainY))\n",
    "print(\"Type => \", \"testX  = \", type(testX),  \"testY  = \", type(testY))"
   ]
  },
  {
   "cell_type": "markdown",
   "metadata": {},
   "source": [
    "### Convert to Pytorch tensors"
   ]
  },
  {
   "cell_type": "code",
   "execution_count": 158,
   "metadata": {
    "ExecuteTime": {
     "end_time": "2020-04-13T09:49:47.614232Z",
     "start_time": "2020-04-13T09:49:47.604547Z"
    }
   },
   "outputs": [
    {
     "name": "stdout",
     "output_type": "stream",
     "text": [
      "trainX => type =  <class 'torch.Tensor'> shape =  torch.Size([50000, 32, 32, 3]) dtype =  torch.uint8\n",
      "trainY => type =  <class 'torch.Tensor'> shape =  torch.Size([50000]) dtype =  torch.int32\n",
      "testX  => type =  <class 'torch.Tensor'> shape =  torch.Size([10000, 32, 32, 3]) dtype =  torch.uint8\n",
      "testY  => type =  <class 'torch.Tensor'> shape =  torch.Size([10000]) dtype =  torch.int32\n"
     ]
    }
   ],
   "source": [
    "trainX = torch.from_numpy(trainX)\n",
    "trainY = torch.IntTensor(trainY)\n",
    "testX  = torch.from_numpy(testX)\n",
    "testY  = torch.IntTensor(testY)\n",
    "\n",
    "print(\"trainX =>\", \"type = \", type(trainX), \"shape = \", trainX.shape, \"dtype = \", trainX.dtype)\n",
    "print(\"trainY =>\", \"type = \", type(trainY), \"shape = \", trainY.shape, \"dtype = \", trainY.dtype)\n",
    "print(\"testX  =>\", \"type = \", type(testX), \"shape = \", testX.shape,  \"dtype = \", testX.dtype)\n",
    "print(\"testY  =>\", \"type = \", type(trainY), \"shape = \", testY.shape,  \"dtype = \", testY.dtype)"
   ]
  },
  {
   "cell_type": "markdown",
   "metadata": {},
   "source": [
    "### Cast data to float32"
   ]
  },
  {
   "cell_type": "code",
   "execution_count": 159,
   "metadata": {
    "ExecuteTime": {
     "end_time": "2020-04-13T09:49:47.828678Z",
     "start_time": "2020-04-13T09:49:47.615731Z"
    }
   },
   "outputs": [
    {
     "name": "stdout",
     "output_type": "stream",
     "text": [
      "trainX => shape =  torch.Size([50000, 32, 32, 3]) type =  torch.float32\n",
      "testX  => shape =  torch.Size([10000, 32, 32, 3]) type =  torch.float32\n"
     ]
    }
   ],
   "source": [
    "trainX = trainX.type(dtype=torch.float32)\n",
    "testX  = testX.type(dtype=torch.float32)\n",
    "\n",
    "print(\"trainX =>\", \"shape = \", trainX.shape, \"type = \", trainX.dtype)\n",
    "print(\"testX  =>\", \"shape = \", testX.shape,  \"type = \", testX.dtype)"
   ]
  },
  {
   "cell_type": "markdown",
   "metadata": {},
   "source": [
    "### Class labels"
   ]
  },
  {
   "cell_type": "code",
   "execution_count": 171,
   "metadata": {
    "ExecuteTime": {
     "end_time": "2020-04-13T10:12:05.180697Z",
     "start_time": "2020-04-13T10:12:05.169310Z"
    }
   },
   "outputs": [
    {
     "name": "stdout",
     "output_type": "stream",
     "text": [
      "<class 'tuple'>\n",
      "automobile\n"
     ]
    }
   ],
   "source": [
    "classes = ('airplane', 'automobile', 'bird', 'cat', 'deer', 'dog', 'frog', 'horse', 'ship', 'truck')\n",
    "\n",
    "print(type(classes))\n",
    "print(classes[1])"
   ]
  },
  {
   "cell_type": "markdown",
   "metadata": {},
   "source": [
    "### Display images"
   ]
  },
  {
   "cell_type": "code",
   "execution_count": 175,
   "metadata": {
    "ExecuteTime": {
     "end_time": "2020-04-13T10:13:22.250932Z",
     "start_time": "2020-04-13T10:13:22.154733Z"
    }
   },
   "outputs": [
    {
     "data": {
      "image/png": "[encoded data removed]",
      "text/plain": [
       "<Figure size 432x288 with 1 Axes>"
      ]
     },
     "metadata": {
      "needs_background": "light"
     },
     "output_type": "display_data"
    },
    {
     "name": "stdout",
     "output_type": "stream",
     "text": [
      "Class =  frog\n"
     ]
    }
   ],
   "source": [
    "import matplotlib.pyplot as plt\n",
    "%matplotlib inline\n",
    "\n",
    "plt.imshow(trainX[0].type(torch.int))\n",
    "plt.show()\n",
    "\n",
    "print(\"Class = \", classes[trainY[0]])"
   ]
  },
  {
   "cell_type": "markdown",
   "metadata": {},
   "source": [
    "## Wrap tensors into datasets"
   ]
  },
  {
   "cell_type": "code",
   "execution_count": 147,
   "metadata": {
    "ExecuteTime": {
     "end_time": "2020-04-13T09:44:44.370774Z",
     "start_time": "2020-04-13T09:44:44.367350Z"
    }
   },
   "outputs": [
    {
     "name": "stdout",
     "output_type": "stream",
     "text": [
      "xDS =>  shape =  torch.Size([32, 32, 3]) type =  torch.float32\n",
      "yDS =>  shape =  torch.Size([]) type =  torch.int32\n"
     ]
    }
   ],
   "source": [
    "from torch.utils.data import TensorDataset\n",
    "\n",
    "trainDS = TensorDataset(trainX, trainY)\n",
    "\n",
    "for xDS,yDS in trainDS:\n",
    "    print(\"xDS => \", \"shape = \", xDS.shape, \"type = \", xDS.dtype)\n",
    "    print(\"yDS => \", \"shape = \", yDS.shape, \"type = \", yDS.dtype)\n",
    "    break"
   ]
  },
  {
   "cell_type": "markdown",
   "metadata": {},
   "source": [
    "### Iterate over dataset"
   ]
  },
  {
   "cell_type": "code",
   "execution_count": 148,
   "metadata": {
    "ExecuteTime": {
     "end_time": "2020-04-13T09:44:44.381891Z",
     "start_time": "2020-04-13T09:44:44.371565Z"
    }
   },
   "outputs": [
    {
     "name": "stdout",
     "output_type": "stream",
     "text": [
      "xDL =>  shape =  torch.Size([8, 32, 32, 3]) type =  torch.float32\n",
      "yDL =>  shape =  torch.Size([8]) type =  torch.int32\n"
     ]
    }
   ],
   "source": [
    "from torch.utils.data import DataLoader\n",
    "\n",
    "trainDL = DataLoader(trainDS, batch_size=8, shuffle=True)\n",
    "\n",
    "for xDL, yDL in trainDL:\n",
    "    print(\"xDL => \", \"shape = \", xDL.shape, \"type = \", xDL.dtype)\n",
    "    print(\"yDL => \", \"shape = \", yDL.shape, \"type = \", yDL.dtype)\n",
    "    break"
   ]
  },
  {
   "cell_type": "code",
   "execution_count": 181,
   "metadata": {
    "ExecuteTime": {
     "end_time": "2020-04-13T10:16:04.984917Z",
     "start_time": "2020-04-13T10:16:04.869269Z"
    }
   },
   "outputs": [
    {
     "data": {
      "image/png": "[encoded data removed]",
      "text/plain": [
       "<Figure size 432x288 with 1 Axes>"
      ]
     },
     "metadata": {
      "needs_background": "light"
     },
     "output_type": "display_data"
    },
    {
     "name": "stdout",
     "output_type": "stream",
     "text": [
      "Class =  deer\n"
     ]
    }
   ],
   "source": [
    "import matplotlib.pyplot as plt\n",
    "%matplotlib inline\n",
    "\n",
    "plt.imshow(xDL[0].type(torch.int)) #Display the first image of the batch\n",
    "plt.show()\n",
    "print(\"Class = \", classes[yDL[0]])"
   ]
  },
  {
   "cell_type": "markdown",
   "metadata": {},
   "source": [
    "## Is the training dataset balanced?"
   ]
  },
  {
   "cell_type": "markdown",
   "metadata": {},
   "source": [
    "### Computing the frequency of each digit"
   ]
  },
  {
   "cell_type": "code",
   "execution_count": 150,
   "metadata": {
    "ExecuteTime": {
     "end_time": "2020-04-13T09:44:45.005334Z",
     "start_time": "2020-04-13T09:44:44.475690Z"
    }
   },
   "outputs": [
    {
     "name": "stdout",
     "output_type": "stream",
     "text": [
      "Count of each digit =>  {0: 5000, 1: 5000, 2: 5000, 3: 5000, 4: 5000, 5: 5000, 6: 5000, 7: 5000, 8: 5000, 9: 5000}\n",
      "Total number of digits in the MNIST training dataset =  50000\n"
     ]
    }
   ],
   "source": [
    "total = 0\n",
    "count_dictionary = {0:0, 1:0, 2:0, 3:0, 4:0, 5:0, 6:0, 7:0, 8:0, 9:0}\n",
    "\n",
    "for Xs, ys in trainDL:\n",
    "    for y in ys:\n",
    "        count_dictionary[int(y)] += 1\n",
    "        total += 1\n",
    "\n",
    "print(\"Count of each digit => \", count_dictionary)        \n",
    "print(\"Total number of digits in the MNIST training dataset = \", total)"
   ]
  },
  {
   "cell_type": "markdown",
   "metadata": {},
   "source": [
    "### Computing the percentages of each digit in the training dataset"
   ]
  },
  {
   "cell_type": "code",
   "execution_count": 151,
   "metadata": {
    "ExecuteTime": {
     "end_time": "2020-04-13T09:44:45.010263Z",
     "start_time": "2020-04-13T09:44:45.006518Z"
    }
   },
   "outputs": [
    {
     "name": "stdout",
     "output_type": "stream",
     "text": [
      "{0: 10.0, 1: 10.0, 2: 10.0, 3: 10.0, 4: 10.0, 5: 10.0, 6: 10.0, 7: 10.0, 8: 10.0, 9: 10.0}\n"
     ]
    }
   ],
   "source": [
    "percentage_dictionary = {0:0.0, 1:0.0, 2:0.0, 3:0.0, 4:0.0, 5:0.0, 6:0.0, 7:0.0, 8:0.0, 9:0.0}\n",
    "\n",
    "for i in count_dictionary:\n",
    "    percentage_dictionary[i] = count_dictionary[i]/total * 100\n",
    "    \n",
    "print(percentage_dictionary)"
   ]
  },
  {
   "cell_type": "markdown",
   "metadata": {},
   "source": [
    "### Plotting percentages of each digit in a bar chart"
   ]
  },
  {
   "cell_type": "code",
   "execution_count": 152,
   "metadata": {
    "ExecuteTime": {
     "end_time": "2020-04-13T09:44:45.112786Z",
     "start_time": "2020-04-13T09:44:45.011371Z"
    }
   },
   "outputs": [
    {
     "data": {
      "image/png": "[encoded data removed]",
      "text/plain": [
       "<Figure size 432x288 with 1 Axes>"
      ]
     },
     "metadata": {
      "needs_background": "light"
     },
     "output_type": "display_data"
    }
   ],
   "source": [
    "plt.bar(range(len(percentage_dictionary)), list(percentage_dictionary.values()), align='center')\n",
    "plt.xticks(range(len(percentage_dictionary)), list(percentage_dictionary.keys()))\n",
    "plt.title(\"Percentage of each digit\")\n",
    "plt.xlabel(\"Digit\")\n",
    "plt.ylabel(\"Percentage\")\n",
    "plt.show()"
   ]
  }
 ],
 "metadata": {
  "kernelspec": {
   "display_name": "Python 3",
   "language": "python",
   "name": "python3"
  },
  "language_info": {
   "codemirror_mode": {
    "name": "ipython",
    "version": 3
   },
   "file_extension": ".py",
   "mimetype": "text/x-python",
   "name": "python",
   "nbconvert_exporter": "python",
   "pygments_lexer": "ipython3",
   "version": "3.7.6"
  },
  "nbTranslate": {
   "displayLangs": [
    "*"
   ],
   "hotkey": "alt-t",
   "langInMainMenu": true,
   "sourceLang": "en",
   "targetLang": "fr",
   "useGoogleTranslate": true
  },
  "toc": {
   "base_numbering": 1,
   "nav_menu": {},
   "number_sections": true,
   "sideBar": true,
   "skip_h1_title": true,
   "title_cell": "Table of Contents",
   "title_sidebar": "Contents",
   "toc_cell": true,
   "toc_position": {
    "height": "calc(100% - 180px)",
    "left": "10px",
    "top": "150px",
    "width": "374.2px"
   },
   "toc_section_display": true,
   "toc_window_display": true
  },
  "varInspector": {
   "cols": {
    "lenName": 16,
    "lenType": 16,
    "lenVar": 40
   },
   "kernels_config": {
    "python": {
     "delete_cmd_postfix": "",
     "delete_cmd_prefix": "del ",
     "library": "var_list.py",
     "varRefreshCmd": "print(var_dic_list())"
    },
    "r": {
     "delete_cmd_postfix": ") ",
     "delete_cmd_prefix": "rm(",
     "library": "var_list.r",
     "varRefreshCmd": "cat(var_dic_list()) "
    }
   },
   "types_to_exclude": [
    "module",
    "function",
    "builtin_function_or_method",
    "instance",
    "_Feature"
   ],
   "window_display": false
  }
 },
 "nbformat": 4,
 "nbformat_minor": 4
}
