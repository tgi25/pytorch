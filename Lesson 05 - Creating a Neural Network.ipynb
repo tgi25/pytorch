{
 "cells": [
  {
   "cell_type": "markdown",
   "metadata": {},
   "source": [
    "### Importing modules"
   ]
  },
  {
   "cell_type": "code",
   "execution_count": 74,
   "metadata": {},
   "outputs": [],
   "source": [
    "import torch as t\n",
    "import torch.nn as nn #For neural networks"
   ]
  },
  {
   "cell_type": "markdown",
   "metadata": {},
   "source": [
    "### Define network paremeters"
   ]
  },
  {
   "cell_type": "code",
   "execution_count": 75,
   "metadata": {},
   "outputs": [],
   "source": [
    "ninputs = 10 #No of inputs\n",
    "nhidden = 5 #No of hidden neurons\n",
    "noutputs = 10 #No of outputs\n",
    "nexamples = 15 #No of examples to given to the neural network"
   ]
  },
  {
   "cell_type": "markdown",
   "metadata": {},
   "source": [
    "### Creating inputs and outputs"
   ]
  },
  {
   "cell_type": "code",
   "execution_count": 76,
   "metadata": {},
   "outputs": [
    {
     "name": "stdout",
     "output_type": "stream",
     "text": [
      "torch.Size([15, 10])\n",
      "torch.Size([15, 10])\n"
     ]
    }
   ],
   "source": [
    "x = t.randn(nexamples, ninputs)\n",
    "y = x #Output is same as input - an autoencoder\n",
    "print(x.shape)\n",
    "print(y.shape)"
   ]
  },
  {
   "cell_type": "markdown",
   "metadata": {},
   "source": [
    "### Defining a sequential model"
   ]
  },
  {
   "cell_type": "code",
   "execution_count": 77,
   "metadata": {},
   "outputs": [],
   "source": [
    "model = nn.Sequential(nn.Linear(ninputs, nhidden), #input --> hidden layer\n",
    "                      nn.ReLU(), #Activaton function is ReLU\n",
    "                      nn.Linear(nhidden, noutputs), #hidden layer --> output\n",
    "                      nn.Tanh(), #Activation function is Tanh\n",
    "                     ) "
   ]
  },
  {
   "cell_type": "markdown",
   "metadata": {},
   "source": [
    "### Gradient Descent Algorithm"
   ]
  },
  {
   "cell_type": "code",
   "execution_count": 78,
   "metadata": {},
   "outputs": [
    {
     "name": "stdout",
     "output_type": "stream",
     "text": [
      "Loss =  0.5552657842636108\n"
     ]
    }
   ],
   "source": [
    "lr = 0.001 #Learning rate\n",
    "epochs = 10000 #No of epochs\n",
    "\n",
    "loss_fn = nn.MSELoss() #Loss function\n",
    "optimizer = t.optim.SGD(model.parameters(), lr) #Defining the optimizer - SGD\n",
    "\n",
    "for i in range(epochs):\n",
    "    ypred = model(x) #Calculate predicted value of the model\n",
    "    loss = loss_fn(ypred, y) #Apply the loss function (MSE) to calculate MSE\n",
    "    #print(\"Epoch : \", i+1, \"Loss = \", loss.item()) #Prints epoch number and its corresponding loss\n",
    "    loss.backward() #Backward - Backward propagation\n",
    "    optimizer.step() #Update all parameters\n",
    "    optimizer.zero_grad() #Set gradients of all parameters to zero before starting the next epoch\n",
    "    \n",
    "print(\"Loss = \", loss.item())"
   ]
  },
  {
   "cell_type": "markdown",
   "metadata": {},
   "source": [
    "### Predicting output for unseen inputs"
   ]
  },
  {
   "cell_type": "code",
   "execution_count": 79,
   "metadata": {},
   "outputs": [
    {
     "name": "stdout",
     "output_type": "stream",
     "text": [
      "x_new =  tensor([[-1.6928,  0.2630,  1.4390,  1.0521,  1.1292,  1.1718, -0.0333, -1.3190,\n",
      "         -1.3894, -0.6517]])\n",
      "y_new =  tensor([[-0.0774,  0.1992, -0.0583, -0.0929,  0.0077,  0.5611,  0.0110, -0.3608,\n",
      "         -0.4057, -0.2126]], grad_fn=<TanhBackward>)\n"
     ]
    }
   ],
   "source": [
    "x_new = t.randn(1, ninputs)\n",
    "y_new = model(x_new)\n",
    "print(\"x_new = \", x_new)\n",
    "print(\"y_new = \", y_new)"
   ]
  }
 ],
 "metadata": {
  "kernelspec": {
   "display_name": "Python 3",
   "language": "python",
   "name": "python3"
  },
  "language_info": {
   "codemirror_mode": {
    "name": "ipython",
    "version": 3
   },
   "file_extension": ".py",
   "mimetype": "text/x-python",
   "name": "python",
   "nbconvert_exporter": "python",
   "pygments_lexer": "ipython3",
   "version": "3.7.6"
  }
 },
 "nbformat": 4,
 "nbformat_minor": 4
}
