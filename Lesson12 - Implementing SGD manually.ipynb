{
 "cells": [
  {
   "cell_type": "markdown",
   "metadata": {
    "toc": true
   },
   "source": [
    "<h1>Table of Contents<span class=\"tocSkip\"></span></h1>\n",
    "<div class=\"toc\"><ul class=\"toc-item\"><li><span><a href=\"#Defining-the-network\" data-toc-modified-id=\"Defining-the-network-1\"><span class=\"toc-item-num\">1&nbsp;&nbsp;</span>Defining the network</a></span></li><li><span><a href=\"#Creating-an-object-of-MLP-class\" data-toc-modified-id=\"Creating-an-object-of-MLP-class-2\"><span class=\"toc-item-num\">2&nbsp;&nbsp;</span>Creating an object of MLP class</a></span></li><li><span><a href=\"#Inputs-and-outputs\" data-toc-modified-id=\"Inputs-and-outputs-3\"><span class=\"toc-item-num\">3&nbsp;&nbsp;</span>Inputs and outputs</a></span></li><li><span><a href=\"#Implementing-SGD-manually\" data-toc-modified-id=\"Implementing-SGD-manually-4\"><span class=\"toc-item-num\">4&nbsp;&nbsp;</span>Implementing SGD manually</a></span></li></ul></div>"
   ]
  },
  {
   "cell_type": "markdown",
   "metadata": {},
   "source": [
    "# Implementing SGD manually"
   ]
  },
  {
   "cell_type": "markdown",
   "metadata": {},
   "source": [
    "## Defining the network"
   ]
  },
  {
   "cell_type": "code",
   "execution_count": 33,
   "metadata": {
    "ExecuteTime": {
     "end_time": "2020-04-21T20:17:28.836827Z",
     "start_time": "2020-04-21T20:17:28.832712Z"
    }
   },
   "outputs": [],
   "source": [
    "import torch\n",
    "import torch.nn as nn\n",
    "\n",
    "class MLP(nn.Module):\n",
    "    def __init__(self, n_in, n_hid, n_out):\n",
    "        super(MLP, self).__init__()\n",
    "        self.hid = nn.Linear(n_in, n_hid)\n",
    "        self.out = nn.Linear(n_hid, n_out)\n",
    "        \n",
    "    def forward(self, x):\n",
    "        y = self.hid(x)\n",
    "        y = torch.relu(y)\n",
    "        y = self.out(y)\n",
    "        y = torch.sigmoid(y)\n",
    "        return y"
   ]
  },
  {
   "cell_type": "markdown",
   "metadata": {},
   "source": [
    "## Creating an object of MLP class"
   ]
  },
  {
   "cell_type": "code",
   "execution_count": 34,
   "metadata": {
    "ExecuteTime": {
     "end_time": "2020-04-21T20:17:28.867931Z",
     "start_time": "2020-04-21T20:17:28.865491Z"
    }
   },
   "outputs": [],
   "source": [
    "model = MLP(10, 5, 1)"
   ]
  },
  {
   "cell_type": "markdown",
   "metadata": {},
   "source": [
    "## Inputs and outputs"
   ]
  },
  {
   "cell_type": "code",
   "execution_count": 35,
   "metadata": {
    "ExecuteTime": {
     "end_time": "2020-04-21T20:17:28.894876Z",
     "start_time": "2020-04-21T20:17:28.892610Z"
    }
   },
   "outputs": [],
   "source": [
    "x = torch.randn(15, 10)\n",
    "y = torch.randn(15, 1)"
   ]
  },
  {
   "cell_type": "markdown",
   "metadata": {},
   "source": [
    "## Implementing SGD manually"
   ]
  },
  {
   "cell_type": "code",
   "execution_count": 42,
   "metadata": {
    "ExecuteTime": {
     "end_time": "2020-04-21T20:23:57.970301Z",
     "start_time": "2020-04-21T20:23:57.941303Z"
    }
   },
   "outputs": [
    {
     "name": "stdout",
     "output_type": "stream",
     "text": [
      "Epoch:     1/  10 ==> Loss: 1.298486351966858\n",
      "Epoch:     2/  10 ==> Loss: 1.2958228588104248\n",
      "Epoch:     3/  10 ==> Loss: 1.295505404472351\n",
      "Epoch:     4/  10 ==> Loss: 1.2951877117156982\n",
      "Epoch:     5/  10 ==> Loss: 1.2948704957962036\n",
      "Epoch:     6/  10 ==> Loss: 1.2945531606674194\n",
      "Epoch:     7/  10 ==> Loss: 1.2942359447479248\n",
      "Epoch:     8/  10 ==> Loss: 1.2939187288284302\n",
      "Epoch:     9/  10 ==> Loss: 1.2936018705368042\n",
      "Epoch:    10/  10 ==> Loss: 1.2932846546173096\n"
     ]
    }
   ],
   "source": [
    "loss_fn = nn.MSELoss()\n",
    "lr = 0.01\n",
    "\n",
    "epochs = 10\n",
    "for epoch in range(epochs):\n",
    "    y_pred = model(x)\n",
    "    loss = loss_fn(y, y_pred)\n",
    "    loss.backward()\n",
    "    for child in model.children(): #Get each layer of the model\n",
    "        with torch.no_grad(): #requires_grad needs to be switched off while updating weights and biases\n",
    "            child.weight -= lr*child.weight.grad #Updating weights\n",
    "            child.bias   -= lr*child.bias.grad #Updating biases\n",
    "        child.weight.grad.zero_() #Afer weights and biases are updated,\n",
    "        child.bias.grad.zero_()   #set the gradiants of weights and biases to zero\n",
    "    print(\"Epoch: \", \"{:4d}/{:4d} ==>\".format(epoch+1,epochs), \"Loss:\", loss.item())"
   ]
  }
 ],
 "metadata": {
  "kernelspec": {
   "display_name": "Python 3",
   "language": "python",
   "name": "python3"
  },
  "language_info": {
   "codemirror_mode": {
    "name": "ipython",
    "version": 3
   },
   "file_extension": ".py",
   "mimetype": "text/x-python",
   "name": "python",
   "nbconvert_exporter": "python",
   "pygments_lexer": "ipython3",
   "version": "3.7.6"
  },
  "latex_envs": {
   "LaTeX_envs_menu_present": true,
   "autoclose": false,
   "autocomplete": true,
   "bibliofile": "biblio.bib",
   "cite_by": "apalike",
   "current_citInitial": 1,
   "eqLabelWithNumbers": true,
   "eqNumInitial": 1,
   "hotkeys": {
    "equation": "Ctrl-E",
    "itemize": "Ctrl-I"
   },
   "labels_anchors": false,
   "latex_user_defs": false,
   "report_style_numbering": false,
   "user_envs_cfg": false
  },
  "nbTranslate": {
   "displayLangs": [
    "*"
   ],
   "hotkey": "alt-t",
   "langInMainMenu": true,
   "sourceLang": "en",
   "targetLang": "fr",
   "useGoogleTranslate": true
  },
  "toc": {
   "base_numbering": 1,
   "nav_menu": {},
   "number_sections": true,
   "sideBar": true,
   "skip_h1_title": true,
   "title_cell": "Table of Contents",
   "title_sidebar": "Contents",
   "toc_cell": true,
   "toc_position": {
    "height": "calc(100% - 180px)",
    "left": "10px",
    "top": "150px",
    "width": "374.2px"
   },
   "toc_section_display": true,
   "toc_window_display": true
  },
  "varInspector": {
   "cols": {
    "lenName": 16,
    "lenType": 16,
    "lenVar": 40
   },
   "kernels_config": {
    "python": {
     "delete_cmd_postfix": "",
     "delete_cmd_prefix": "del ",
     "library": "var_list.py",
     "varRefreshCmd": "print(var_dic_list())"
    },
    "r": {
     "delete_cmd_postfix": ") ",
     "delete_cmd_prefix": "rm(",
     "library": "var_list.r",
     "varRefreshCmd": "cat(var_dic_list()) "
    }
   },
   "types_to_exclude": [
    "module",
    "function",
    "builtin_function_or_method",
    "instance",
    "_Feature"
   ],
   "window_display": false
  }
 },
 "nbformat": 4,
 "nbformat_minor": 4
}
