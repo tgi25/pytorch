{
 "cells": [
  {
   "cell_type": "markdown",
   "metadata": {
    "toc": true
   },
   "source": [
    "<h1>Table of Contents<span class=\"tocSkip\"></span></h1>\n",
    "<div class=\"toc\"><ul class=\"toc-item\"><li><span><a href=\"#Defining-the-network\" data-toc-modified-id=\"Defining-the-network-1\"><span class=\"toc-item-num\">1&nbsp;&nbsp;</span>Defining the network</a></span></li><li><span><a href=\"#Creating-an-object-of-MLP-class\" data-toc-modified-id=\"Creating-an-object-of-MLP-class-2\"><span class=\"toc-item-num\">2&nbsp;&nbsp;</span>Creating an object of MLP class</a></span></li><li><span><a href=\"#Inputs-and-outputs\" data-toc-modified-id=\"Inputs-and-outputs-3\"><span class=\"toc-item-num\">3&nbsp;&nbsp;</span>Inputs and outputs</a></span></li><li><span><a href=\"#Implementing-SGD-manually\" data-toc-modified-id=\"Implementing-SGD-manually-4\"><span class=\"toc-item-num\">4&nbsp;&nbsp;</span>Implementing SGD manually</a></span><ul class=\"toc-item\"><li><span><a href=\"#Method-1\" data-toc-modified-id=\"Method-1-4.1\"><span class=\"toc-item-num\">4.1&nbsp;&nbsp;</span>Method 1</a></span></li><li><span><a href=\"#Method-2\" data-toc-modified-id=\"Method-2-4.2\"><span class=\"toc-item-num\">4.2&nbsp;&nbsp;</span>Method 2</a></span></li></ul></li></ul></div>"
   ]
  },
  {
   "cell_type": "markdown",
   "metadata": {},
   "source": [
    "# Implementing SGD manually"
   ]
  },
  {
   "cell_type": "markdown",
   "metadata": {},
   "source": [
    "## Defining the network"
   ]
  },
  {
   "cell_type": "code",
   "execution_count": 7,
   "metadata": {
    "ExecuteTime": {
     "end_time": "2020-04-22T09:57:23.477041Z",
     "start_time": "2020-04-22T09:57:23.473086Z"
    }
   },
   "outputs": [],
   "source": [
    "import torch\n",
    "import torch.nn as nn\n",
    "\n",
    "class MLP(nn.Module):\n",
    "    def __init__(self, n_in, n_hid, n_out):\n",
    "        super(MLP, self).__init__()\n",
    "        self.hid = nn.Linear(n_in, n_hid)\n",
    "        self.out = nn.Linear(n_hid, n_out)\n",
    "        \n",
    "    def forward(self, x):\n",
    "        y = self.hid(x)\n",
    "        y = torch.relu(y)\n",
    "        y = self.out(y)\n",
    "        y = torch.sigmoid(y)\n",
    "        return y"
   ]
  },
  {
   "cell_type": "markdown",
   "metadata": {},
   "source": [
    "## Creating an object of MLP class"
   ]
  },
  {
   "cell_type": "code",
   "execution_count": 8,
   "metadata": {
    "ExecuteTime": {
     "end_time": "2020-04-22T09:57:23.538356Z",
     "start_time": "2020-04-22T09:57:23.535685Z"
    }
   },
   "outputs": [],
   "source": [
    "model = MLP(10, 5, 1)"
   ]
  },
  {
   "cell_type": "markdown",
   "metadata": {},
   "source": [
    "## Inputs and outputs"
   ]
  },
  {
   "cell_type": "code",
   "execution_count": 9,
   "metadata": {
    "ExecuteTime": {
     "end_time": "2020-04-22T09:57:23.599114Z",
     "start_time": "2020-04-22T09:57:23.596646Z"
    }
   },
   "outputs": [],
   "source": [
    "x = torch.randn(15, 10)\n",
    "y = torch.randn(15, 1)"
   ]
  },
  {
   "cell_type": "markdown",
   "metadata": {},
   "source": [
    "## Implementing SGD manually"
   ]
  },
  {
   "cell_type": "markdown",
   "metadata": {},
   "source": [
    "### Method 1"
   ]
  },
  {
   "cell_type": "code",
   "execution_count": 10,
   "metadata": {
    "ExecuteTime": {
     "end_time": "2020-04-22T09:57:23.722792Z",
     "start_time": "2020-04-22T09:57:23.711462Z"
    }
   },
   "outputs": [
    {
     "name": "stdout",
     "output_type": "stream",
     "text": [
      "Epoch:     1/  10 ==> Loss: 1.0676789283752441\n",
      "Epoch:     2/  10 ==> Loss: 1.066733717918396\n",
      "Epoch:     3/  10 ==> Loss: 1.0657926797866821\n",
      "Epoch:     4/  10 ==> Loss: 1.064855694770813\n",
      "Epoch:     5/  10 ==> Loss: 1.0639225244522095\n",
      "Epoch:     6/  10 ==> Loss: 1.0629934072494507\n",
      "Epoch:     7/  10 ==> Loss: 1.062068223953247\n",
      "Epoch:     8/  10 ==> Loss: 1.061146855354309\n",
      "Epoch:     9/  10 ==> Loss: 1.0602294206619263\n",
      "Epoch:    10/  10 ==> Loss: 1.0593159198760986\n"
     ]
    }
   ],
   "source": [
    "loss_fn = nn.MSELoss()\n",
    "lr = 0.01\n",
    "\n",
    "epochs = 10\n",
    "for epoch in range(epochs):\n",
    "    y_pred1 = model(x)\n",
    "    loss1 = loss_fn(y, y_pred1)\n",
    "    loss1.backward()\n",
    "    for child in model.children(): #Get each layer of the model\n",
    "        with torch.no_grad(): #requires_grad needs to be switched off while updating weights and biases\n",
    "            child.weight -= lr*child.weight.grad #Updating weights\n",
    "            child.bias   -= lr*child.bias.grad #Updating biases\n",
    "        child.weight.grad.zero_() #Afer weights and biases are updated,\n",
    "        child.bias.grad.zero_()   #set the gradiants of weights and biases to zero\n",
    "    print(\"Epoch: \", \"{:4d}/{:4d} ==>\".format(epoch+1,epochs), \"Loss:\", loss1.item())"
   ]
  },
  {
   "cell_type": "markdown",
   "metadata": {},
   "source": [
    "### Method 2"
   ]
  },
  {
   "cell_type": "code",
   "execution_count": 12,
   "metadata": {
    "ExecuteTime": {
     "end_time": "2020-04-22T09:59:29.413319Z",
     "start_time": "2020-04-22T09:59:29.381868Z"
    }
   },
   "outputs": [
    {
     "name": "stdout",
     "output_type": "stream",
     "text": [
      "Epoch:     1/  10 ==> Loss: 1.0495771169662476\n",
      "Epoch:     2/  10 ==> Loss: 1.0487186908721924\n",
      "Epoch:     3/  10 ==> Loss: 1.0478636026382446\n",
      "Epoch:     4/  10 ==> Loss: 1.0470119714736938\n",
      "Epoch:     5/  10 ==> Loss: 1.0461636781692505\n",
      "Epoch:     6/  10 ==> Loss: 1.045318841934204\n",
      "Epoch:     7/  10 ==> Loss: 1.0444772243499756\n",
      "Epoch:     8/  10 ==> Loss: 1.043639063835144\n",
      "Epoch:     9/  10 ==> Loss: 1.04280424118042\n",
      "Epoch:    10/  10 ==> Loss: 1.0419726371765137\n"
     ]
    }
   ],
   "source": [
    "loss_fn = nn.MSELoss()\n",
    "lr = 0.01\n",
    "\n",
    "epochs = 10\n",
    "for epoch in range(epochs):\n",
    "    y_pred2 = model(x)\n",
    "    loss2 = loss_fn(y, y_pred2)\n",
    "    loss2.backward()\n",
    "    for param in model.parameters():\n",
    "        with torch.no_grad(): #requires_grad needs to be switched off while updating weights and biases\n",
    "            param -= lr*param.grad #Updating parameters\n",
    "        param.grad.zero_() #Afer weights and biases are updated, set the gradiants of parameters to zero\n",
    "    print(\"Epoch: \", \"{:4d}/{:4d} ==>\".format(epoch+1,epochs), \"Loss:\", loss2.item())"
   ]
  }
 ],
 "metadata": {
  "kernelspec": {
   "display_name": "Python 3",
   "language": "python",
   "name": "python3"
  },
  "language_info": {
   "codemirror_mode": {
    "name": "ipython",
    "version": 3
   },
   "file_extension": ".py",
   "mimetype": "text/x-python",
   "name": "python",
   "nbconvert_exporter": "python",
   "pygments_lexer": "ipython3",
   "version": "3.7.6"
  },
  "latex_envs": {
   "LaTeX_envs_menu_present": true,
   "autoclose": false,
   "autocomplete": true,
   "bibliofile": "biblio.bib",
   "cite_by": "apalike",
   "current_citInitial": 1,
   "eqLabelWithNumbers": true,
   "eqNumInitial": 1,
   "hotkeys": {
    "equation": "Ctrl-E",
    "itemize": "Ctrl-I"
   },
   "labels_anchors": false,
   "latex_user_defs": false,
   "report_style_numbering": false,
   "user_envs_cfg": false
  },
  "nbTranslate": {
   "displayLangs": [
    "*"
   ],
   "hotkey": "alt-t",
   "langInMainMenu": true,
   "sourceLang": "en",
   "targetLang": "fr",
   "useGoogleTranslate": true
  },
  "toc": {
   "base_numbering": 1,
   "nav_menu": {},
   "number_sections": true,
   "sideBar": true,
   "skip_h1_title": true,
   "title_cell": "Table of Contents",
   "title_sidebar": "Contents",
   "toc_cell": true,
   "toc_position": {
    "height": "calc(100% - 180px)",
    "left": "10px",
    "top": "150px",
    "width": "374.2px"
   },
   "toc_section_display": true,
   "toc_window_display": true
  },
  "varInspector": {
   "cols": {
    "lenName": 16,
    "lenType": 16,
    "lenVar": 40
   },
   "kernels_config": {
    "python": {
     "delete_cmd_postfix": "",
     "delete_cmd_prefix": "del ",
     "library": "var_list.py",
     "varRefreshCmd": "print(var_dic_list())"
    },
    "r": {
     "delete_cmd_postfix": ") ",
     "delete_cmd_prefix": "rm(",
     "library": "var_list.r",
     "varRefreshCmd": "cat(var_dic_list()) "
    }
   },
   "types_to_exclude": [
    "module",
    "function",
    "builtin_function_or_method",
    "instance",
    "_Feature"
   ],
   "window_display": false
  }
 },
 "nbformat": 4,
 "nbformat_minor": 4
}
