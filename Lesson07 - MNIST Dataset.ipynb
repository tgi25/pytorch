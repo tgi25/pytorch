{
 "cells": [
  {
   "cell_type": "markdown",
   "metadata": {},
   "source": [
    "# MNIST Dataset"
   ]
  },
  {
   "cell_type": "markdown",
   "metadata": {},
   "source": [
    "From Wikipedia, the free encyclopedia (https://en.wikipedia.org/wiki/MNIST_database)\n",
    "\n",
    "The MNIST database (Modified National Institute of Standards and Technology database) is a large database of handwritten digits that is commonly used for training various image processing systems.The database is also widely used for training and testing in the field of machine learning. It was created by \"re-mixing\" the samples from NIST's original datasets. The creators felt that since NIST's training dataset was taken from American Census Bureau employees, while the testing dataset was taken from American high school students, it was not well-suited for machine learning experiments. Furthermore, the black and white images from NIST were normalized to fit into a 28x28 pixel bounding box and anti-aliased, which introduced grayscale levels.\n",
    "\n",
    "The MNIST database contains 60,000 training images and 10,000 testing images. Half of the training set and half of the test set were taken from NIST's training dataset, while the other half of the training set and the other half of the test set were taken from NIST's testing dataset. There have been a number of scientific papers on attempts to achieve the lowest error rate; one paper, using a hierarchical system of convolutional neural networks, manages to get an error rate on the MNIST database of 0.23 percent. The original creators of the database keep a list of some of the methods tested on it. In their original paper, they use a support vector machine to get an error rate of 0.8 percent.An extended dataset similar to MNIST called EMNIST has been published in 2017, which contains 240,000 training images, and 40,000 testing images of handwritten digits.\n",
    "\n",
    "THE MNIST DATABASE of handwritten digits - http://yann.lecun.com/exdb/mnist/"
   ]
  },
  {
   "cell_type": "markdown",
   "metadata": {
    "toc": true
   },
   "source": [
    "<h1>Table of Contents<span class=\"tocSkip\"></span></h1>\n",
    "<div class=\"toc\"><ul class=\"toc-item\"><li><span><a href=\"#Loading-and-processing-the-dataset\" data-toc-modified-id=\"Loading-and-processing-the-dataset-1\"><span class=\"toc-item-num\">1&nbsp;&nbsp;</span>Loading and processing the dataset</a></span><ul class=\"toc-item\"><li><span><a href=\"#Loading-data\" data-toc-modified-id=\"Loading-data-1.1\"><span class=\"toc-item-num\">1.1&nbsp;&nbsp;</span>Loading data</a></span></li><li><span><a href=\"#Extract-data-and-targets\" data-toc-modified-id=\"Extract-data-and-targets-1.2\"><span class=\"toc-item-num\">1.2&nbsp;&nbsp;</span>Extract data and targets</a></span></li><li><span><a href=\"#Cast-data-to-float32\" data-toc-modified-id=\"Cast-data-to-float32-1.3\"><span class=\"toc-item-num\">1.3&nbsp;&nbsp;</span>Cast data to float32</a></span></li><li><span><a href=\"#Add-a-dimension-to-tensor-to-become-batch_size-*-channels-*-height-*-width\" data-toc-modified-id=\"Add-a-dimension-to-tensor-to-become-batch_size-*-channels-*-height-*-width-1.4\"><span class=\"toc-item-num\">1.4&nbsp;&nbsp;</span>Add a dimension to tensor to become batch_size * channels * height * width</a></span></li><li><span><a href=\"#Display-images\" data-toc-modified-id=\"Display-images-1.5\"><span class=\"toc-item-num\">1.5&nbsp;&nbsp;</span>Display images</a></span></li></ul></li><li><span><a href=\"#Wrap-tensors-into-datasets\" data-toc-modified-id=\"Wrap-tensors-into-datasets-2\"><span class=\"toc-item-num\">2&nbsp;&nbsp;</span>Wrap tensors into datasets</a></span><ul class=\"toc-item\"><li><span><a href=\"#Iterate-over-dataset\" data-toc-modified-id=\"Iterate-over-dataset-2.1\"><span class=\"toc-item-num\">2.1&nbsp;&nbsp;</span>Iterate over dataset</a></span></li></ul></li><li><span><a href=\"#Is-the-training-dataset-balanced?\" data-toc-modified-id=\"Is-the-training-dataset-balanced?-3\"><span class=\"toc-item-num\">3&nbsp;&nbsp;</span>Is the training dataset balanced?</a></span><ul class=\"toc-item\"><li><span><a href=\"#Computing-the-frequency-of-each-digit\" data-toc-modified-id=\"Computing-the-frequency-of-each-digit-3.1\"><span class=\"toc-item-num\">3.1&nbsp;&nbsp;</span>Computing the frequency of each digit</a></span></li><li><span><a href=\"#Computing-the-percentages-of-each-digit-in-the-training-dataset\" data-toc-modified-id=\"Computing-the-percentages-of-each-digit-in-the-training-dataset-3.2\"><span class=\"toc-item-num\">3.2&nbsp;&nbsp;</span>Computing the percentages of each digit in the training dataset</a></span></li><li><span><a href=\"#Plotting-percentages-of-each-digit-in-a-bar-chart\" data-toc-modified-id=\"Plotting-percentages-of-each-digit-in-a-bar-chart-3.3\"><span class=\"toc-item-num\">3.3&nbsp;&nbsp;</span>Plotting percentages of each digit in a bar chart</a></span></li></ul></li></ul></div>"
   ]
  },
  {
   "cell_type": "markdown",
   "metadata": {},
   "source": [
    "## Loading and processing the dataset"
   ]
  },
  {
   "cell_type": "markdown",
   "metadata": {},
   "source": [
    "### Loading data"
   ]
  },
  {
   "cell_type": "code",
   "execution_count": 117,
   "metadata": {
    "ExecuteTime": {
     "end_time": "2020-04-12T18:59:05.587410Z",
     "start_time": "2020-04-12T18:59:05.568332Z"
    }
   },
   "outputs": [],
   "source": [
    "import torch\n",
    "from torchvision import datasets, transforms\n",
    "\n",
    "#Loading training data\n",
    "train = datasets.MNIST(\n",
    "    root=\"\", #Folder where the dataset to be stored; empty means stored in current folder\n",
    "    train=True, #Download the 'training' dataset, False => download 'test' dataset\n",
    "    download=True, #Should be 'True' in the first time downling the dataset, else 'False'\n",
    ")\n",
    "\n",
    "#Loading test data\n",
    "test = datasets.MNIST(\n",
    "    root=\"\",\n",
    "    train=False,\n",
    "    download=True,\n",
    ")"
   ]
  },
  {
   "cell_type": "markdown",
   "metadata": {},
   "source": [
    "### Extract data and targets"
   ]
  },
  {
   "cell_type": "code",
   "execution_count": 118,
   "metadata": {
    "ExecuteTime": {
     "end_time": "2020-04-12T18:59:05.609274Z",
     "start_time": "2020-04-12T18:59:05.604659Z"
    }
   },
   "outputs": [
    {
     "name": "stdout",
     "output_type": "stream",
     "text": [
      "trainX => shape =  torch.Size([60000, 28, 28]) type =  torch.uint8\n",
      "trainY => shape =  torch.Size([60000]) type =  torch.int64\n",
      "testX  => shape =  torch.Size([10000, 28, 28]) type =  torch.uint8\n",
      "testY  => shape =  torch.Size([10000]) type =  torch.int64\n"
     ]
    }
   ],
   "source": [
    "trainX, trainY = train.data, train.targets\n",
    "testX,  testY  = test.data,  test.targets\n",
    "\n",
    "print(\"trainX =>\", \"shape = \", trainX.shape, \"type = \", trainX.dtype)\n",
    "print(\"trainY =>\", \"shape = \", trainY.shape, \"type = \", trainY.dtype)\n",
    "print(\"testX  =>\", \"shape = \", testX.shape,  \"type = \", testX.dtype)\n",
    "print(\"testY  =>\", \"shape = \", testY.shape,  \"type = \", testY.dtype)"
   ]
  },
  {
   "cell_type": "markdown",
   "metadata": {},
   "source": [
    "### Cast data to float32"
   ]
  },
  {
   "cell_type": "code",
   "execution_count": 119,
   "metadata": {
    "ExecuteTime": {
     "end_time": "2020-04-12T18:59:05.654096Z",
     "start_time": "2020-04-12T18:59:05.632909Z"
    }
   },
   "outputs": [
    {
     "name": "stdout",
     "output_type": "stream",
     "text": [
      "trainX => shape =  torch.Size([60000, 28, 28]) type =  torch.float32\n",
      "testX  => shape =  torch.Size([10000, 28, 28]) type =  torch.float32\n"
     ]
    }
   ],
   "source": [
    "trainX = trainX.type(dtype=torch.float32)\n",
    "testX  = testX.type(dtype=torch.float32)\n",
    "\n",
    "print(\"trainX =>\", \"shape = \", trainX.shape, \"type = \", trainX.dtype)\n",
    "print(\"testX  =>\", \"shape = \", testX.shape,  \"type = \", testX.dtype)"
   ]
  },
  {
   "cell_type": "markdown",
   "metadata": {},
   "source": [
    "### Add a dimension to tensor to become batch_size * channels * height * width"
   ]
  },
  {
   "cell_type": "code",
   "execution_count": 120,
   "metadata": {
    "ExecuteTime": {
     "end_time": "2020-04-12T18:59:05.671838Z",
     "start_time": "2020-04-12T18:59:05.667631Z"
    }
   },
   "outputs": [
    {
     "name": "stdout",
     "output_type": "stream",
     "text": [
      "\n",
      "trainX => shape =  torch.Size([60000, 1, 28, 28]) type =  torch.float32\n",
      "testX  => shape =  torch.Size([10000, 1, 28, 28]) type =  torch.float32\n"
     ]
    }
   ],
   "source": [
    "#Returns a tensor with a dimension of size 1 inserted at specified position\n",
    "trainX = torch.unsqueeze(trainX, 1) #Position here = 1 (second dimension)\n",
    "testX  = torch.unsqueeze(testX, 1)\n",
    "print()\n",
    "print(\"trainX =>\", \"shape = \", trainX.shape, \"type = \", trainX.dtype)\n",
    "print(\"testX  =>\", \"shape = \", testX.shape,  \"type = \", testX.dtype)"
   ]
  },
  {
   "cell_type": "markdown",
   "metadata": {},
   "source": [
    "### Display images"
   ]
  },
  {
   "cell_type": "code",
   "execution_count": 121,
   "metadata": {
    "ExecuteTime": {
     "end_time": "2020-04-12T18:59:05.784421Z",
     "start_time": "2020-04-12T18:59:05.691660Z"
    }
   },
   "outputs": [
    {
     "data": {
      "text/plain": [
       "<matplotlib.image.AxesImage at 0x7f06b120d8d0>"
      ]
     },
     "execution_count": 121,
     "metadata": {},
     "output_type": "execute_result"
    },
    {
     "data": {
      "image/png": "[encoded data removed]",
      "text/plain": [
       "<Figure size 432x288 with 1 Axes>"
      ]
     },
     "metadata": {
      "needs_background": "light"
     },
     "output_type": "display_data"
    }
   ],
   "source": [
    "import matplotlib.pyplot as plt\n",
    "\n",
    "plt.imshow(trainX[0].view(28,28))"
   ]
  },
  {
   "cell_type": "markdown",
   "metadata": {},
   "source": [
    "## Wrap tensors into datasets"
   ]
  },
  {
   "cell_type": "code",
   "execution_count": 122,
   "metadata": {
    "ExecuteTime": {
     "end_time": "2020-04-12T18:59:05.789106Z",
     "start_time": "2020-04-12T18:59:05.785566Z"
    }
   },
   "outputs": [
    {
     "name": "stdout",
     "output_type": "stream",
     "text": [
      "xDS =>  shape =  torch.Size([1, 28, 28]) type =  torch.float32\n",
      "yDS =>  shape =  torch.Size([]) type =  torch.int64\n"
     ]
    }
   ],
   "source": [
    "from torch.utils.data import TensorDataset\n",
    "\n",
    "trainDS = TensorDataset(trainX, trainY)\n",
    "\n",
    "for xDS,yDS in trainDS:\n",
    "    print(\"xDS => \", \"shape = \", xDS.shape, \"type = \", xDS.dtype)\n",
    "    print(\"yDS => \", \"shape = \", yDS.shape, \"type = \", yDS.dtype)\n",
    "    break"
   ]
  },
  {
   "cell_type": "markdown",
   "metadata": {},
   "source": [
    "### Iterate over dataset"
   ]
  },
  {
   "cell_type": "code",
   "execution_count": 127,
   "metadata": {
    "ExecuteTime": {
     "end_time": "2020-04-12T19:03:40.661806Z",
     "start_time": "2020-04-12T19:03:40.648511Z"
    }
   },
   "outputs": [
    {
     "name": "stdout",
     "output_type": "stream",
     "text": [
      "xDL =>  shape =  torch.Size([8, 1, 28, 28]) type =  torch.float32\n",
      "yDL =>  shape =  torch.Size([8]) type =  torch.int64\n"
     ]
    }
   ],
   "source": [
    "from torch.utils.data import DataLoader\n",
    "\n",
    "trainDL = DataLoader(trainDS, batch_size=8, shuffle=True)\n",
    "\n",
    "for xDL, yDL in trainDL:\n",
    "    print(\"xDL => \", \"shape = \", xDL.shape, \"type = \", xDL.dtype)\n",
    "    print(\"yDL => \", \"shape = \", yDL.shape, \"type = \", yDL.dtype)\n",
    "    break"
   ]
  },
  {
   "cell_type": "code",
   "execution_count": 133,
   "metadata": {
    "ExecuteTime": {
     "end_time": "2020-04-12T19:06:51.787636Z",
     "start_time": "2020-04-12T19:06:51.696394Z"
    }
   },
   "outputs": [
    {
     "data": {
      "text/plain": [
       "<matplotlib.image.AxesImage at 0x7f06b238ab50>"
      ]
     },
     "execution_count": 133,
     "metadata": {},
     "output_type": "execute_result"
    },
    {
     "data": {
      "image/png": "[encoded data removed]",
      "text/plain": [
       "<Figure size 432x288 with 1 Axes>"
      ]
     },
     "metadata": {
      "needs_background": "light"
     },
     "output_type": "display_data"
    }
   ],
   "source": [
    "plt.imshow(xDL[0].view(28,28)) #Display the first image of the batch"
   ]
  },
  {
   "cell_type": "markdown",
   "metadata": {},
   "source": [
    "## Is the training dataset balanced?"
   ]
  },
  {
   "cell_type": "markdown",
   "metadata": {},
   "source": [
    "### Computing the frequency of each digit"
   ]
  },
  {
   "cell_type": "code",
   "execution_count": 134,
   "metadata": {
    "ExecuteTime": {
     "end_time": "2020-04-12T19:14:26.642631Z",
     "start_time": "2020-04-12T19:14:26.056744Z"
    }
   },
   "outputs": [
    {
     "name": "stdout",
     "output_type": "stream",
     "text": [
      "Count of each digit =>  {0: 5923, 1: 6742, 2: 5958, 3: 6131, 4: 5842, 5: 5421, 6: 5918, 7: 6265, 8: 5851, 9: 5949}\n",
      "Total number of digits in the MNIST training dataset =  60000\n"
     ]
    }
   ],
   "source": [
    "total = 0\n",
    "count_dictionary = {0:0, 1:0, 2:0, 3:0, 4:0, 5:0, 6:0, 7:0, 8:0, 9:0}\n",
    "\n",
    "for Xs, ys in trainDL:\n",
    "    for y in ys:\n",
    "        count_dictionary[int(y)] += 1\n",
    "        total += 1\n",
    "\n",
    "print(\"Count of each digit => \", count_dictionary)        \n",
    "print(\"Total number of digits in the MNIST training dataset = \", total)"
   ]
  },
  {
   "cell_type": "markdown",
   "metadata": {},
   "source": [
    "### Computing the percentages of each digit in the training dataset"
   ]
  },
  {
   "cell_type": "code",
   "execution_count": 137,
   "metadata": {
    "ExecuteTime": {
     "end_time": "2020-04-12T19:20:33.128109Z",
     "start_time": "2020-04-12T19:20:33.114827Z"
    }
   },
   "outputs": [
    {
     "name": "stdout",
     "output_type": "stream",
     "text": [
      "{0: 9.871666666666666, 1: 11.236666666666666, 2: 9.93, 3: 10.218333333333334, 4: 9.736666666666666, 5: 9.035, 6: 9.863333333333333, 7: 10.441666666666666, 8: 9.751666666666667, 9: 9.915000000000001}\n"
     ]
    }
   ],
   "source": [
    "percentage_dictionary = {0:0.0, 1:0.0, 2:0.0, 3:0.0, 4:0.0, 5:0.0, 6:0.0, 7:0.0, 8:0.0, 9:0.0}\n",
    "\n",
    "for i in count_dictionary:\n",
    "    percentage_dictionary[i] = count_dictionary[i]/total * 100\n",
    "    \n",
    "print(percentage_dictionary)"
   ]
  },
  {
   "cell_type": "markdown",
   "metadata": {},
   "source": [
    "### Plotting percentages of each digit in a bar chart"
   ]
  },
  {
   "cell_type": "code",
   "execution_count": 144,
   "metadata": {
    "ExecuteTime": {
     "end_time": "2020-04-12T19:26:52.891756Z",
     "start_time": "2020-04-12T19:26:52.793879Z"
    }
   },
   "outputs": [
    {
     "data": {
      "image/png": "[encoded data removed]",
      "text/plain": [
       "<Figure size 432x288 with 1 Axes>"
      ]
     },
     "metadata": {
      "needs_background": "light"
     },
     "output_type": "display_data"
    }
   ],
   "source": [
    "plt.bar(range(len(percentage_dictionary)), list(percentage_dictionary.values()), align='center')\n",
    "plt.xticks(range(len(percentage_dictionary)), list(percentage_dictionary.keys()))\n",
    "plt.title(\"Percentage of each digit\")\n",
    "plt.xlabel(\"Digit\")\n",
    "plt.ylabel(\"Percentage\")\n",
    "plt.show()"
   ]
  }
 ],
 "metadata": {
  "kernelspec": {
   "display_name": "Python 3",
   "language": "python",
   "name": "python3"
  },
  "language_info": {
   "codemirror_mode": {
    "name": "ipython",
    "version": 3
   },
   "file_extension": ".py",
   "mimetype": "text/x-python",
   "name": "python",
   "nbconvert_exporter": "python",
   "pygments_lexer": "ipython3",
   "version": "3.7.6"
  },
  "nbTranslate": {
   "displayLangs": [
    "*"
   ],
   "hotkey": "alt-t",
   "langInMainMenu": true,
   "sourceLang": "en",
   "targetLang": "fr",
   "useGoogleTranslate": true
  },
  "toc": {
   "base_numbering": 1,
   "nav_menu": {},
   "number_sections": true,
   "sideBar": true,
   "skip_h1_title": true,
   "title_cell": "Table of Contents",
   "title_sidebar": "Contents",
   "toc_cell": true,
   "toc_position": {
    "height": "calc(100% - 180px)",
    "left": "10px",
    "top": "150px",
    "width": "374.2px"
   },
   "toc_section_display": true,
   "toc_window_display": true
  },
  "varInspector": {
   "cols": {
    "lenName": 16,
    "lenType": 16,
    "lenVar": 40
   },
   "kernels_config": {
    "python": {
     "delete_cmd_postfix": "",
     "delete_cmd_prefix": "del ",
     "library": "var_list.py",
     "varRefreshCmd": "print(var_dic_list())"
    },
    "r": {
     "delete_cmd_postfix": ") ",
     "delete_cmd_prefix": "rm(",
     "library": "var_list.r",
     "varRefreshCmd": "cat(var_dic_list()) "
    }
   },
   "types_to_exclude": [
    "module",
    "function",
    "builtin_function_or_method",
    "instance",
    "_Feature"
   ],
   "window_display": false
  }
 },
 "nbformat": 4,
 "nbformat_minor": 4
}
