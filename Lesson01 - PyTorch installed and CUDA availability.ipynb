{
 "cells": [
  {
   "cell_type": "markdown",
   "metadata": {
    "toc": true
   },
   "source": [
    "<h1>Table of Contents<span class=\"tocSkip\"></span></h1>\n",
    "<div class=\"toc\"><ul class=\"toc-item\"><li><span><a href=\"#Loading-required-modules\" data-toc-modified-id=\"Loading-required-modules-1\"><span class=\"toc-item-num\">1&nbsp;&nbsp;</span>Loading required modules</a></span><ul class=\"toc-item\"><li><span><a href=\"#Module-versions\" data-toc-modified-id=\"Module-versions-1.1\"><span class=\"toc-item-num\">1.1&nbsp;&nbsp;</span>Module versions</a></span></li></ul></li><li><span><a href=\"#GPU/CUDA-availability\" data-toc-modified-id=\"GPU/CUDA-availability-2\"><span class=\"toc-item-num\">2&nbsp;&nbsp;</span>GPU/CUDA availability</a></span><ul class=\"toc-item\"><li><span><a href=\"#Move-tensors-between-CPU-and-GPU\" data-toc-modified-id=\"Move-tensors-between-CPU-and-GPU-2.1\"><span class=\"toc-item-num\">2.1&nbsp;&nbsp;</span>Move tensors between CPU and GPU</a></span></li></ul></li></ul></div>"
   ]
  },
  {
   "cell_type": "markdown",
   "metadata": {},
   "source": [
    "# Loading required modules"
   ]
  },
  {
   "cell_type": "code",
   "execution_count": 9,
   "metadata": {
    "ExecuteTime": {
     "end_time": "2020-04-11T09:39:51.270274Z",
     "start_time": "2020-04-11T09:39:51.268309Z"
    }
   },
   "outputs": [],
   "source": [
    "import torch\n",
    "import torchvision"
   ]
  },
  {
   "cell_type": "markdown",
   "metadata": {},
   "source": [
    "## Module versions"
   ]
  },
  {
   "cell_type": "code",
   "execution_count": 30,
   "metadata": {
    "ExecuteTime": {
     "end_time": "2020-04-11T09:55:41.137205Z",
     "start_time": "2020-04-11T09:55:41.131002Z"
    },
    "scrolled": true
   },
   "outputs": [
    {
     "name": "stdout",
     "output_type": "stream",
     "text": [
      "Torch Version =  1.4.0\n",
      "Torch Vision Version =  0.5.0\n"
     ]
    }
   ],
   "source": [
    "print(\"Torch Version = \", torch.__version__)\n",
    "print(\"Torch Vision Version = \", torchvision.__version__)"
   ]
  },
  {
   "cell_type": "markdown",
   "metadata": {},
   "source": [
    "# GPU/CUDA availability"
   ]
  },
  {
   "cell_type": "code",
   "execution_count": 29,
   "metadata": {
    "ExecuteTime": {
     "end_time": "2020-04-11T09:53:06.492595Z",
     "start_time": "2020-04-11T09:53:06.475799Z"
    }
   },
   "outputs": [
    {
     "name": "stdout",
     "output_type": "stream",
     "text": [
      "CUDA is available\n",
      "Device details\n",
      "==============\n",
      "No of GPUs available =  1\n",
      "GPU name =  GeForce RTX 2060\n",
      "Device properties =  _CudaDeviceProperties(name='GeForce RTX 2060', major=7, minor=5, total_memory=5931MB, multi_processor_count=30)\n"
     ]
    }
   ],
   "source": [
    "if torch.cuda.is_available():\n",
    "    print(\"CUDA is available\")\n",
    "    print(\"Device details\")\n",
    "    print(\"==============\")\n",
    "    print(\"No of GPUs available = \",torch.cuda.device_count())\n",
    "    print(\"GPU name = \", torch.cuda.get_device_name())\n",
    "    print(\"Device properties = \", torch.cuda.get_device_properties(torch.cuda.current_device()))\n",
    "else:\n",
    "    print(\"CUDA is not available, try Google CoLab - it's free\")"
   ]
  },
  {
   "cell_type": "markdown",
   "metadata": {},
   "source": [
    "## Move tensors between CPU and GPU"
   ]
  },
  {
   "cell_type": "code",
   "execution_count": 38,
   "metadata": {
    "ExecuteTime": {
     "end_time": "2020-04-11T10:47:28.716160Z",
     "start_time": "2020-04-11T10:47:28.686936Z"
    }
   },
   "outputs": [
    {
     "name": "stdout",
     "output_type": "stream",
     "text": [
      "x =  tensor([0.5719, 0.2477, 0.7705])\n",
      "y =  tensor([0.2526, 0.9519, 0.3531], device='cuda:0')\n",
      "x is on device =  cpu\n",
      "x is now on device =  cuda:0\n"
     ]
    }
   ],
   "source": [
    "gpu = torch.device('cuda:0')\n",
    "\n",
    "x = torch.rand(3) #Creating a random tensor of size 3 (on CPU)\n",
    "y = torch.rand(3, device=gpu) #Creating a random tensor of size 3 on GPU\n",
    "\n",
    "print(\"x = \", x)\n",
    "print(\"y = \", y)\n",
    "\n",
    "print(\"x is on device = \", x.device)\n",
    "x = x.to(gpu)\n",
    "print(\"x is now on device = \", x.device)"
   ]
  }
 ],
 "metadata": {
  "kernelspec": {
   "display_name": "Python 3",
   "language": "python",
   "name": "python3"
  },
  "language_info": {
   "codemirror_mode": {
    "name": "ipython",
    "version": 3
   },
   "file_extension": ".py",
   "mimetype": "text/x-python",
   "name": "python",
   "nbconvert_exporter": "python",
   "pygments_lexer": "ipython3",
   "version": "3.7.6"
  },
  "nbTranslate": {
   "displayLangs": [
    "*"
   ],
   "hotkey": "alt-t",
   "langInMainMenu": true,
   "sourceLang": "en",
   "targetLang": "fr",
   "useGoogleTranslate": true
  },
  "toc": {
   "base_numbering": 1,
   "nav_menu": {},
   "number_sections": true,
   "sideBar": true,
   "skip_h1_title": false,
   "title_cell": "Table of Contents",
   "title_sidebar": "Contents",
   "toc_cell": true,
   "toc_position": {
    "height": "calc(100% - 180px)",
    "left": "10px",
    "top": "150px",
    "width": "374.2px"
   },
   "toc_section_display": true,
   "toc_window_display": true
  },
  "varInspector": {
   "cols": {
    "lenName": 16,
    "lenType": 16,
    "lenVar": 40
   },
   "kernels_config": {
    "python": {
     "delete_cmd_postfix": "",
     "delete_cmd_prefix": "del ",
     "library": "var_list.py",
     "varRefreshCmd": "print(var_dic_list())"
    },
    "r": {
     "delete_cmd_postfix": ") ",
     "delete_cmd_prefix": "rm(",
     "library": "var_list.r",
     "varRefreshCmd": "cat(var_dic_list()) "
    }
   },
   "types_to_exclude": [
    "module",
    "function",
    "builtin_function_or_method",
    "instance",
    "_Feature"
   ],
   "window_display": false
  }
 },
 "nbformat": 4,
 "nbformat_minor": 4
}
